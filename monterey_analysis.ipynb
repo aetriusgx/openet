{
 "cells": [
  {
   "cell_type": "code",
   "execution_count": 1,
   "metadata": {
    "colab": {
     "base_uri": "https://localhost:8080/"
    },
    "id": "Yttp_jHy-_6P",
    "outputId": "182c89a2-4677-49c6-94dd-7f68d239bfc8"
   },
   "outputs": [],
   "source": [
    "# Google Colab specific\n",
    "# %cd ~/../content\n",
    "# !rm -rf openet\n",
    "\n",
    "# !git clone https://github.com/aetriusgx/openet.git\n",
    "# %cd openet"
   ]
  },
  {
   "cell_type": "code",
   "execution_count": 5,
   "metadata": {
    "editable": true,
    "id": "yG3o_L_Z_D3s",
    "slideshow": {
     "slide_type": ""
    },
    "tags": []
   },
   "outputs": [
    {
     "ename": "ModuleNotFoundError",
     "evalue": "No module named 'sklearn'",
     "output_type": "error",
     "traceback": [
      "\u001b[1;31m---------------------------------------------------------------------------\u001b[0m",
      "\u001b[1;31mModuleNotFoundError\u001b[0m                       Traceback (most recent call last)",
      "Cell \u001b[1;32mIn[5], line 3\u001b[0m\n\u001b[0;32m      1\u001b[0m \u001b[38;5;28;01mfrom\u001b[39;00m \u001b[38;5;21;01mdatetime\u001b[39;00m \u001b[38;5;28;01mimport\u001b[39;00m datetime\n\u001b[0;32m      2\u001b[0m \u001b[38;5;28;01mfrom\u001b[39;00m \u001b[38;5;21;01mpathlib\u001b[39;00m \u001b[38;5;28;01mimport\u001b[39;00m Path\n\u001b[1;32m----> 3\u001b[0m \u001b[38;5;28;01mfrom\u001b[39;00m \u001b[38;5;21;01msklearn\u001b[39;00m\u001b[38;5;21;01m.\u001b[39;00m\u001b[38;5;21;01mmetrics\u001b[39;00m \u001b[38;5;28;01mimport\u001b[39;00m mean_absolute_error, mean_squared_error, r2_score\n\u001b[0;32m      5\u001b[0m \u001b[38;5;28;01mimport\u001b[39;00m \u001b[38;5;21;01mjson\u001b[39;00m\n\u001b[0;32m      6\u001b[0m \u001b[38;5;28;01mimport\u001b[39;00m \u001b[38;5;21;01mpandas\u001b[39;00m \u001b[38;5;28;01mas\u001b[39;00m \u001b[38;5;21;01mpd\u001b[39;00m\n",
      "\u001b[1;31mModuleNotFoundError\u001b[0m: No module named 'sklearn'"
     ]
    }
   ],
   "source": [
    "from datetime import datetime\n",
    "from pathlib import Path\n",
    "from sklearn.metrics import mean_absolute_error, mean_squared_error, r2_score\n",
    "\n",
    "import json\n",
    "import pandas as pd\n",
    "import numpy as np\n",
    "import matplotlib.pyplot as plt\n",
    "import matplotlib.ticker as mtick\n",
    "import seaborn as sns\n",
    "\n",
    "sns.set_theme()"
   ]
  },
  {
   "cell_type": "code",
   "execution_count": null,
   "metadata": {
    "colab": {
     "base_uri": "https://localhost:8080/"
    },
    "id": "yduHfSC9_GU8",
    "outputId": "bd35df3b-e4b0-4d4b-feb4-bc0f168cfdba"
   },
   "outputs": [],
   "source": [
    "historical = pd.read_csv('./data/monterey_historical.csv', low_memory=False)\n",
    "historical['time'] = pd.to_datetime(historical['time'])\n",
    "historical.info()"
   ]
  },
  {
   "cell_type": "code",
   "execution_count": null,
   "metadata": {
    "colab": {
     "base_uri": "https://localhost:8080/"
    },
    "id": "_RHRQydpAyZF",
    "outputId": "f7b8b916-a475-4202-8a6c-b2f12d8d4a03"
   },
   "outputs": [],
   "source": [
    "# Gather current forecast data for the county\n",
    "forecasting_table = pd.DataFrame()\n",
    "files = Path(f\"data/forecasts/monterey/\").glob(\"*.csv\")\n",
    "\n",
    "for file in files:\n",
    "    # splits into [$date, 'forecast.csv']\n",
    "    parts = str(file.name).split(\"_\")\n",
    "    data = pd.read_csv(file, low_memory=False)\n",
    "    data[\"forecasting_date\"] = parts[0]\n",
    "    forecasting_table = pd.concat([data, forecasting_table], ignore_index=True)\n",
    "\n",
    "forecasting_table['forecasting_date'] = pd.to_datetime(forecasting_table['forecasting_date'])\n",
    "forecasting_table['time'] = pd.to_datetime(forecasting_table['time'])\n",
    "forecasting_table.info()"
   ]
  },
  {
   "cell_type": "code",
   "execution_count": null,
   "metadata": {
    "colab": {
     "base_uri": "https://localhost:8080/",
     "height": 443
    },
    "id": "9Ve3CJFfBnG6",
    "outputId": "de970191-2686-4385-896a-f1eeca3d4f53"
   },
   "outputs": [],
   "source": [
    "dt = historical.loc[(historical['time'].dt.year == 2024), :]\n",
    "dt = dt.merge(forecasting_table, on=['field_id', 'time', 'crop'], how='right').set_index(['forecasting_date', 'field_id', 'crop', 'time']).reset_index()\n",
    "dt"
   ]
  },
  {
   "cell_type": "code",
   "execution_count": null,
   "metadata": {
    "colab": {
     "base_uri": "https://localhost:8080/"
    },
    "id": "OdDQloVo_e3a",
    "outputId": "e30d6ea1-7dab-4974-c13b-2140294fab82"
   },
   "outputs": [],
   "source": [
    "# Add additional data to the data table\n",
    "monterey_points = pd.read_csv(\"./Monterey.csv\", low_memory=False).set_index(\"OPENET_ID\").rename_axis(\"field_id\")\n",
    "\n",
    "# Expand .geo column into lon, lat columns\n",
    "monterey_geo = (monterey_points[\".geo\"]\n",
    "                .apply(lambda x: pd.Series(dict(json.loads(x))))['coordinates']\n",
    "                .apply(lambda x: pd.Series(list(x), index=['longitude', 'latitude'])))\n",
    "monterey_geo.info()"
   ]
  },
  {
   "cell_type": "code",
   "execution_count": null,
   "metadata": {
    "colab": {
     "base_uri": "https://localhost:8080/"
    },
    "id": "_DiLgqzP_wGy",
    "outputId": "f4bc18f6-528c-4b5d-822f-b6d2e2df17b6"
   },
   "outputs": [],
   "source": [
    "dt = dt.join(monterey_geo, how=\"left\", on=[\"field_id\"], validate=\"many_to_one\")\n",
    "dt.info()"
   ]
  },
  {
   "cell_type": "code",
   "execution_count": null,
   "metadata": {
    "colab": {
     "base_uri": "https://localhost:8080/"
    },
    "id": "K-7q7kOi_tNn",
    "outputId": "b1c4d962-9d23-4358-b181-f6f9aeeb6600"
   },
   "outputs": [],
   "source": [
    "# Add crop data\n",
    "cdl_codes = pd.read_csv(\"cdl_codes.csv\", low_memory=False).set_index(\"Codes\")\n",
    "\n",
    "dt = dt.join(cdl_codes, how=\"left\", on=\"crop\", validate=\"many_to_many\")\n",
    "dt.info()"
   ]
  },
  {
   "cell_type": "code",
   "execution_count": null,
   "metadata": {
    "id": "U1aePlI6ENzS"
   },
   "outputs": [],
   "source": [
    "forecast_dates = forecasting_table['forecasting_date'].unique()\n",
    "fields = dt['field_id'].unique()\n",
    "crops = dt['crop'].unique()"
   ]
  },
  {
   "cell_type": "markdown",
   "metadata": {
    "id": "rK2Q2ay1EYmi"
   },
   "source": [
    "# Analysis"
   ]
  },
  {
   "cell_type": "markdown",
   "metadata": {
    "id": "lvm5sm2GEaO5"
   },
   "source": [
    "## Helpers\n",
    "Below are functions that are being used to calculate data and generate plots."
   ]
  },
  {
   "cell_type": "markdown",
   "metadata": {
    "id": "I1hY1EDlEnFp"
   },
   "source": [
    "### calculate_metrics\n",
    "This function calculate the mean absolute error (mae), root mean squared error (rmse), mean forecast error (bias), correlation coefficient (R), and skill score.\n",
    "\n",
    "MAE, RMSE, and R are calculated using sklearn's metric module.\n",
    "\n",
    "Skill score is calculated by getting the climatology for each field within the input's date range.\n",
    "* Negative skill scores indicate the MSE for forecast is larger than the MSE for climatology\n",
    "* Positive skill scores indicate otherwise\n",
    "\n",
    "The function is very flexible given the data is formatted appropriately. It has the option of enabling normalization which is based on the average specified variable (ET, ETo, or ETof) throughout that field's historical data."
   ]
  },
  {
   "cell_type": "code",
   "execution_count": null,
   "metadata": {
    "id": "aGg0txF_Bg4z"
   },
   "outputs": [],
   "source": [
    "def calculate_metrics(data: pd.DataFrame, *, historical: pd.DataFrame, actual: str, expected: str, normalize: bool = False) -> pd.Series:\n",
    "\t# Calculate error metrics\n",
    "\tmae = mean_absolute_error(data[actual], data[expected])\n",
    "\tforecast_mse = mean_squared_error(data[actual], data[expected])\n",
    "\n",
    "\trmse = np.sqrt(forecast_mse)\n",
    "\t# R2 calculates how predictable the outcome is with the input.\n",
    "\t# Positive scores indicate the input correlates to a proportional output.\n",
    "\t# Negative scores indicate a worsening correlation.\n",
    "    # r2_score(data[actual], data[expected], force_finite=True)\n",
    "\tcor = np.corrcoef(data[actual], data[expected])[0, 1]\n",
    "\tbias = np.mean(data[actual] - data[expected])\n",
    "\n",
    "\t# Climatology uses the mean of actual_et for that time of year using historical data.\n",
    "\t# Trim down historical reference to just the field, and crops provided\n",
    "\tfield = data.head(1).squeeze()\n",
    "\tfield_crop_table = historical[(historical['field_id'] == field['field_id']) & (historical['crop'] == field['crop'])]\n",
    "\n",
    "\t# Create a column for day of the year\n",
    "\tfield_crop_table['doy'] = field_crop_table['time'].dt.dayofyear\n",
    "\n",
    "\t# Trim down historical reference table so only dates provided by the input DataFrame are calculated\n",
    "\tstart_date = data['time'].min()\n",
    "\tend_date = data['time'].max()\n",
    "\thistorical_period = field_crop_table[(field_crop_table['doy'] >= start_date.dayofyear) & (field_crop_table['doy'] <= end_date.dayofyear)]\n",
    "\n",
    "\t# Produce table of historical averages for current index\n",
    "\tclimatology = historical_period.groupby([historical_period['doy']])[actual].agg('mean')\n",
    "\tclimatology_mse = mean_squared_error(data[actual], climatology)\n",
    "\n",
    "\t# Negative skill scores indicate the MSE for forecast is larger than the MSE for climatology\n",
    "\t# Positive skill scores indicate otherwise\n",
    "\tskill_score = 1 - (forecast_mse / climatology_mse)\n",
    "\n",
    "\tif normalize:\n",
    "\t\tmean_variable = historical[historical['field_id'] == field['field_id']][actual].mean()\n",
    "\t\tmae = mae / mean_variable\n",
    "\t\trmse = np.sqrt(forecast_mse / mean_variable)\n",
    "\t\tbias = bias / mean_variable\n",
    "\n",
    "\treturn pd.Series({\n",
    "\t\t'mae': mae.round(2),\n",
    "\t\t'rmse': rmse.round(2),\n",
    "\t\t'corr': cor.round(2),\n",
    "\t\t'bias': bias.round(2),\n",
    "\t\t'skill_score': skill_score.round(2)\n",
    "\t})"
   ]
  },
  {
   "cell_type": "markdown",
   "metadata": {
    "id": "Hm-PI9IAFrvj"
   },
   "source": [
    "### eval_metrics\n",
    "This function evaluates the metrics for each variable. The output is a DataFrame containing the metrics with a column specifying which variable (ET, ETo, ETof)"
   ]
  },
  {
   "cell_type": "code",
   "execution_count": null,
   "metadata": {
    "id": "1nJj8R9HCzjm"
   },
   "outputs": [],
   "source": [
    "def eval_metrics(table: pd.DataFrame, **kwargs) -> pd.DataFrame:\n",
    "    metrics_table = pd.DataFrame(columns=[\"field_id\", \"crop\", \"variable\", \"mae\", \"rmse\", \"corr\", \"bias\", \"skill_score\"])\n",
    "\n",
    "    et_metrics = table.reset_index().groupby(['field_id', 'crop']).apply(calculate_metrics, historical=historical,\n",
    "                                                                      actual='actual_et', expected='expected_et', **kwargs).reset_index()\n",
    "    et_metrics['variable'] = \"ET\"\n",
    "    metrics_table = pd.concat([et_metrics.astype(metrics_table.dtypes), metrics_table.astype(et_metrics.dtypes)], ignore_index=True)\n",
    "\n",
    "    eto_metrics = table.reset_index().groupby(['field_id', 'crop']).apply(calculate_metrics, historical=historical,\n",
    "                                                                      actual='actual_eto', expected='expected_eto', **kwargs).reset_index()\n",
    "    eto_metrics['variable'] = \"ETo\"\n",
    "    metrics_table = pd.concat([eto_metrics.astype(metrics_table.dtypes), metrics_table.astype(eto_metrics.dtypes)], ignore_index=True)\n",
    "\n",
    "    etof_metrics = table.reset_index().groupby(['field_id', 'crop']).apply(calculate_metrics, historical=historical,\n",
    "                                                                      actual='actual_etof', expected='expected_etof', **kwargs).reset_index()\n",
    "    etof_metrics['variable'] = \"ETof\"\n",
    "    metrics_table = pd.concat([etof_metrics.astype(metrics_table.dtypes), metrics_table.astype(etof_metrics.dtypes)], ignore_index=True)\n",
    "\n",
    "    return metrics_table"
   ]
  },
  {
   "cell_type": "markdown",
   "metadata": {
    "id": "y8mcDMoGF67K"
   },
   "source": [
    "### timeseries_plot\n",
    "This plot function is designed to easily showcase actual vs forecast data. It is also flexible in that it can show a singular line if a second column is not specified. This is used to show the metrics over time."
   ]
  },
  {
   "cell_type": "code",
   "execution_count": null,
   "metadata": {
    "id": "5P5oJNelCxzE"
   },
   "outputs": [],
   "source": [
    "def timeseries_plot(data, *, x, y_a, y_b=None, title='', ylabel, xlabel, figsize=(6, 4), as_percent=False, **kwargs):\n",
    "    figure, xa = plt.subplots(figsize=figsize)\n",
    "    xb = xa.twinx() if y_b else None\n",
    "\n",
    "    if y_a:\n",
    "        first_line = sns.lineplot(data, x=x, y=y_a, ax=xa, errorbar=None, **kwargs)\n",
    "    if y_b:\n",
    "        second_line = sns.lineplot(data, x=x, y=y_b, ax=xb, linestyle='dashed', errorbar=None, legend=False, **kwargs)\n",
    "\n",
    "    # Remove y axis label for the second line\n",
    "    if xb: xb.set_ylabel('')\n",
    "    # first_line is the main subplot so metadata should get changed for that one\n",
    "    # Relabel y axis\n",
    "    if ylabel: xa.set_ylabel(ylabel)\n",
    "    if as_percent: xa.yaxis.set_major_formatter(mtick.PercentFormatter(1.0))\n",
    "    # Relabel x axis\n",
    "    if xlabel: xa.set_xlabel(xlabel)\n",
    "    # Rotate x-time axis\n",
    "    first_line.tick_params(axis='x', rotation=90)\n",
    "    # Relocate legend to be outside subplot\n",
    "    sns.move_legend(first_line, \"upper left\", bbox_to_anchor=(1.25, 1))\n",
    "    # Set title if specified\n",
    "    first_line.set_title(title)\n",
    "\n",
    "    figure.show()\n",
    "    return (figure, xa, xb)"
   ]
  },
  {
   "cell_type": "markdown",
   "metadata": {
    "id": "t9CdFXc3GP1f"
   },
   "source": [
    "## Calculation"
   ]
  },
  {
   "cell_type": "markdown",
   "metadata": {
    "id": "t2jU8P1-WTTS"
   },
   "source": [
    "Est. run time: 41 min."
   ]
  },
  {
   "cell_type": "code",
   "execution_count": null,
   "metadata": {
    "colab": {
     "base_uri": "https://localhost:8080/",
     "height": 257
    },
    "id": "MHdT78vcC2LN",
    "outputId": "f4afcd81-e748-4ebc-d156-590a334da179"
   },
   "outputs": [],
   "source": [
    "metrics = dt[(dt['time'] > dt['forecasting_date']) & (~dt['actual_et'].isna())].groupby(['forecasting_date']).apply(eval_metrics)\n",
    "# metrics = pd.read_csv('data/metrics/monterey_metrics.csv', low_memory=False)\n",
    "# metrics['forecasting_date'] = pd.to_datetime(metrics['forecasting_date'])\n",
    "# metrics = metrics.drop(columns=['Unnamed: 1'])\n",
    "# metrics = metrics.set_index(['forecasting_date'])\n",
    "metrics.head()"
   ]
  },
  {
   "cell_type": "code",
   "execution_count": null,
   "metadata": {
    "colab": {
     "base_uri": "https://localhost:8080/",
     "height": 163
    },
    "id": "I6b1sQQTYoNE",
    "outputId": "5a8e5121-936d-42ff-e8d6-b889858d9fa1"
   },
   "outputs": [],
   "source": [
    "metrics.to_csv('data/metrics/monterey_metrics.csv', index=False)"
   ]
  },
  {
   "cell_type": "markdown",
   "metadata": {
    "id": "pEQ-DRPsWWXr"
   },
   "source": [
    "Est. run time: 2h 30m"
   ]
  },
  {
   "cell_type": "code",
   "execution_count": null,
   "metadata": {
    "colab": {
     "base_uri": "https://localhost:8080/",
     "height": 475
    },
    "id": "np-6id4wDJRa",
    "outputId": "53554465-b6bd-41a5-d4f4-820dd2b69def"
   },
   "outputs": [],
   "source": [
    "metrics_norm = dt[(dt['time'] > dt['forecasting_date']) & (~dt['actual_et'].isna())].groupby(['forecasting_date']).apply(eval_metrics, normalize=True)\n",
    "# metrics_norm = pd.read_csv('data/metrics/monterey_metrics_normalized.csv', low_memory=False)\n",
    "# metrics_norm['forecasting_date'] = pd.to_datetime(metrics_norm['forecasting_date'])\n",
    "# metrics_norm = metrics_norm.drop(columns=['Unnamed: 1'])\n",
    "# metrics_norm = metrics_norm.set_index(['forecasting_date'])\n",
    "metrics_norm"
   ]
  },
  {
   "cell_type": "code",
   "execution_count": null,
   "metadata": {
    "id": "ClVubLEBYtMG"
   },
   "outputs": [],
   "source": [
    "metrics_norm.to_csv('data/metrics/monterey_metrics_normalized.csv', index=False)"
   ]
  },
  {
   "cell_type": "markdown",
   "metadata": {
    "id": "h_pex2AUJfH-"
   },
   "source": [
    "### Crop metrics"
   ]
  },
  {
   "cell_type": "code",
   "execution_count": null,
   "metadata": {
    "id": "KVtI5tURJk2l"
   },
   "outputs": [],
   "source": [
    "crop_metrics = dt[(dt['time'] > dt['forecasting_date']) & (~dt['actual_et'].isna())].groupby(['forecasting_date', 'crop']).apply(eval_metrics, normalize=True)"
   ]
  },
  {
   "cell_type": "markdown",
   "metadata": {
    "id": "6Oo67zLs-SKl"
   },
   "source": [
    "## Best in categories"
   ]
  },
  {
   "cell_type": "code",
   "execution_count": null,
   "metadata": {
    "id": "zHpZiEYZ-XW5"
   },
   "outputs": [],
   "source": [
    "grouped_stats = metrics_norm.groupby(['field_id', 'variable'])[['mae', 'rmse', 'bias', 'skill_score']].agg('mean').round(2)\n",
    "grouped_stats.head()"
   ]
  },
  {
   "cell_type": "code",
   "execution_count": null,
   "metadata": {
    "id": "d9HFZe7dAZLg"
   },
   "outputs": [],
   "source": [
    "best_ss_field = grouped_stats[grouped_stats['skill_score'] == grouped_stats['skill_score'].max()]\n",
    "best_ss_field = list(best_ss_field.index.get_level_values(0))\n",
    "best_ss_field"
   ]
  },
  {
   "cell_type": "markdown",
   "metadata": {
    "id": "vbQIoeLKESnt"
   },
   "source": [
    "# Plotting The Metrics"
   ]
  },
  {
   "cell_type": "code",
   "execution_count": null,
   "metadata": {
    "id": "IRM56gZjEI_r"
   },
   "outputs": [],
   "source": [
    "field_limitn = 1\n",
    "date_limit = datetime(year=2024, month=7, day=19)\n",
    "\n",
    "plotter = metrics_norm[(metrics_norm['field_id'].isin(fields.sample(10))) &\n",
    "                       (metrics_norm.index.get_level_values(0) < date_limit)]"
   ]
  },
  {
   "cell_type": "code",
   "execution_count": null,
   "metadata": {
    "id": "x-WYenr8EQ_x"
   },
   "outputs": [],
   "source": [
    "timeseries_plot(plotter, x='forecasting_date', y_a='corr',\n",
    "                hue='field_id', title='Correlation Coeff (R^2) Progression Over Time', style='variable',\n",
    "                xlabel=' ', ylabel='R', figsize=(12, 4));"
   ]
  },
  {
   "cell_type": "code",
   "execution_count": null,
   "metadata": {
    "id": "P1hWPDvvUWTf"
   },
   "outputs": [],
   "source": [
    "timeseries_plot(plotter, x='forecasting_date', y_a='mae',\n",
    "                hue='field_id', title='MAE Progression Over Time', style='variable',\n",
    "                xlabel=' ', ylabel='% Error', as_percent=True, figsize=(12, 4));"
   ]
  },
  {
   "cell_type": "code",
   "execution_count": null,
   "metadata": {
    "id": "KUj3A_9EUcuo"
   },
   "outputs": [],
   "source": [
    "timeseries_plot(plotter, x='forecasting_date', y_a='rmse',\n",
    "                hue='field_id', title='RMSE Progression Over Time', style='variable',\n",
    "                xlabel=' ', ylabel='% Error', as_percent=True, figsize=(12, 4));"
   ]
  },
  {
   "cell_type": "code",
   "execution_count": null,
   "metadata": {
    "id": "b4BQuqM5UhKp"
   },
   "outputs": [],
   "source": [
    "timeseries_plot(plotter, x='forecasting_date', y_a='bias',\n",
    "                hue='field_id', title='Bias Over Time', style='variable',\n",
    "                xlabel=' ', ylabel='Bias', as_percent=True, figsize=(12, 4));"
   ]
  },
  {
   "cell_type": "code",
   "execution_count": null,
   "metadata": {
    "id": "EBQOf8gDUjzW"
   },
   "outputs": [],
   "source": [
    "timeseries_plot(plotter, x='forecasting_date', y_a='skill_score',\n",
    "                hue='field_id', title='Forecasting Performance Over Time', style='variable',\n",
    "                xlabel=' ', ylabel='Skill Score', figsize=(10, 4));"
   ]
  },
  {
   "cell_type": "code",
   "execution_count": null,
   "metadata": {
    "id": "RAcg63PXUntJ"
   },
   "outputs": [],
   "source": [
    "plt.figure(figsize=(10, 6))\n",
    "metrics = ['mae', 'rmse', 'bias', 'skill_score']\n",
    "corr_matrix = metrics_norm[metrics].corr()\n",
    "sns.heatmap(corr_matrix, annot=True, cmap='coolwarm', vmin=-1, vmax=1)\n",
    "plt.title('Correlation Heatmap of Metrics')\n",
    "plt.show()"
   ]
  },
  {
   "cell_type": "code",
   "execution_count": null,
   "metadata": {
    "id": "WAD8JhC4Upj9"
   },
   "outputs": [],
   "source": [
    "plt.figure(figsize=(8, 6))\n",
    "sns.scatterplot(x='mae', y='rmse', data=metrics_norm, hue='crop', palette='tab10')\n",
    "plt.title('Scatter Plot of MAE vs. RMSE')\n",
    "plt.xlabel('Mean Absolute Error (MAE)')\n",
    "plt.ylabel('Root Mean Square Error (RMSE)')\n",
    "plt.legend(title='Crop')\n",
    "plt.show()"
   ]
  },
  {
   "cell_type": "code",
   "execution_count": null,
   "metadata": {
    "id": "MHV8XV-UUxDo"
   },
   "outputs": [],
   "source": [
    "# Box plot for distribution of metrics\n",
    "metrics = ['mae', 'rmse', 'bias', 'skill_score']\n",
    "plt.figure(figsize=(12, 6))\n",
    "sns.boxplot(plotter[metrics])\n",
    "plt.title('Distribution of Forecasting Metrics')\n",
    "plt.xlabel('Metrics')\n",
    "plt.ylabel('Values')\n",
    "plt.show()"
   ]
  },
  {
   "cell_type": "markdown",
   "metadata": {
    "id": "hHCfsDxkZch2",
    "jp-MarkdownHeadingCollapsed": true
   },
   "source": [
    "## Spatial Plotting"
   ]
  },
  {
   "cell_type": "markdown",
   "metadata": {
    "id": "2n5XwM9RZgBf"
   },
   "source": [
    "First merge the geo table created in the beginning with the metrics table"
   ]
  },
  {
   "cell_type": "code",
   "execution_count": null,
   "metadata": {
    "id": "IeouNzJlZjbs"
   },
   "outputs": [],
   "source": [
    "metrics_norm = metrics_norm.join(monterey_geo, how='left', on='field_id', validate='many_to_one')"
   ]
  },
  {
   "cell_type": "code",
   "execution_count": null,
   "metadata": {
    "id": "KQBrmo7cZvYh"
   },
   "outputs": [],
   "source": [
    "metrics_norm.info()"
   ]
  },
  {
   "cell_type": "code",
   "execution_count": null,
   "metadata": {
    "id": "ev4VcBLEaDZg"
   },
   "outputs": [],
   "source": [
    "metrics_norm.plot(x=\"longitude\", y=\"latitude\", kind=\"scatter\", c=\"skill_score\",\n",
    "        colormap=\"YlOrRd\");"
   ]
  }
 ],
 "metadata": {
  "colab": {
   "provenance": []
  },
  "kernelspec": {
   "display_name": "Python 3 (ipykernel)",
   "language": "python",
   "name": "python3"
  },
  "language_info": {
   "codemirror_mode": {
    "name": "ipython",
    "version": 3
   },
   "file_extension": ".py",
   "mimetype": "text/x-python",
   "name": "python",
   "nbconvert_exporter": "python",
   "pygments_lexer": "ipython3",
   "version": "3.9.13"
  }
 },
 "nbformat": 4,
 "nbformat_minor": 4
}
