{
 "cells": [
  {
   "cell_type": "code",
   "execution_count": 1,
   "metadata": {
    "colab": {
     "base_uri": "https://localhost:8080/"
    },
    "id": "Yttp_jHy-_6P",
    "outputId": "bb6f90fb-6f71-4b6d-86c9-7f6eae69277b"
   },
   "outputs": [],
   "source": [
    "# # Google Colab specific\n",
    "# %cd ~/../content\n",
    "# !rm -rf openet\n",
    "\n",
    "# !git clone https://github.com/aetriusgx/openet.git\n",
    "# %cd openet"
   ]
  },
  {
   "cell_type": "markdown",
   "metadata": {
    "id": "hwxgp5l2twZU"
   },
   "source": [
    "# Preparation"
   ]
  },
  {
   "cell_type": "code",
   "execution_count": 2,
   "metadata": {
    "id": "yG3o_L_Z_D3s"
   },
   "outputs": [],
   "source": [
    "from matplotlib.colors import LinearSegmentedColormap\n",
    "from datetime import datetime, timedelta\n",
    "from notebook_utils import calculate_metrics, eval_metrics, timeseries_rel, trim_extremes\n",
    "from pathlib import Path\n",
    "from sklearn.metrics import mean_absolute_error, mean_squared_error, r2_score\n",
    "\n",
    "import contextily as cx\n",
    "import geopandas as gpd\n",
    "import json\n",
    "import pandas as pd\n",
    "import numpy as np\n",
    "import matplotlib.cm as cm\n",
    "import matplotlib.colors as mcolors\n",
    "import matplotlib.dates as mdates\n",
    "import matplotlib.pyplot as plt\n",
    "import matplotlib.ticker as mtick\n",
    "import seaborn as sns"
   ]
  },
  {
   "cell_type": "code",
   "execution_count": 3,
   "metadata": {},
   "outputs": [],
   "source": [
    "# Styling Cell\n",
    "sns.set_theme(context=\"notebook\", style=\"whitegrid\")\n",
    "\n",
    "SMALL_SIZE = 18\n",
    "MEDIUM_SIZE = 24\n",
    "BIGGER_SIZE = 28\n",
    "\n",
    "plt.rc('font', size=SMALL_SIZE)          # controls default text sizes\n",
    "plt.rc('axes', titlesize=SMALL_SIZE)     # fontsize of the axes title\n",
    "plt.rc('axes', labelsize=MEDIUM_SIZE)    # fontsize of the x and y labels\n",
    "plt.rc('xtick', labelsize=SMALL_SIZE)    # fontsize of the tick labels\n",
    "plt.rc('ytick', labelsize=SMALL_SIZE)    # fontsize of the tick labels\n",
    "plt.rc('legend', fontsize=SMALL_SIZE)    # legend fontsize\n",
    "plt.rc('figure', titlesize=BIGGER_SIZE)  # fontsize of the figure title"
   ]
  },
  {
   "cell_type": "markdown",
   "metadata": {},
   "source": [
    "# Initial version"
   ]
  },
  {
   "cell_type": "markdown",
   "metadata": {
    "id": "rK2Q2ay1EYmi"
   },
   "source": [
    "## Point Analysis"
   ]
  },
  {
   "cell_type": "markdown",
   "metadata": {},
   "source": [
    "### Historical Data Import"
   ]
  },
  {
   "cell_type": "code",
   "execution_count": 4,
   "metadata": {
    "colab": {
     "base_uri": "https://localhost:8080/"
    },
    "id": "yduHfSC9_GU8",
    "outputId": "542d4177-477f-4d88-bf56-0f0fd2597a62"
   },
   "outputs": [
    {
     "name": "stdout",
     "output_type": "stream",
     "text": [
      "<class 'pandas.core.frame.DataFrame'>\n",
      "RangeIndex: 2367017 entries, 0 to 2367016\n",
      "Data columns (total 6 columns):\n",
      " #   Column       Dtype         \n",
      "---  ------       -----         \n",
      " 0   field_id     object        \n",
      " 1   crop         int64         \n",
      " 2   time         datetime64[ns]\n",
      " 3   actual_et    float64       \n",
      " 4   actual_eto   float64       \n",
      " 5   actual_etof  float64       \n",
      "dtypes: datetime64[ns](1), float64(3), int64(1), object(1)\n",
      "memory usage: 108.4+ MB\n"
     ]
    }
   ],
   "source": [
    "historical = pd.read_csv('../data/monterey_historical.csv', low_memory=False)\n",
    "historical['time'] = pd.to_datetime(historical['time'])\n",
    "historical.info()"
   ]
  },
  {
   "cell_type": "code",
   "execution_count": 5,
   "metadata": {},
   "outputs": [
    {
     "data": {
      "text/plain": [
       "Timestamp('2024-10-07 00:00:00')"
      ]
     },
     "execution_count": 5,
     "metadata": {},
     "output_type": "execute_result"
    }
   ],
   "source": [
    "# Show when the latest historical data is\n",
    "historical['time'].max()"
   ]
  },
  {
   "cell_type": "markdown",
   "metadata": {
    "id": "KKd0xV-Gt9OU"
   },
   "source": [
    "### Forecast Table Build"
   ]
  },
  {
   "cell_type": "code",
   "execution_count": 6,
   "metadata": {
    "colab": {
     "base_uri": "https://localhost:8080/"
    },
    "id": "_RHRQydpAyZF",
    "outputId": "b762c373-abc7-4701-c861-0e397afb8d59"
   },
   "outputs": [
    {
     "name": "stdout",
     "output_type": "stream",
     "text": [
      "<class 'pandas.core.frame.DataFrame'>\n",
      "RangeIndex: 10818960 entries, 0 to 10818959\n",
      "Data columns (total 7 columns):\n",
      " #   Column            Dtype         \n",
      "---  ------            -----         \n",
      " 0   field_id          object        \n",
      " 1   crop              int64         \n",
      " 2   time              datetime64[ns]\n",
      " 3   expected_et       float64       \n",
      " 4   expected_eto      float64       \n",
      " 5   expected_etof     float64       \n",
      " 6   forecasting_date  datetime64[ns]\n",
      "dtypes: datetime64[ns](2), float64(3), int64(1), object(1)\n",
      "memory usage: 577.8+ MB\n"
     ]
    }
   ],
   "source": [
    "# Gather current forecast data for the county\n",
    "forecasting_table = pd.DataFrame()\n",
    "files = Path(f\"../data/forecasts/monterey/\").glob(\"*.csv\")\n",
    "\n",
    "for file in files:\n",
    "    # splits into [$date, 'forecast.csv']\n",
    "    parts = str(file.name).split(\"_\")\n",
    "    data = pd.read_csv(file, low_memory=False)\n",
    "    data[\"forecasting_date\"] = parts[0]\n",
    "    forecasting_table = pd.concat([data, forecasting_table], ignore_index=True)\n",
    "\n",
    "forecasting_table['forecasting_date'] = pd.to_datetime(forecasting_table['forecasting_date'])\n",
    "forecasting_table['time'] = pd.to_datetime(forecasting_table['time'])\n",
    "forecasting_table.info()"
   ]
  },
  {
   "cell_type": "code",
   "execution_count": 7,
   "metadata": {},
   "outputs": [
    {
     "data": {
      "text/plain": [
       "Timestamp('2024-09-30 00:00:00')"
      ]
     },
     "execution_count": 7,
     "metadata": {},
     "output_type": "execute_result"
    }
   ],
   "source": [
    "# Show when the latest forecast date is\n",
    "forecasting_table['forecasting_date'].max()"
   ]
  },
  {
   "cell_type": "markdown",
   "metadata": {},
   "source": [
    "### Main Data Table compilation"
   ]
  },
  {
   "cell_type": "code",
   "execution_count": 8,
   "metadata": {
    "colab": {
     "base_uri": "https://localhost:8080/",
     "height": 424
    },
    "id": "9Ve3CJFfBnG6",
    "outputId": "5dbe4fdf-dcbd-4805-9bf9-b7d67a346e89"
   },
   "outputs": [
    {
     "data": {
      "text/html": [
       "<div>\n",
       "<style scoped>\n",
       "    .dataframe tbody tr th:only-of-type {\n",
       "        vertical-align: middle;\n",
       "    }\n",
       "\n",
       "    .dataframe tbody tr th {\n",
       "        vertical-align: top;\n",
       "    }\n",
       "\n",
       "    .dataframe thead th {\n",
       "        text-align: right;\n",
       "    }\n",
       "</style>\n",
       "<table border=\"1\" class=\"dataframe\">\n",
       "  <thead>\n",
       "    <tr style=\"text-align: right;\">\n",
       "      <th></th>\n",
       "      <th>forecasting_date</th>\n",
       "      <th>field_id</th>\n",
       "      <th>crop</th>\n",
       "      <th>time</th>\n",
       "      <th>actual_et</th>\n",
       "      <th>actual_eto</th>\n",
       "      <th>actual_etof</th>\n",
       "      <th>expected_et</th>\n",
       "      <th>expected_eto</th>\n",
       "      <th>expected_etof</th>\n",
       "    </tr>\n",
       "  </thead>\n",
       "  <tbody>\n",
       "    <tr>\n",
       "      <th>0</th>\n",
       "      <td>2024-09-23</td>\n",
       "      <td>CA_244000</td>\n",
       "      <td>47</td>\n",
       "      <td>2024-01-01</td>\n",
       "      <td>0.718</td>\n",
       "      <td>1.103</td>\n",
       "      <td>0.650</td>\n",
       "      <td>0.718</td>\n",
       "      <td>1.103</td>\n",
       "      <td>0.650</td>\n",
       "    </tr>\n",
       "    <tr>\n",
       "      <th>1</th>\n",
       "      <td>2024-09-23</td>\n",
       "      <td>CA_244000</td>\n",
       "      <td>47</td>\n",
       "      <td>2024-01-02</td>\n",
       "      <td>0.668</td>\n",
       "      <td>1.018</td>\n",
       "      <td>0.656</td>\n",
       "      <td>0.668</td>\n",
       "      <td>1.018</td>\n",
       "      <td>0.656</td>\n",
       "    </tr>\n",
       "    <tr>\n",
       "      <th>2</th>\n",
       "      <td>2024-09-23</td>\n",
       "      <td>CA_244000</td>\n",
       "      <td>47</td>\n",
       "      <td>2024-01-03</td>\n",
       "      <td>1.403</td>\n",
       "      <td>2.122</td>\n",
       "      <td>0.661</td>\n",
       "      <td>1.403</td>\n",
       "      <td>2.122</td>\n",
       "      <td>0.661</td>\n",
       "    </tr>\n",
       "    <tr>\n",
       "      <th>3</th>\n",
       "      <td>2024-09-23</td>\n",
       "      <td>CA_244000</td>\n",
       "      <td>47</td>\n",
       "      <td>2024-01-04</td>\n",
       "      <td>1.698</td>\n",
       "      <td>2.546</td>\n",
       "      <td>0.667</td>\n",
       "      <td>1.698</td>\n",
       "      <td>2.546</td>\n",
       "      <td>0.667</td>\n",
       "    </tr>\n",
       "    <tr>\n",
       "      <th>4</th>\n",
       "      <td>2024-09-23</td>\n",
       "      <td>CA_244000</td>\n",
       "      <td>47</td>\n",
       "      <td>2024-01-05</td>\n",
       "      <td>1.027</td>\n",
       "      <td>1.528</td>\n",
       "      <td>0.672</td>\n",
       "      <td>1.027</td>\n",
       "      <td>1.528</td>\n",
       "      <td>0.672</td>\n",
       "    </tr>\n",
       "    <tr>\n",
       "      <th>...</th>\n",
       "      <td>...</td>\n",
       "      <td>...</td>\n",
       "      <td>...</td>\n",
       "      <td>...</td>\n",
       "      <td>...</td>\n",
       "      <td>...</td>\n",
       "      <td>...</td>\n",
       "      <td>...</td>\n",
       "      <td>...</td>\n",
       "      <td>...</td>\n",
       "    </tr>\n",
       "    <tr>\n",
       "      <th>10818955</th>\n",
       "      <td>2024-01-29</td>\n",
       "      <td>CA_420924</td>\n",
       "      <td>68</td>\n",
       "      <td>2024-12-27</td>\n",
       "      <td>NaN</td>\n",
       "      <td>NaN</td>\n",
       "      <td>NaN</td>\n",
       "      <td>0.635</td>\n",
       "      <td>1.316</td>\n",
       "      <td>0.581</td>\n",
       "    </tr>\n",
       "    <tr>\n",
       "      <th>10818956</th>\n",
       "      <td>2024-01-29</td>\n",
       "      <td>CA_420924</td>\n",
       "      <td>68</td>\n",
       "      <td>2024-12-28</td>\n",
       "      <td>NaN</td>\n",
       "      <td>NaN</td>\n",
       "      <td>NaN</td>\n",
       "      <td>0.674</td>\n",
       "      <td>1.180</td>\n",
       "      <td>0.580</td>\n",
       "    </tr>\n",
       "    <tr>\n",
       "      <th>10818957</th>\n",
       "      <td>2024-01-29</td>\n",
       "      <td>CA_420924</td>\n",
       "      <td>68</td>\n",
       "      <td>2024-12-29</td>\n",
       "      <td>NaN</td>\n",
       "      <td>NaN</td>\n",
       "      <td>NaN</td>\n",
       "      <td>0.671</td>\n",
       "      <td>1.076</td>\n",
       "      <td>0.576</td>\n",
       "    </tr>\n",
       "    <tr>\n",
       "      <th>10818958</th>\n",
       "      <td>2024-01-29</td>\n",
       "      <td>CA_420924</td>\n",
       "      <td>68</td>\n",
       "      <td>2024-12-30</td>\n",
       "      <td>NaN</td>\n",
       "      <td>NaN</td>\n",
       "      <td>NaN</td>\n",
       "      <td>0.705</td>\n",
       "      <td>1.074</td>\n",
       "      <td>0.574</td>\n",
       "    </tr>\n",
       "    <tr>\n",
       "      <th>10818959</th>\n",
       "      <td>2024-01-29</td>\n",
       "      <td>CA_420924</td>\n",
       "      <td>68</td>\n",
       "      <td>2024-12-31</td>\n",
       "      <td>NaN</td>\n",
       "      <td>NaN</td>\n",
       "      <td>NaN</td>\n",
       "      <td>0.757</td>\n",
       "      <td>1.108</td>\n",
       "      <td>0.577</td>\n",
       "    </tr>\n",
       "  </tbody>\n",
       "</table>\n",
       "<p>10818960 rows × 10 columns</p>\n",
       "</div>"
      ],
      "text/plain": [
       "         forecasting_date   field_id  crop       time  actual_et  actual_eto  \\\n",
       "0              2024-09-23  CA_244000    47 2024-01-01      0.718       1.103   \n",
       "1              2024-09-23  CA_244000    47 2024-01-02      0.668       1.018   \n",
       "2              2024-09-23  CA_244000    47 2024-01-03      1.403       2.122   \n",
       "3              2024-09-23  CA_244000    47 2024-01-04      1.698       2.546   \n",
       "4              2024-09-23  CA_244000    47 2024-01-05      1.027       1.528   \n",
       "...                   ...        ...   ...        ...        ...         ...   \n",
       "10818955       2024-01-29  CA_420924    68 2024-12-27        NaN         NaN   \n",
       "10818956       2024-01-29  CA_420924    68 2024-12-28        NaN         NaN   \n",
       "10818957       2024-01-29  CA_420924    68 2024-12-29        NaN         NaN   \n",
       "10818958       2024-01-29  CA_420924    68 2024-12-30        NaN         NaN   \n",
       "10818959       2024-01-29  CA_420924    68 2024-12-31        NaN         NaN   \n",
       "\n",
       "          actual_etof  expected_et  expected_eto  expected_etof  \n",
       "0               0.650        0.718         1.103          0.650  \n",
       "1               0.656        0.668         1.018          0.656  \n",
       "2               0.661        1.403         2.122          0.661  \n",
       "3               0.667        1.698         2.546          0.667  \n",
       "4               0.672        1.027         1.528          0.672  \n",
       "...               ...          ...           ...            ...  \n",
       "10818955          NaN        0.635         1.316          0.581  \n",
       "10818956          NaN        0.674         1.180          0.580  \n",
       "10818957          NaN        0.671         1.076          0.576  \n",
       "10818958          NaN        0.705         1.074          0.574  \n",
       "10818959          NaN        0.757         1.108          0.577  \n",
       "\n",
       "[10818960 rows x 10 columns]"
      ]
     },
     "execution_count": 8,
     "metadata": {},
     "output_type": "execute_result"
    }
   ],
   "source": [
    "dt = historical.loc[(historical['time'].dt.year == 2024), :]\n",
    "dt = dt.merge(forecasting_table, on=['field_id', 'time', 'crop'], how='right').set_index(['forecasting_date', 'field_id', 'crop', 'time']).reset_index()\n",
    "dt"
   ]
  },
  {
   "cell_type": "markdown",
   "metadata": {},
   "source": [
    "#### Add geographical data"
   ]
  },
  {
   "cell_type": "code",
   "execution_count": 9,
   "metadata": {
    "colab": {
     "base_uri": "https://localhost:8080/"
    },
    "id": "OdDQloVo_e3a",
    "outputId": "964cc6bf-04b8-4ec8-93f7-12cad12c2a5d"
   },
   "outputs": [
    {
     "name": "stdout",
     "output_type": "stream",
     "text": [
      "<class 'pandas.core.frame.DataFrame'>\n",
      "Index: 739 entries, CA_253578 to CA_251078\n",
      "Data columns (total 2 columns):\n",
      " #   Column     Non-Null Count  Dtype  \n",
      "---  ------     --------------  -----  \n",
      " 0   longitude  739 non-null    float64\n",
      " 1   latitude   739 non-null    float64\n",
      "dtypes: float64(2)\n",
      "memory usage: 17.3+ KB\n"
     ]
    }
   ],
   "source": [
    "# Add additional data to the data table\n",
    "monterey_points = pd.read_csv(\"../data/Monterey.csv\", low_memory=False).set_index(\"OPENET_ID\").rename_axis(\"field_id\")\n",
    "\n",
    "# Expand .geo column into lon, lat columns\n",
    "monterey_geo = (monterey_points[\".geo\"]\n",
    "                .apply(lambda x: pd.Series(dict(json.loads(x))))['coordinates']\n",
    "                .apply(lambda x: pd.Series(list(x), index=['longitude', 'latitude'])))\n",
    "monterey_geo.info()"
   ]
  },
  {
   "cell_type": "code",
   "execution_count": 10,
   "metadata": {},
   "outputs": [
    {
     "data": {
      "text/plain": [
       "CROP_2023\n",
       "47     513\n",
       "69     136\n",
       "61      74\n",
       "72       5\n",
       "37       4\n",
       "122      2\n",
       "211      2\n",
       "215      2\n",
       "68       1\n",
       "Name: count, dtype: int64"
      ]
     },
     "execution_count": 10,
     "metadata": {},
     "output_type": "execute_result"
    }
   ],
   "source": [
    "monterey_points['CROP_2023'].value_counts()"
   ]
  },
  {
   "cell_type": "code",
   "execution_count": 11,
   "metadata": {
    "colab": {
     "base_uri": "https://localhost:8080/"
    },
    "id": "_DiLgqzP_wGy",
    "outputId": "370c22cf-ac7f-4fff-a547-b9e398b12793"
   },
   "outputs": [
    {
     "name": "stdout",
     "output_type": "stream",
     "text": [
      "<class 'pandas.core.frame.DataFrame'>\n",
      "RangeIndex: 10818960 entries, 0 to 10818959\n",
      "Data columns (total 12 columns):\n",
      " #   Column            Dtype         \n",
      "---  ------            -----         \n",
      " 0   forecasting_date  datetime64[ns]\n",
      " 1   field_id          object        \n",
      " 2   crop              int64         \n",
      " 3   time              datetime64[ns]\n",
      " 4   actual_et         float64       \n",
      " 5   actual_eto        float64       \n",
      " 6   actual_etof       float64       \n",
      " 7   expected_et       float64       \n",
      " 8   expected_eto      float64       \n",
      " 9   expected_etof     float64       \n",
      " 10  longitude         float64       \n",
      " 11  latitude          float64       \n",
      "dtypes: datetime64[ns](2), float64(8), int64(1), object(1)\n",
      "memory usage: 990.5+ MB\n"
     ]
    }
   ],
   "source": [
    "dt = dt.join(monterey_geo, how=\"left\", on=[\"field_id\"], validate=\"many_to_one\")\n",
    "dt.info()"
   ]
  },
  {
   "cell_type": "markdown",
   "metadata": {},
   "source": [
    "### Add USDA crop data"
   ]
  },
  {
   "cell_type": "code",
   "execution_count": 12,
   "metadata": {
    "colab": {
     "base_uri": "https://localhost:8080/"
    },
    "id": "K-7q7kOi_tNn",
    "outputId": "55ad7f4e-d900-4064-9385-fb1abeff16a5"
   },
   "outputs": [
    {
     "name": "stdout",
     "output_type": "stream",
     "text": [
      "<class 'pandas.core.frame.DataFrame'>\n",
      "RangeIndex: 10818960 entries, 0 to 10818959\n",
      "Data columns (total 19 columns):\n",
      " #   Column            Dtype         \n",
      "---  ------            -----         \n",
      " 0   forecasting_date  datetime64[ns]\n",
      " 1   field_id          object        \n",
      " 2   crop              int64         \n",
      " 3   time              datetime64[ns]\n",
      " 4   actual_et         float64       \n",
      " 5   actual_eto        float64       \n",
      " 6   actual_etof       float64       \n",
      " 7   expected_et       float64       \n",
      " 8   expected_eto      float64       \n",
      " 9   expected_etof     float64       \n",
      " 10  longitude         float64       \n",
      " 11  latitude          float64       \n",
      " 12  Class_Names       object        \n",
      " 13  ESRI_Red          int64         \n",
      " 14  ESRI_Green        int64         \n",
      " 15  ESRI_Blue         int64         \n",
      " 16  Erdas_Red         float64       \n",
      " 17  Erdas_Green       float64       \n",
      " 18  Erdas_Blue        float64       \n",
      "dtypes: datetime64[ns](2), float64(11), int64(4), object(2)\n",
      "memory usage: 1.5+ GB\n"
     ]
    }
   ],
   "source": [
    "# Add crop data\n",
    "cdl_codes = pd.read_csv(\"../data/cdl_codes.csv\", low_memory=False).set_index(\"Codes\")\n",
    "\n",
    "dt = dt.join(cdl_codes, how=\"left\", on=\"crop\", validate=\"many_to_many\")\n",
    "dt.info()"
   ]
  },
  {
   "cell_type": "markdown",
   "metadata": {},
   "source": [
    "#### Add Field Metadata"
   ]
  },
  {
   "cell_type": "code",
   "execution_count": 13,
   "metadata": {},
   "outputs": [
    {
     "name": "stdout",
     "output_type": "stream",
     "text": [
      "<class 'pandas.core.frame.DataFrame'>\n",
      "Index: 729 entries, CA_244000 to CA_258026\n",
      "Data columns (total 1 columns):\n",
      " #   Column    Non-Null Count  Dtype  \n",
      "---  ------    --------------  -----  \n",
      " 0   hectares  729 non-null    float64\n",
      "dtypes: float64(1)\n",
      "memory usage: 11.4+ KB\n"
     ]
    }
   ],
   "source": [
    "# Import table using only field and hectare columns\n",
    "field_metadata = pd.read_json('../data/geo/field_metadata.json')[['field_id', 'hectares']]\n",
    "# Reformat field IDs to be same convention as the other tables.\n",
    "field_metadata['field_id'] = 'CA_' + field_metadata['field_id'].astype(str).str[1:]\n",
    "field_metadata = field_metadata.set_index('field_id')\n",
    "field_metadata.info()"
   ]
  },
  {
   "cell_type": "code",
   "execution_count": 14,
   "metadata": {},
   "outputs": [
    {
     "name": "stdout",
     "output_type": "stream",
     "text": [
      "<class 'pandas.core.frame.DataFrame'>\n",
      "RangeIndex: 10818960 entries, 0 to 10818959\n",
      "Data columns (total 20 columns):\n",
      " #   Column            Dtype         \n",
      "---  ------            -----         \n",
      " 0   forecasting_date  datetime64[ns]\n",
      " 1   field_id          object        \n",
      " 2   crop              int64         \n",
      " 3   time              datetime64[ns]\n",
      " 4   actual_et         float64       \n",
      " 5   actual_eto        float64       \n",
      " 6   actual_etof       float64       \n",
      " 7   expected_et       float64       \n",
      " 8   expected_eto      float64       \n",
      " 9   expected_etof     float64       \n",
      " 10  longitude         float64       \n",
      " 11  latitude          float64       \n",
      " 12  Class_Names       object        \n",
      " 13  ESRI_Red          int64         \n",
      " 14  ESRI_Green        int64         \n",
      " 15  ESRI_Blue         int64         \n",
      " 16  Erdas_Red         float64       \n",
      " 17  Erdas_Green       float64       \n",
      " 18  Erdas_Blue        float64       \n",
      " 19  hectares          float64       \n",
      "dtypes: datetime64[ns](2), float64(12), int64(4), object(2)\n",
      "memory usage: 1.6+ GB\n"
     ]
    },
    {
     "data": {
      "text/html": [
       "<div>\n",
       "<style scoped>\n",
       "    .dataframe tbody tr th:only-of-type {\n",
       "        vertical-align: middle;\n",
       "    }\n",
       "\n",
       "    .dataframe tbody tr th {\n",
       "        vertical-align: top;\n",
       "    }\n",
       "\n",
       "    .dataframe thead th {\n",
       "        text-align: right;\n",
       "    }\n",
       "</style>\n",
       "<table border=\"1\" class=\"dataframe\">\n",
       "  <thead>\n",
       "    <tr style=\"text-align: right;\">\n",
       "      <th></th>\n",
       "      <th>forecasting_date</th>\n",
       "      <th>field_id</th>\n",
       "      <th>crop</th>\n",
       "      <th>time</th>\n",
       "      <th>actual_et</th>\n",
       "      <th>actual_eto</th>\n",
       "      <th>actual_etof</th>\n",
       "      <th>expected_et</th>\n",
       "      <th>expected_eto</th>\n",
       "      <th>expected_etof</th>\n",
       "      <th>longitude</th>\n",
       "      <th>latitude</th>\n",
       "      <th>Class_Names</th>\n",
       "      <th>ESRI_Red</th>\n",
       "      <th>ESRI_Green</th>\n",
       "      <th>ESRI_Blue</th>\n",
       "      <th>Erdas_Red</th>\n",
       "      <th>Erdas_Green</th>\n",
       "      <th>Erdas_Blue</th>\n",
       "      <th>hectares</th>\n",
       "    </tr>\n",
       "  </thead>\n",
       "  <tbody>\n",
       "    <tr>\n",
       "      <th>0</th>\n",
       "      <td>2024-09-23</td>\n",
       "      <td>CA_244000</td>\n",
       "      <td>47</td>\n",
       "      <td>2024-01-01</td>\n",
       "      <td>0.718</td>\n",
       "      <td>1.103</td>\n",
       "      <td>0.650</td>\n",
       "      <td>0.718</td>\n",
       "      <td>1.103</td>\n",
       "      <td>0.650</td>\n",
       "      <td>-121.54054</td>\n",
       "      <td>36.537255</td>\n",
       "      <td>Misc Vegs &amp; Fruits</td>\n",
       "      <td>255</td>\n",
       "      <td>102</td>\n",
       "      <td>102</td>\n",
       "      <td>1.0</td>\n",
       "      <td>0.4</td>\n",
       "      <td>0.4</td>\n",
       "      <td>263.816</td>\n",
       "    </tr>\n",
       "    <tr>\n",
       "      <th>1</th>\n",
       "      <td>2024-09-23</td>\n",
       "      <td>CA_244000</td>\n",
       "      <td>47</td>\n",
       "      <td>2024-01-02</td>\n",
       "      <td>0.668</td>\n",
       "      <td>1.018</td>\n",
       "      <td>0.656</td>\n",
       "      <td>0.668</td>\n",
       "      <td>1.018</td>\n",
       "      <td>0.656</td>\n",
       "      <td>-121.54054</td>\n",
       "      <td>36.537255</td>\n",
       "      <td>Misc Vegs &amp; Fruits</td>\n",
       "      <td>255</td>\n",
       "      <td>102</td>\n",
       "      <td>102</td>\n",
       "      <td>1.0</td>\n",
       "      <td>0.4</td>\n",
       "      <td>0.4</td>\n",
       "      <td>263.816</td>\n",
       "    </tr>\n",
       "    <tr>\n",
       "      <th>2</th>\n",
       "      <td>2024-09-23</td>\n",
       "      <td>CA_244000</td>\n",
       "      <td>47</td>\n",
       "      <td>2024-01-03</td>\n",
       "      <td>1.403</td>\n",
       "      <td>2.122</td>\n",
       "      <td>0.661</td>\n",
       "      <td>1.403</td>\n",
       "      <td>2.122</td>\n",
       "      <td>0.661</td>\n",
       "      <td>-121.54054</td>\n",
       "      <td>36.537255</td>\n",
       "      <td>Misc Vegs &amp; Fruits</td>\n",
       "      <td>255</td>\n",
       "      <td>102</td>\n",
       "      <td>102</td>\n",
       "      <td>1.0</td>\n",
       "      <td>0.4</td>\n",
       "      <td>0.4</td>\n",
       "      <td>263.816</td>\n",
       "    </tr>\n",
       "    <tr>\n",
       "      <th>3</th>\n",
       "      <td>2024-09-23</td>\n",
       "      <td>CA_244000</td>\n",
       "      <td>47</td>\n",
       "      <td>2024-01-04</td>\n",
       "      <td>1.698</td>\n",
       "      <td>2.546</td>\n",
       "      <td>0.667</td>\n",
       "      <td>1.698</td>\n",
       "      <td>2.546</td>\n",
       "      <td>0.667</td>\n",
       "      <td>-121.54054</td>\n",
       "      <td>36.537255</td>\n",
       "      <td>Misc Vegs &amp; Fruits</td>\n",
       "      <td>255</td>\n",
       "      <td>102</td>\n",
       "      <td>102</td>\n",
       "      <td>1.0</td>\n",
       "      <td>0.4</td>\n",
       "      <td>0.4</td>\n",
       "      <td>263.816</td>\n",
       "    </tr>\n",
       "    <tr>\n",
       "      <th>4</th>\n",
       "      <td>2024-09-23</td>\n",
       "      <td>CA_244000</td>\n",
       "      <td>47</td>\n",
       "      <td>2024-01-05</td>\n",
       "      <td>1.027</td>\n",
       "      <td>1.528</td>\n",
       "      <td>0.672</td>\n",
       "      <td>1.027</td>\n",
       "      <td>1.528</td>\n",
       "      <td>0.672</td>\n",
       "      <td>-121.54054</td>\n",
       "      <td>36.537255</td>\n",
       "      <td>Misc Vegs &amp; Fruits</td>\n",
       "      <td>255</td>\n",
       "      <td>102</td>\n",
       "      <td>102</td>\n",
       "      <td>1.0</td>\n",
       "      <td>0.4</td>\n",
       "      <td>0.4</td>\n",
       "      <td>263.816</td>\n",
       "    </tr>\n",
       "  </tbody>\n",
       "</table>\n",
       "</div>"
      ],
      "text/plain": [
       "  forecasting_date   field_id  crop       time  actual_et  actual_eto  \\\n",
       "0       2024-09-23  CA_244000    47 2024-01-01      0.718       1.103   \n",
       "1       2024-09-23  CA_244000    47 2024-01-02      0.668       1.018   \n",
       "2       2024-09-23  CA_244000    47 2024-01-03      1.403       2.122   \n",
       "3       2024-09-23  CA_244000    47 2024-01-04      1.698       2.546   \n",
       "4       2024-09-23  CA_244000    47 2024-01-05      1.027       1.528   \n",
       "\n",
       "   actual_etof  expected_et  expected_eto  expected_etof  longitude  \\\n",
       "0        0.650        0.718         1.103          0.650 -121.54054   \n",
       "1        0.656        0.668         1.018          0.656 -121.54054   \n",
       "2        0.661        1.403         2.122          0.661 -121.54054   \n",
       "3        0.667        1.698         2.546          0.667 -121.54054   \n",
       "4        0.672        1.027         1.528          0.672 -121.54054   \n",
       "\n",
       "    latitude         Class_Names  ESRI_Red  ESRI_Green  ESRI_Blue  Erdas_Red  \\\n",
       "0  36.537255  Misc Vegs & Fruits       255         102        102        1.0   \n",
       "1  36.537255  Misc Vegs & Fruits       255         102        102        1.0   \n",
       "2  36.537255  Misc Vegs & Fruits       255         102        102        1.0   \n",
       "3  36.537255  Misc Vegs & Fruits       255         102        102        1.0   \n",
       "4  36.537255  Misc Vegs & Fruits       255         102        102        1.0   \n",
       "\n",
       "   Erdas_Green  Erdas_Blue  hectares  \n",
       "0          0.4         0.4   263.816  \n",
       "1          0.4         0.4   263.816  \n",
       "2          0.4         0.4   263.816  \n",
       "3          0.4         0.4   263.816  \n",
       "4          0.4         0.4   263.816  "
      ]
     },
     "execution_count": 14,
     "metadata": {},
     "output_type": "execute_result"
    }
   ],
   "source": [
    "dt = dt.join(field_metadata, how='left', on='field_id', validate='many_to_one')\n",
    "dt.info()\n",
    "dt.head(5)"
   ]
  },
  {
   "cell_type": "markdown",
   "metadata": {},
   "source": [
    "#### List of identifiers"
   ]
  },
  {
   "cell_type": "code",
   "execution_count": 15,
   "metadata": {
    "id": "U1aePlI6ENzS"
   },
   "outputs": [],
   "source": [
    "forecast_dates = forecasting_table['forecasting_date'].unique()\n",
    "fields = dt['field_id'].unique()\n",
    "crops = dt['crop'].unique()"
   ]
  },
  {
   "cell_type": "markdown",
   "metadata": {
    "id": "lvm5sm2GEaO5"
   },
   "source": [
    "### Reference Tables\n",
    "\n",
    "The tables below are calculated prior to speed up metric calculations."
   ]
  },
  {
   "cell_type": "markdown",
   "metadata": {
    "id": "iNAAFesQbjJD"
   },
   "source": [
    "#### Average ET/ETo/ETof for 2024\n",
    "This table will be used as a reference for any metric and plot calculations"
   ]
  },
  {
   "cell_type": "code",
   "execution_count": 16,
   "metadata": {
    "colab": {
     "base_uri": "https://localhost:8080/",
     "height": 238
    },
    "id": "SQQpzO4FbsX1",
    "outputId": "c8b0a6f5-4da9-4391-e0fd-eb528dcf45c8"
   },
   "outputs": [
    {
     "data": {
      "text/html": [
       "<div>\n",
       "<style scoped>\n",
       "    .dataframe tbody tr th:only-of-type {\n",
       "        vertical-align: middle;\n",
       "    }\n",
       "\n",
       "    .dataframe tbody tr th {\n",
       "        vertical-align: top;\n",
       "    }\n",
       "\n",
       "    .dataframe thead th {\n",
       "        text-align: right;\n",
       "    }\n",
       "</style>\n",
       "<table border=\"1\" class=\"dataframe\">\n",
       "  <thead>\n",
       "    <tr style=\"text-align: right;\">\n",
       "      <th></th>\n",
       "      <th>field_id</th>\n",
       "      <th>crop</th>\n",
       "      <th>actual_et</th>\n",
       "      <th>actual_eto</th>\n",
       "      <th>actual_etof</th>\n",
       "    </tr>\n",
       "  </thead>\n",
       "  <tbody>\n",
       "    <tr>\n",
       "      <th>0</th>\n",
       "      <td>CA_244000</td>\n",
       "      <td>47</td>\n",
       "      <td>2.703783</td>\n",
       "      <td>3.980680</td>\n",
       "      <td>0.681082</td>\n",
       "    </tr>\n",
       "    <tr>\n",
       "      <th>1</th>\n",
       "      <td>CA_244018</td>\n",
       "      <td>47</td>\n",
       "      <td>1.990459</td>\n",
       "      <td>3.448954</td>\n",
       "      <td>0.551285</td>\n",
       "    </tr>\n",
       "    <tr>\n",
       "      <th>2</th>\n",
       "      <td>CA_244025</td>\n",
       "      <td>47</td>\n",
       "      <td>2.197922</td>\n",
       "      <td>3.463452</td>\n",
       "      <td>0.658562</td>\n",
       "    </tr>\n",
       "    <tr>\n",
       "      <th>3</th>\n",
       "      <td>CA_244035</td>\n",
       "      <td>69</td>\n",
       "      <td>1.352139</td>\n",
       "      <td>3.081879</td>\n",
       "      <td>0.474822</td>\n",
       "    </tr>\n",
       "    <tr>\n",
       "      <th>4</th>\n",
       "      <td>CA_244053</td>\n",
       "      <td>47</td>\n",
       "      <td>1.738174</td>\n",
       "      <td>3.448954</td>\n",
       "      <td>0.496288</td>\n",
       "    </tr>\n",
       "  </tbody>\n",
       "</table>\n",
       "</div>"
      ],
      "text/plain": [
       "    field_id  crop  actual_et  actual_eto  actual_etof\n",
       "0  CA_244000    47   2.703783    3.980680     0.681082\n",
       "1  CA_244018    47   1.990459    3.448954     0.551285\n",
       "2  CA_244025    47   2.197922    3.463452     0.658562\n",
       "3  CA_244035    69   1.352139    3.081879     0.474822\n",
       "4  CA_244053    47   1.738174    3.448954     0.496288"
      ]
     },
     "execution_count": 16,
     "metadata": {},
     "output_type": "execute_result"
    }
   ],
   "source": [
    "avgs_table = pd.read_csv('../data/monterey_historical_2024_avgs.csv', low_memory=False)\n",
    "avgs_table.head()"
   ]
  },
  {
   "cell_type": "markdown",
   "metadata": {
    "id": "kEdRIQtPsuvN"
   },
   "source": [
    "#### Climatology Reference\n",
    "The table below records the average conditions for each field for each day of the year."
   ]
  },
  {
   "cell_type": "code",
   "execution_count": 17,
   "metadata": {
    "colab": {
     "base_uri": "https://localhost:8080/",
     "height": 455
    },
    "id": "RJlcb_pEs5pL",
    "outputId": "d76e5688-e060-4a04-88a3-b80f22e33aef"
   },
   "outputs": [
    {
     "data": {
      "text/html": [
       "<div>\n",
       "<style scoped>\n",
       "    .dataframe tbody tr th:only-of-type {\n",
       "        vertical-align: middle;\n",
       "    }\n",
       "\n",
       "    .dataframe tbody tr th {\n",
       "        vertical-align: top;\n",
       "    }\n",
       "\n",
       "    .dataframe thead th {\n",
       "        text-align: right;\n",
       "    }\n",
       "</style>\n",
       "<table border=\"1\" class=\"dataframe\">\n",
       "  <thead>\n",
       "    <tr style=\"text-align: right;\">\n",
       "      <th></th>\n",
       "      <th>field_id</th>\n",
       "      <th>crop</th>\n",
       "      <th>doy</th>\n",
       "      <th>actual_et</th>\n",
       "      <th>actual_eto</th>\n",
       "      <th>actual_etof</th>\n",
       "    </tr>\n",
       "  </thead>\n",
       "  <tbody>\n",
       "    <tr>\n",
       "      <th>0</th>\n",
       "      <td>CA_244000</td>\n",
       "      <td>47</td>\n",
       "      <td>1</td>\n",
       "      <td>0.910333</td>\n",
       "      <td>1.291889</td>\n",
       "      <td>0.691333</td>\n",
       "    </tr>\n",
       "    <tr>\n",
       "      <th>1</th>\n",
       "      <td>CA_244000</td>\n",
       "      <td>47</td>\n",
       "      <td>2</td>\n",
       "      <td>0.926556</td>\n",
       "      <td>1.310778</td>\n",
       "      <td>0.696556</td>\n",
       "    </tr>\n",
       "    <tr>\n",
       "      <th>2</th>\n",
       "      <td>CA_244000</td>\n",
       "      <td>47</td>\n",
       "      <td>3</td>\n",
       "      <td>0.999778</td>\n",
       "      <td>1.423778</td>\n",
       "      <td>0.701222</td>\n",
       "    </tr>\n",
       "    <tr>\n",
       "      <th>3</th>\n",
       "      <td>CA_244000</td>\n",
       "      <td>47</td>\n",
       "      <td>4</td>\n",
       "      <td>1.162000</td>\n",
       "      <td>1.697333</td>\n",
       "      <td>0.691111</td>\n",
       "    </tr>\n",
       "    <tr>\n",
       "      <th>4</th>\n",
       "      <td>CA_244000</td>\n",
       "      <td>47</td>\n",
       "      <td>5</td>\n",
       "      <td>1.102111</td>\n",
       "      <td>1.556000</td>\n",
       "      <td>0.694111</td>\n",
       "    </tr>\n",
       "    <tr>\n",
       "      <th>...</th>\n",
       "      <td>...</td>\n",
       "      <td>...</td>\n",
       "      <td>...</td>\n",
       "      <td>...</td>\n",
       "      <td>...</td>\n",
       "      <td>...</td>\n",
       "    </tr>\n",
       "    <tr>\n",
       "      <th>270469</th>\n",
       "      <td>CA_420924</td>\n",
       "      <td>68</td>\n",
       "      <td>362</td>\n",
       "      <td>0.813125</td>\n",
       "      <td>1.293625</td>\n",
       "      <td>0.643375</td>\n",
       "    </tr>\n",
       "    <tr>\n",
       "      <th>270470</th>\n",
       "      <td>CA_420924</td>\n",
       "      <td>68</td>\n",
       "      <td>363</td>\n",
       "      <td>0.781875</td>\n",
       "      <td>1.202875</td>\n",
       "      <td>0.658250</td>\n",
       "    </tr>\n",
       "    <tr>\n",
       "      <th>270471</th>\n",
       "      <td>CA_420924</td>\n",
       "      <td>68</td>\n",
       "      <td>364</td>\n",
       "      <td>0.750250</td>\n",
       "      <td>1.146250</td>\n",
       "      <td>0.673250</td>\n",
       "    </tr>\n",
       "    <tr>\n",
       "      <th>270472</th>\n",
       "      <td>CA_420924</td>\n",
       "      <td>68</td>\n",
       "      <td>365</td>\n",
       "      <td>0.570625</td>\n",
       "      <td>0.851125</td>\n",
       "      <td>0.690500</td>\n",
       "    </tr>\n",
       "    <tr>\n",
       "      <th>270473</th>\n",
       "      <td>CA_420924</td>\n",
       "      <td>68</td>\n",
       "      <td>366</td>\n",
       "      <td>0.728000</td>\n",
       "      <td>1.089500</td>\n",
       "      <td>0.640000</td>\n",
       "    </tr>\n",
       "  </tbody>\n",
       "</table>\n",
       "<p>270474 rows × 6 columns</p>\n",
       "</div>"
      ],
      "text/plain": [
       "         field_id  crop  doy  actual_et  actual_eto  actual_etof\n",
       "0       CA_244000    47    1   0.910333    1.291889     0.691333\n",
       "1       CA_244000    47    2   0.926556    1.310778     0.696556\n",
       "2       CA_244000    47    3   0.999778    1.423778     0.701222\n",
       "3       CA_244000    47    4   1.162000    1.697333     0.691111\n",
       "4       CA_244000    47    5   1.102111    1.556000     0.694111\n",
       "...           ...   ...  ...        ...         ...          ...\n",
       "270469  CA_420924    68  362   0.813125    1.293625     0.643375\n",
       "270470  CA_420924    68  363   0.781875    1.202875     0.658250\n",
       "270471  CA_420924    68  364   0.750250    1.146250     0.673250\n",
       "270472  CA_420924    68  365   0.570625    0.851125     0.690500\n",
       "270473  CA_420924    68  366   0.728000    1.089500     0.640000\n",
       "\n",
       "[270474 rows x 6 columns]"
      ]
     },
     "execution_count": 17,
     "metadata": {},
     "output_type": "execute_result"
    }
   ],
   "source": [
    "# Group by field, crop, and doy then calculate the average conditions\n",
    "climatology_table = pd.read_csv('../data/monterey_historical_climatology.csv', low_memory=False)\n",
    "climatology_table"
   ]
  },
  {
   "cell_type": "markdown",
   "metadata": {
    "id": "t9CdFXc3GP1f"
   },
   "source": [
    "### Error Metric Calculation"
   ]
  },
  {
   "cell_type": "code",
   "execution_count": 18,
   "metadata": {},
   "outputs": [],
   "source": [
    "analysis_end_date = datetime(year=2024, month=10, day=1)"
   ]
  },
  {
   "cell_type": "markdown",
   "metadata": {},
   "source": [
    "#### Field metrics"
   ]
  },
  {
   "cell_type": "markdown",
   "metadata": {
    "id": "pEQ-DRPsWWXr"
   },
   "source": [
    "Est. run time: 21m"
   ]
  },
  {
   "cell_type": "code",
   "execution_count": null,
   "metadata": {
    "colab": {
     "base_uri": "https://localhost:8080/",
     "height": 1000
    },
    "id": "np-6id4wDJRa",
    "outputId": "9b8a848a-eeb6-4474-83eb-d5a380e89de0",
    "scrolled": true
   },
   "outputs": [
    {
     "name": "stderr",
     "output_type": "stream",
     "text": [
      "/home/rfishman/anaconda3/lib/python3.12/site-packages/numpy/lib/function_base.py:2897: RuntimeWarning: invalid value encountered in divide\n",
      "  c /= stddev[:, None]\n",
      "/home/rfishman/anaconda3/lib/python3.12/site-packages/numpy/lib/function_base.py:2898: RuntimeWarning: invalid value encountered in divide\n",
      "  c /= stddev[None, :]\n",
      "/home/rfishman/anaconda3/lib/python3.12/site-packages/numpy/lib/function_base.py:2897: RuntimeWarning: invalid value encountered in divide\n",
      "  c /= stddev[:, None]\n",
      "/home/rfishman/anaconda3/lib/python3.12/site-packages/numpy/lib/function_base.py:2898: RuntimeWarning: invalid value encountered in divide\n",
      "  c /= stddev[None, :]\n",
      "/home/rfishman/anaconda3/lib/python3.12/site-packages/numpy/lib/function_base.py:2897: RuntimeWarning: invalid value encountered in divide\n",
      "  c /= stddev[:, None]\n",
      "/home/rfishman/anaconda3/lib/python3.12/site-packages/numpy/lib/function_base.py:2898: RuntimeWarning: invalid value encountered in divide\n",
      "  c /= stddev[None, :]\n",
      "/home/rfishman/anaconda3/lib/python3.12/site-packages/numpy/lib/function_base.py:2897: RuntimeWarning: invalid value encountered in divide\n",
      "  c /= stddev[:, None]\n",
      "/home/rfishman/anaconda3/lib/python3.12/site-packages/numpy/lib/function_base.py:2898: RuntimeWarning: invalid value encountered in divide\n",
      "  c /= stddev[None, :]\n",
      "/home/rfishman/anaconda3/lib/python3.12/site-packages/numpy/lib/function_base.py:2897: RuntimeWarning: invalid value encountered in divide\n",
      "  c /= stddev[:, None]\n",
      "/home/rfishman/anaconda3/lib/python3.12/site-packages/numpy/lib/function_base.py:2898: RuntimeWarning: invalid value encountered in divide\n",
      "  c /= stddev[None, :]\n",
      "/home/rfishman/anaconda3/lib/python3.12/site-packages/numpy/lib/function_base.py:2897: RuntimeWarning: invalid value encountered in divide\n",
      "  c /= stddev[:, None]\n",
      "/home/rfishman/anaconda3/lib/python3.12/site-packages/numpy/lib/function_base.py:2898: RuntimeWarning: invalid value encountered in divide\n",
      "  c /= stddev[None, :]\n",
      "/home/rfishman/anaconda3/lib/python3.12/site-packages/numpy/lib/function_base.py:2897: RuntimeWarning: invalid value encountered in divide\n",
      "  c /= stddev[:, None]\n",
      "/home/rfishman/anaconda3/lib/python3.12/site-packages/numpy/lib/function_base.py:2898: RuntimeWarning: invalid value encountered in divide\n",
      "  c /= stddev[None, :]\n",
      "/home/rfishman/anaconda3/lib/python3.12/site-packages/numpy/lib/function_base.py:2897: RuntimeWarning: invalid value encountered in divide\n",
      "  c /= stddev[:, None]\n",
      "/home/rfishman/anaconda3/lib/python3.12/site-packages/numpy/lib/function_base.py:2898: RuntimeWarning: invalid value encountered in divide\n",
      "  c /= stddev[None, :]\n",
      "/home/rfishman/anaconda3/lib/python3.12/site-packages/numpy/lib/function_base.py:2897: RuntimeWarning: invalid value encountered in divide\n",
      "  c /= stddev[:, None]\n",
      "/home/rfishman/anaconda3/lib/python3.12/site-packages/numpy/lib/function_base.py:2898: RuntimeWarning: invalid value encountered in divide\n",
      "  c /= stddev[None, :]\n",
      "/home/rfishman/anaconda3/lib/python3.12/site-packages/numpy/lib/function_base.py:2897: RuntimeWarning: invalid value encountered in divide\n",
      "  c /= stddev[:, None]\n",
      "/home/rfishman/anaconda3/lib/python3.12/site-packages/numpy/lib/function_base.py:2898: RuntimeWarning: invalid value encountered in divide\n",
      "  c /= stddev[None, :]\n",
      "/home/rfishman/anaconda3/lib/python3.12/site-packages/numpy/lib/function_base.py:2897: RuntimeWarning: invalid value encountered in divide\n",
      "  c /= stddev[:, None]\n",
      "/home/rfishman/anaconda3/lib/python3.12/site-packages/numpy/lib/function_base.py:2898: RuntimeWarning: invalid value encountered in divide\n",
      "  c /= stddev[None, :]\n",
      "/home/rfishman/anaconda3/lib/python3.12/site-packages/numpy/lib/function_base.py:2897: RuntimeWarning: invalid value encountered in divide\n",
      "  c /= stddev[:, None]\n",
      "/home/rfishman/anaconda3/lib/python3.12/site-packages/numpy/lib/function_base.py:2898: RuntimeWarning: invalid value encountered in divide\n",
      "  c /= stddev[None, :]\n",
      "/home/rfishman/anaconda3/lib/python3.12/site-packages/numpy/lib/function_base.py:2897: RuntimeWarning: invalid value encountered in divide\n",
      "  c /= stddev[:, None]\n",
      "/home/rfishman/anaconda3/lib/python3.12/site-packages/numpy/lib/function_base.py:2898: RuntimeWarning: invalid value encountered in divide\n",
      "  c /= stddev[None, :]\n",
      "/home/rfishman/anaconda3/lib/python3.12/site-packages/numpy/lib/function_base.py:2897: RuntimeWarning: invalid value encountered in divide\n",
      "  c /= stddev[:, None]\n",
      "/home/rfishman/anaconda3/lib/python3.12/site-packages/numpy/lib/function_base.py:2898: RuntimeWarning: invalid value encountered in divide\n",
      "  c /= stddev[None, :]\n",
      "/home/rfishman/anaconda3/lib/python3.12/site-packages/numpy/lib/function_base.py:2897: RuntimeWarning: invalid value encountered in divide\n",
      "  c /= stddev[:, None]\n",
      "/home/rfishman/anaconda3/lib/python3.12/site-packages/numpy/lib/function_base.py:2898: RuntimeWarning: invalid value encountered in divide\n",
      "  c /= stddev[None, :]\n",
      "/home/rfishman/anaconda3/lib/python3.12/site-packages/numpy/lib/function_base.py:2897: RuntimeWarning: invalid value encountered in divide\n",
      "  c /= stddev[:, None]\n",
      "/home/rfishman/anaconda3/lib/python3.12/site-packages/numpy/lib/function_base.py:2898: RuntimeWarning: invalid value encountered in divide\n",
      "  c /= stddev[None, :]\n",
      "/home/rfishman/anaconda3/lib/python3.12/site-packages/numpy/lib/function_base.py:2897: RuntimeWarning: invalid value encountered in divide\n",
      "  c /= stddev[:, None]\n",
      "/home/rfishman/anaconda3/lib/python3.12/site-packages/numpy/lib/function_base.py:2898: RuntimeWarning: invalid value encountered in divide\n",
      "  c /= stddev[None, :]\n",
      "/home/rfishman/anaconda3/lib/python3.12/site-packages/numpy/lib/function_base.py:2897: RuntimeWarning: invalid value encountered in divide\n",
      "  c /= stddev[:, None]\n",
      "/home/rfishman/anaconda3/lib/python3.12/site-packages/numpy/lib/function_base.py:2898: RuntimeWarning: invalid value encountered in divide\n",
      "  c /= stddev[None, :]\n",
      "/home/rfishman/anaconda3/lib/python3.12/site-packages/numpy/lib/function_base.py:2897: RuntimeWarning: invalid value encountered in divide\n",
      "  c /= stddev[:, None]\n",
      "/home/rfishman/anaconda3/lib/python3.12/site-packages/numpy/lib/function_base.py:2898: RuntimeWarning: invalid value encountered in divide\n",
      "  c /= stddev[None, :]\n",
      "/home/rfishman/anaconda3/lib/python3.12/site-packages/numpy/lib/function_base.py:2897: RuntimeWarning: invalid value encountered in divide\n",
      "  c /= stddev[:, None]\n",
      "/home/rfishman/anaconda3/lib/python3.12/site-packages/numpy/lib/function_base.py:2898: RuntimeWarning: invalid value encountered in divide\n",
      "  c /= stddev[None, :]\n",
      "/home/rfishman/anaconda3/lib/python3.12/site-packages/numpy/lib/function_base.py:2897: RuntimeWarning: invalid value encountered in divide\n",
      "  c /= stddev[:, None]\n",
      "/home/rfishman/anaconda3/lib/python3.12/site-packages/numpy/lib/function_base.py:2898: RuntimeWarning: invalid value encountered in divide\n",
      "  c /= stddev[None, :]\n",
      "/home/rfishman/anaconda3/lib/python3.12/site-packages/numpy/lib/function_base.py:2897: RuntimeWarning: invalid value encountered in divide\n",
      "  c /= stddev[:, None]\n",
      "/home/rfishman/anaconda3/lib/python3.12/site-packages/numpy/lib/function_base.py:2898: RuntimeWarning: invalid value encountered in divide\n",
      "  c /= stddev[None, :]\n",
      "/home/rfishman/anaconda3/lib/python3.12/site-packages/numpy/lib/function_base.py:2897: RuntimeWarning: invalid value encountered in divide\n",
      "  c /= stddev[:, None]\n",
      "/home/rfishman/anaconda3/lib/python3.12/site-packages/numpy/lib/function_base.py:2898: RuntimeWarning: invalid value encountered in divide\n",
      "  c /= stddev[None, :]\n",
      "/home/rfishman/anaconda3/lib/python3.12/site-packages/numpy/lib/function_base.py:2897: RuntimeWarning: invalid value encountered in divide\n",
      "  c /= stddev[:, None]\n",
      "/home/rfishman/anaconda3/lib/python3.12/site-packages/numpy/lib/function_base.py:2898: RuntimeWarning: invalid value encountered in divide\n",
      "  c /= stddev[None, :]\n",
      "/home/rfishman/anaconda3/lib/python3.12/site-packages/numpy/lib/function_base.py:2897: RuntimeWarning: invalid value encountered in divide\n",
      "  c /= stddev[:, None]\n",
      "/home/rfishman/anaconda3/lib/python3.12/site-packages/numpy/lib/function_base.py:2898: RuntimeWarning: invalid value encountered in divide\n",
      "  c /= stddev[None, :]\n",
      "/home/rfishman/anaconda3/lib/python3.12/site-packages/numpy/lib/function_base.py:2897: RuntimeWarning: invalid value encountered in divide\n",
      "  c /= stddev[:, None]\n",
      "/home/rfishman/anaconda3/lib/python3.12/site-packages/numpy/lib/function_base.py:2898: RuntimeWarning: invalid value encountered in divide\n",
      "  c /= stddev[None, :]\n",
      "/home/rfishman/anaconda3/lib/python3.12/site-packages/numpy/lib/function_base.py:2897: RuntimeWarning: invalid value encountered in divide\n",
      "  c /= stddev[:, None]\n",
      "/home/rfishman/anaconda3/lib/python3.12/site-packages/numpy/lib/function_base.py:2898: RuntimeWarning: invalid value encountered in divide\n",
      "  c /= stddev[None, :]\n",
      "/home/rfishman/anaconda3/lib/python3.12/site-packages/numpy/lib/function_base.py:2897: RuntimeWarning: invalid value encountered in divide\n",
      "  c /= stddev[:, None]\n",
      "/home/rfishman/anaconda3/lib/python3.12/site-packages/numpy/lib/function_base.py:2898: RuntimeWarning: invalid value encountered in divide\n",
      "  c /= stddev[None, :]\n",
      "/home/rfishman/anaconda3/lib/python3.12/site-packages/numpy/lib/function_base.py:2897: RuntimeWarning: invalid value encountered in divide\n",
      "  c /= stddev[:, None]\n",
      "/home/rfishman/anaconda3/lib/python3.12/site-packages/numpy/lib/function_base.py:2898: RuntimeWarning: invalid value encountered in divide\n",
      "  c /= stddev[None, :]\n",
      "/home/rfishman/anaconda3/lib/python3.12/site-packages/numpy/lib/function_base.py:2897: RuntimeWarning: invalid value encountered in divide\n",
      "  c /= stddev[:, None]\n",
      "/home/rfishman/anaconda3/lib/python3.12/site-packages/numpy/lib/function_base.py:2898: RuntimeWarning: invalid value encountered in divide\n",
      "  c /= stddev[None, :]\n",
      "/home/rfishman/anaconda3/lib/python3.12/site-packages/numpy/lib/function_base.py:2897: RuntimeWarning: invalid value encountered in divide\n",
      "  c /= stddev[:, None]\n",
      "/home/rfishman/anaconda3/lib/python3.12/site-packages/numpy/lib/function_base.py:2898: RuntimeWarning: invalid value encountered in divide\n",
      "  c /= stddev[None, :]\n",
      "/home/rfishman/anaconda3/lib/python3.12/site-packages/numpy/lib/function_base.py:2897: RuntimeWarning: invalid value encountered in divide\n",
      "  c /= stddev[:, None]\n",
      "/home/rfishman/anaconda3/lib/python3.12/site-packages/numpy/lib/function_base.py:2898: RuntimeWarning: invalid value encountered in divide\n",
      "  c /= stddev[None, :]\n",
      "/home/rfishman/anaconda3/lib/python3.12/site-packages/numpy/lib/function_base.py:2897: RuntimeWarning: invalid value encountered in divide\n",
      "  c /= stddev[:, None]\n",
      "/home/rfishman/anaconda3/lib/python3.12/site-packages/numpy/lib/function_base.py:2898: RuntimeWarning: invalid value encountered in divide\n",
      "  c /= stddev[None, :]\n",
      "/home/rfishman/anaconda3/lib/python3.12/site-packages/numpy/lib/function_base.py:2897: RuntimeWarning: invalid value encountered in divide\n",
      "  c /= stddev[:, None]\n",
      "/home/rfishman/anaconda3/lib/python3.12/site-packages/numpy/lib/function_base.py:2898: RuntimeWarning: invalid value encountered in divide\n",
      "  c /= stddev[None, :]\n"
     ]
    }
   ],
   "source": [
    "metrics_norm = (dt[(dt['time'] > dt['forecasting_date']) & (dt['time'] < (dt['forecasting_date']) + timedelta(days=7)) & (dt['time'] < analysis_end_date)]\n",
    "                .groupby(['forecasting_date'])[list(dt.columns)]\n",
    "                .apply(eval_metrics, normalize=True, climatology_ref=climatology_table, avgs_ref=avgs_table))\n",
    "metrics_norm.reset_index().to_csv('../data/metrics/monterey_metrics_normalized.csv', index=False)"
   ]
  },
  {
   "cell_type": "code",
   "execution_count": null,
   "metadata": {
    "colab": {
     "base_uri": "https://localhost:8080/",
     "height": 1000
    },
    "id": "np-6id4wDJRa",
    "outputId": "9b8a848a-eeb6-4474-83eb-d5a380e89de0",
    "scrolled": true
   },
   "outputs": [],
   "source": [
    "metrics_norm = pd.read_csv('../data/metrics/monterey_metrics_normalized.csv').drop(['level_1'], axis=1)\n",
    "metrics_norm['forecasting_date'] = pd.to_datetime(metrics_norm['forecasting_date'])"
   ]
  },
  {
   "cell_type": "code",
   "execution_count": null,
   "metadata": {},
   "outputs": [],
   "source": [
    "metrics_norm = (metrics_norm.groupby(['forecasting_date', 'variable'])[['field_id', 'crop', 'mae', 'rmse', 'bias', 'corr', 'skill_score']]\n",
    "                .apply(trim_extremes, cols=['mae', 'rmse', 'bias', 'corr', 'skill_score'], threshold=0.02))\n",
    "metrics_norm.info()"
   ]
  },
  {
   "cell_type": "code",
   "execution_count": null,
   "metadata": {},
   "outputs": [],
   "source": [
    "metrics_norm.head()"
   ]
  },
  {
   "cell_type": "markdown",
   "metadata": {
    "id": "h_pex2AUJfH-"
   },
   "source": [
    "#### Crop metrics"
   ]
  },
  {
   "cell_type": "code",
   "execution_count": null,
   "metadata": {
    "scrolled": true
   },
   "outputs": [],
   "source": [
    "crop_metrics = (dt[(dt['time'] > dt['forecasting_date']) & (dt['time'] < (dt['forecasting_date']) + timedelta(days=7)) & (dt['time'] < analysis_end_date)]\n",
    "                .groupby(by=['forecasting_date', 'crop'])[list(dt.columns)]\n",
    "                .apply(eval_metrics, normalize=True, climatology_ref=climatology_table, avgs_ref=avgs_table))\n",
    "crop_metrics.to_csv('../data/metrics/montery_crop_metrics.csv')"
   ]
  },
  {
   "cell_type": "code",
   "execution_count": null,
   "metadata": {},
   "outputs": [],
   "source": [
    "crop_metrics = pd.read_csv('../data/metrics/montery_crop_metrics.csv', low_memory=False).drop(['Unnamed: 2', 'crop.1'], axis=1)\n",
    "crop_metrics['forecasting_date'] = pd.to_datetime(crop_metrics['forecasting_date'])"
   ]
  },
  {
   "cell_type": "code",
   "execution_count": null,
   "metadata": {
    "scrolled": true
   },
   "outputs": [],
   "source": [
    "# crop_metrics = (crop_metrics.groupby(['forecasting_date', 'variable'])[['field_id', 'crop', 'mae', 'rmse', 'bias', 'corr', 'skill_score']]\n",
    "#                     .apply(trim_extremes, cols=['mae', 'rmse', 'bias', 'corr', 'skill_score'], threshold=0.02))\n",
    "# crop_metrics.info()"
   ]
  },
  {
   "cell_type": "markdown",
   "metadata": {
    "id": "vbQIoeLKESnt"
   },
   "source": [
    "### Visualization"
   ]
  },
  {
   "cell_type": "markdown",
   "metadata": {
    "id": "vBmpinsWwKte"
   },
   "source": [
    "#### Metric Correlation"
   ]
  },
  {
   "cell_type": "code",
   "execution_count": null,
   "metadata": {
    "colab": {
     "base_uri": "https://localhost:8080/",
     "height": 550
    },
    "id": "RAcg63PXUntJ",
    "outputId": "74dc6431-4e2f-4bf6-ad54-c8d1287ea01d"
   },
   "outputs": [],
   "source": [
    "plt.figure(figsize=(10, 6))\n",
    "metrics = ['mae', 'rmse', 'bias', 'corr', 'skill_score']\n",
    "corr_matrix = metrics_norm[metrics].corr()\n",
    "sns.heatmap(corr_matrix, annot=True, cmap='coolwarm', vmin=-1, vmax=1)\n",
    "plt.title('Correlation Heatmap of Metrics')\n",
    "plt.savefig('../images/monterey/field_metric_correlation.png')"
   ]
  },
  {
   "cell_type": "markdown",
   "metadata": {},
   "source": [
    "#### Distribution of Metrics"
   ]
  },
  {
   "cell_type": "code",
   "execution_count": null,
   "metadata": {},
   "outputs": [],
   "source": [
    "# First reshape data from wide-form to long-form\n",
    "metrics_long = metrics_norm.reset_index().melt(id_vars=['forecasting_date', 'field_id', 'crop', 'variable'], value_vars=['mae', 'bias', 'skill_score'], var_name='stat')"
   ]
  },
  {
   "cell_type": "code",
   "execution_count": null,
   "metadata": {},
   "outputs": [],
   "source": [
    "# To help with visualization, map proper names to the stats\n",
    "stat_propers = {\n",
    "    'mae': 'Mean Absolute Error',\n",
    "    'rmse': 'Root Mean Absolute Error',\n",
    "    'bias': 'Mean Forecast Bias',\n",
    "    'corr': 'Correlation Coefficient',\n",
    "    'skill_score': 'Skill Score'\n",
    "}\n",
    "metrics_long['name'] = metrics_long['stat'].map(stat_propers)\n",
    "metrics_long.info()"
   ]
  },
  {
   "cell_type": "markdown",
   "metadata": {
    "jp-MarkdownHeadingCollapsed": true
   },
   "source": [
    "##### Boxplot Distribution"
   ]
  },
  {
   "cell_type": "code",
   "execution_count": null,
   "metadata": {},
   "outputs": [],
   "source": [
    "rel = timeseries_rel(data=metrics_long, plot='cat', kind='box',\n",
    "                y='value', col='name', row='variable',\n",
    "                width=0.5, errorbar='sd',\n",
    "                flierprops=dict(markersize=0), title=\"Boxplot Distribution of Each Metric by Variable\",\n",
    "                export_img='field_boxplots.png', as_percent=True, margin_titles=True,\n",
    "                row_order=['ET', 'ETo', 'ETof'], title_template={\"col_template\":\"{col_name}\", \"row_template\":\"{row_name}\"},\n",
    "                facet_kws={\"despine\": False}, sharey='col', native_scale=True\n",
    "               );\n",
    "rel.axes.flat[2].yaxis.set_major_formatter('{x:.1f}');\n",
    "rel.axes.flat[2].set(ylim=(-1.25, 1.25));\n",
    "rel.axes.flat[2].set_yticks((1, 0.5, 0, -0.5, -1));\n",
    "rel.savefig('images/monterey/field_boxplots.png')"
   ]
  },
  {
   "cell_type": "markdown",
   "metadata": {},
   "source": [
    "##### Metric Interquartile Distrbution"
   ]
  },
  {
   "cell_type": "code",
   "execution_count": null,
   "metadata": {},
   "outputs": [],
   "source": [
    "rel = timeseries_rel(metrics_long, row='variable', col='name', y='value',\n",
    "                     errorbar=('pi', 50), estimator=np.median, as_percent=True, aspect=1.5,\n",
    "                     refline={'y': 0},\n",
    "                     facet_kws={'sharey': 'col', 'sharex': True, 'margin_titles': True},\n",
    "                     row_order=['ET', 'ETo', 'ETof'], title_template={\"col_template\":\"{col_name}\", \"row_template\":\"{row_name}\"},\n",
    "                     title=\"Interquartile Field Error Metrics\");\n",
    "rel.axes.flat[2].yaxis.set_major_formatter('{x:.1f}');\n",
    "rel.axes.flat[2].set(ylim=(-1.25, 1.25));\n",
    "rel.axes.flat[2].set_yticks((1, 0.5, 0, -0.5, -1));\n",
    "rel.savefig('../images/monterey/field_interquartile.png')"
   ]
  },
  {
   "cell_type": "markdown",
   "metadata": {},
   "source": [
    "#### Crop Metrics"
   ]
  },
  {
   "cell_type": "code",
   "execution_count": null,
   "metadata": {},
   "outputs": [],
   "source": [
    "# Reappend class names of crops for better readability in plots.\n",
    "metrics_long = metrics_long.join(cdl_codes, how=\"left\", on=\"crop\", validate=\"many_to_many\")"
   ]
  },
  {
   "cell_type": "code",
   "execution_count": null,
   "metadata": {},
   "outputs": [],
   "source": [
    "# crop_selector = dt.groupby('crop')['hectares'].agg('sum')[:3]\n",
    "crop_selector = [47, 69]"
   ]
  },
  {
   "cell_type": "code",
   "execution_count": null,
   "metadata": {},
   "outputs": [],
   "source": [
    "dt[dt['crop'].isin(crop_selector)].groupby('crop')['field_id'].nunique()"
   ]
  },
  {
   "cell_type": "code",
   "execution_count": null,
   "metadata": {},
   "outputs": [],
   "source": [
    "crop_plotter = metrics_long[metrics_long['crop'].isin(crop_selector)]\n",
    "crop_plotter.head()"
   ]
  },
  {
   "cell_type": "markdown",
   "metadata": {},
   "source": [
    "##### Probability Distributions"
   ]
  },
  {
   "cell_type": "code",
   "execution_count": null,
   "metadata": {},
   "outputs": [],
   "source": [
    "rel = timeseries_rel(crop_plotter[crop_plotter['variable'] == 'ET'], y='value', plot='rel', kind='line',\n",
    "                        col='Class_Names', row='name',\n",
    "                        refline={'y': 0},\n",
    "                        facet_kws={'sharey': 'row', 'sharex': True, 'margin_titles': True}, \n",
    "                        estimator=np.median, errorbar=('pi', 50), title_template={\"col_template\":\"{col_name}\", \"row_template\":\"{row_name}\"},\n",
    "                        title='25-75th ET Crop Statistics', as_percent=True);\n",
    "rel.axes.flat[4].yaxis.set_major_formatter('{x:.1f}');\n",
    "rel.axes.flat[4].set(ylim=(-1.25, 1.25));\n",
    "rel.axes.flat[4].set_yticks((1, 0.5, 0, -0.5, -1));\n",
    "rel.savefig(\"../images/monterey/et_crop_stats.png\")"
   ]
  },
  {
   "cell_type": "code",
   "execution_count": null,
   "metadata": {},
   "outputs": [],
   "source": [
    "rel = timeseries_rel(crop_plotter[crop_plotter['variable'] == 'ETo'], y='value', plot='rel', kind='line', errorbar=('pi', 50),\n",
    "                            col='Class_Names', row='name', facet_kws={'sharey': 'row', 'sharex': True, \"margin_titles\": True}, \n",
    "                            refline={'y': 0},\n",
    "                            estimator=np.median, export_img=\"eto_crop_stats\", title_template={\"col_template\":\"{col_name}\", \"row_template\":\"{row_name}\"},\n",
    "                            title='25-75th ETo Crop Statistics', as_percent=True);\n",
    "rel.axes.flat[4].yaxis.set_major_formatter('{x:.1f}');\n",
    "rel.axes.flat[4].set(ylim=(-1.25, 1.25));\n",
    "rel.axes.flat[4].set_yticks((1, 0.5, 0, -0.5, -1));\n",
    "rel.savefig(\"../images/monterey/eto_crop_stats.png\")"
   ]
  },
  {
   "cell_type": "code",
   "execution_count": null,
   "metadata": {},
   "outputs": [],
   "source": [
    "rel = timeseries_rel(crop_plotter[crop_plotter['variable'] == 'ETof'], y='value', plot='rel', kind='line', errorbar=('pi', 50),\n",
    "                            col='Class_Names', row='name', facet_kws={'sharey': 'row', 'sharex': True, 'margin_titles': True},\n",
    "                            refline={'y': 0},\n",
    "                            estimator=np.median, export_img=\"etof_crop_metrics\", title_template={\"col_template\":\"{col_name}\", \"row_template\":\"{row_name}\"},\n",
    "                            title='25-75th ETof Crop Statistics', as_percent=True);\n",
    "rel.axes.flat[4].yaxis.set_major_formatter('{x:.1f}');\n",
    "rel.axes.flat[4].set(ylim=(-1.25, 1.25));\n",
    "rel.axes.flat[4].set_yticks((1, 0.5, 0, -0.5, -1));\n",
    "rel.savefig(\"../images/monterey/etof_crop_stats.png\")"
   ]
  },
  {
   "cell_type": "markdown",
   "metadata": {},
   "source": [
    "### Alignment"
   ]
  },
  {
   "cell_type": "code",
   "execution_count": null,
   "metadata": {},
   "outputs": [],
   "source": [
    "df = dt[(dt['time'] >= dt['forecasting_date']) & (dt['time'] < (dt['forecasting_date']) + timedelta(days=7)) & (dt['time'] < analysis_end_date)]\n",
    "df = df.sort_values(by=['forecasting_date', 'field_id'])\n",
    "df.head()"
   ]
  },
  {
   "cell_type": "code",
   "execution_count": null,
   "metadata": {},
   "outputs": [],
   "source": [
    "def align_forecast(data: pd.DataFrame, adjustment=0.9):\n",
    "    recorded_et = data.head(1)['actual_et'].values[0]\n",
    "    recorded_eto = data.head(1)['actual_eto'].values[0]\n",
    "    recorded_etof = data.head(1)['actual_etof'].values[0]\n",
    "\n",
    "    first_et = data.head(1)['expected_et'].values[0]\n",
    "    first_eto = data.head(1)['expected_eto'].values[0]\n",
    "    first_etof = data.head(1)['expected_etof'].values[0]\n",
    "    \n",
    "    # last_obs: 0.543\n",
    "    # first_f: 0.750\n",
    "    # calc = (0.750 - 0.543) * 0.9 = 0.207 * 0.9 = 0.1863\n",
    "    \n",
    "    # get the difference of just the first forecasted date and apply it to the rest of the forecasting period\n",
    "    data['expected_et'] = data['expected_et'] - (first_et - recorded_et)\n",
    "    data['expected_eto'] = data['expected_eto'] - (first_eto - recorded_eto)\n",
    "    data['expected_etof'] = data['expected_etof'] - (first_etof - recorded_etof)\n",
    "\n",
    "    return data[['field_id', 'crop', 'time', 'actual_et', 'actual_eto', 'actual_etof', 'expected_et', 'expected_eto', 'expected_etof', 'Class_Names', 'ESRI_Red', 'ESRI_Green', 'ESRI_Blue', 'Erdas_Red', 'Erdas_Green', 'Erdas_Blue', 'hectares']]"
   ]
  },
  {
   "cell_type": "code",
   "execution_count": null,
   "metadata": {
    "scrolled": true
   },
   "outputs": [],
   "source": [
    "df = df.groupby('forecasting_date')[list(df.columns)].apply(align_forecast).reset_index().drop(columns='level_1')\n",
    "df.head()"
   ]
  },
  {
   "cell_type": "markdown",
   "metadata": {},
   "source": [
    "#### Metric Calculation"
   ]
  },
  {
   "cell_type": "code",
   "execution_count": null,
   "metadata": {
    "scrolled": true
   },
   "outputs": [],
   "source": [
    "# alignment_metrics = df.groupby('forecasting_date').apply(eval_metrics, normalize=True, climatology_ref=climatology_table, avgs_ref=avgs_table)\n",
    "# alignment_metrics.reset_index().to_csv('./data/metrics/monterey_alignment_metrics.csv', index=False)\n",
    "# alignment_metrics.head()"
   ]
  },
  {
   "cell_type": "code",
   "execution_count": null,
   "metadata": {},
   "outputs": [],
   "source": [
    "alignment_metrics = pd.read_csv('../data/metrics/monterey_alignment_metrics.csv', low_memory=False).drop(columns='level_1')\n",
    "alignment_metrics['forecasting_date'] = pd.to_datetime(alignment_metrics['forecasting_date'])\n",
    "alignment_metrics.head()"
   ]
  },
  {
   "cell_type": "markdown",
   "metadata": {},
   "source": [
    "#### Visualization"
   ]
  },
  {
   "cell_type": "code",
   "execution_count": null,
   "metadata": {},
   "outputs": [],
   "source": [
    "alignment_metrics_long = alignment_metrics.reset_index().melt(\n",
    "    id_vars=['forecasting_date', 'field_id', 'crop', 'variable'], value_vars=['mae', 'bias', 'skill_score'], var_name='stat')\n",
    "alignment_metrics_long.join(cdl_codes, how=\"left\", on=\"crop\", validate=\"many_to_many\")\n",
    "alignment_metrics_long"
   ]
  },
  {
   "cell_type": "code",
   "execution_count": null,
   "metadata": {},
   "outputs": [],
   "source": [
    "rel = timeseries_rel(alignment_metrics_long, row='variable', col='stat', y='value',\n",
    "                     errorbar=('pi', 50), estimator=np.median, as_percent=True, aspect=1.5,\n",
    "                     refline={'y': 0},\n",
    "                     facet_kws={'sharey': 'col', 'sharex': True, 'margin_titles': True},\n",
    "                     row_order=['ET', 'ETo', 'ETof'], title_template={\"col_template\":\"{col_name}\", \"row_template\":\"{row_name}\"},\n",
    "                     title=\"Post-Alignment Interquartile Accuracy\");\n",
    "rel.axes.flat[2].yaxis.set_major_formatter('{x:.1f}');\n",
    "rel.axes.flat[2].set(ylim=(-1.25, 1.25));\n",
    "rel.axes.flat[2].set_yticks((1, 0.5, 0, -0.5, -1));\n",
    "rel.axes.flat[5].yaxis.set_major_formatter('{x:.1f}');\n",
    "rel.axes.flat[5].set(ylim=(-1.25, 1.25));\n",
    "rel.axes.flat[5].set_yticks((1, 0.5, 0, -0.5, -1));\n",
    "rel.axes.flat[8].yaxis.set_major_formatter('{x:.1f}');\n",
    "rel.axes.flat[8].set(ylim=(-1.25, 1.25));\n",
    "rel.axes.flat[8].set_yticks((1, 0.5, 0, -0.5, -1));"
   ]
  },
  {
   "cell_type": "markdown",
   "metadata": {},
   "source": [
    "#### Alignment Comparison"
   ]
  },
  {
   "cell_type": "code",
   "execution_count": null,
   "metadata": {},
   "outputs": [],
   "source": [
    "alignment_metrics_long['aligned'] = True\n",
    "metrics_long['aligned'] = False\n",
    "\n",
    "alignment_metrics_cmp = pd.concat([alignment_metrics_long, metrics_long])\n",
    "alignment_metrics_cmp"
   ]
  },
  {
   "cell_type": "code",
   "execution_count": null,
   "metadata": {},
   "outputs": [],
   "source": [
    "rel = timeseries_rel(alignment_metrics_cmp, row='variable', col='stat', y='value', hue='aligned',\n",
    "                     errorbar='sd', estimator=np.median, as_percent=True, aspect=1.5,\n",
    "                     facet_kws={'sharey': False, 'sharex': True, 'margin_titles': True},\n",
    "                     row_order=['ET', 'ETo', 'ETof'], title_template={\"col_template\":\"{col_name}\", \"row_template\":\"{row_name}\"},\n",
    "                     title=\"Alignment Performance Comparison\");\n",
    "rel.axes.flat[2].yaxis.set_major_formatter('{x:.1f}');\n",
    "rel.axes.flat[2].set(ylim=(-1.25, 1.25));\n",
    "rel.axes.flat[2].set_yticks((1, 0.5, 0, -0.5, -1));\n",
    "rel.axes.flat[5].yaxis.set_major_formatter('{x:.1f}');\n",
    "rel.axes.flat[5].set(ylim=(-1.25, 1.25));\n",
    "rel.axes.flat[5].set_yticks((1, 0.5, 0, -0.5, -1));\n",
    "rel.axes.flat[8].yaxis.set_major_formatter('{x:.1f}');\n",
    "rel.axes.flat[8].set(ylim=(-1.25, 1.25));\n",
    "rel.axes.flat[8].set_yticks((1, 0.5, 0, -0.5, -1));\n",
    "rel.savefig('../images/monterey/alignment_comparison.png')"
   ]
  },
  {
   "cell_type": "markdown",
   "metadata": {
    "id": "hHCfsDxkZch2"
   },
   "source": [
    "### Spatial Plotting"
   ]
  },
  {
   "cell_type": "markdown",
   "metadata": {
    "id": "2n5XwM9RZgBf"
   },
   "source": [
    "#### Preparation\n",
    "\n",
    "First merge the geo table created in the beginning with the metrics table.\n",
    "\n",
    "Afterwards, get the average metrics amongst all forecasts."
   ]
  },
  {
   "cell_type": "code",
   "execution_count": null,
   "metadata": {},
   "outputs": [],
   "source": [
    "# Define date range of seasons\n",
    "winter = (datetime(year=2024, month=1, day=1), datetime(year=2024, month=3, day=20)) # Start winter at start of forecast range\n",
    "spring = (datetime(year=2024, month=3, day=21), datetime(year=2024, month=6, day=20))\n",
    "summer = (datetime(year=2024, month=6, day=21), datetime(year=2024, month=9, day=20))\n",
    "\n",
    "# Create list of the forecast dates that fit the seasonal ranges\n",
    "winter_forecasts = pd.Series([x for x in forecast_dates if x >= winter[0] and x <= winter[1]])\n",
    "spring_forecasts = pd.Series([x for x in forecast_dates if x >= spring[0] and x <= spring[1]])\n",
    "summer_forecasts = pd.Series([x for x in forecast_dates if x >= summer[0] and x <= summer[1]])\n",
    "\n",
    "def assign_season(x):\n",
    "    season = \"\"\n",
    "    if winter_forecasts.isin([x['forecasting_date']]).any():\n",
    "        season = \"Winter\"\n",
    "    elif spring_forecasts.isin([x['forecasting_date']]).any():\n",
    "        season = \"Spring\"\n",
    "    elif summer_forecasts.isin([x['forecasting_date']]).any():\n",
    "        season = \"Summer\"\n",
    "    return pd.Series({'season': season})"
   ]
  },
  {
   "cell_type": "code",
   "execution_count": null,
   "metadata": {
    "colab": {
     "base_uri": "https://localhost:8080/",
     "height": 455
    },
    "id": "IeouNzJlZjbs",
    "outputId": "4ccad14e-181c-4986-b963-a646c31f2c9a"
   },
   "outputs": [],
   "source": [
    "# Create column that defines a row's season\n",
    "seasonal_metrics = metrics_norm.reset_index().sort_values(by='forecasting_date').merge(metrics_norm.reset_index().apply(assign_season, axis=1), left_index=True, right_index=True)\n",
    "\n",
    "# Combine all forecasts for each field by getting mean of forecast metrics.\n",
    "seasonal_metrics = seasonal_metrics.groupby(['field_id', 'season', 'variable'])[['mae', 'rmse', 'bias', 'corr', 'skill_score']].agg('mean').round(2)\n",
    "\n",
    "# Add positional columns\n",
    "seasonal_metrics = seasonal_metrics.join(monterey_geo, how='left', on='field_id', validate='many_to_one')\n",
    "# Add field size column for marker size\n",
    "seasonal_metrics = seasonal_metrics.join(field_metadata, how='left', on='field_id', validate='many_to_one')\n",
    "# Calculate marker size\n",
    "seasonal_metrics['markersize'] = seasonal_metrics.apply(lambda x: np.max(np.divmod(x['hectares'] / 10, 10)[1], initial=2.0), axis=1)\n",
    "\n",
    "seasonal_metrics.reset_index(inplace=True)\n",
    "seasonal_metrics.dropna(inplace=True)\n",
    "seasonal_metrics"
   ]
  },
  {
   "cell_type": "markdown",
   "metadata": {
    "id": "TLVFsFZ6NSQ-"
   },
   "source": [
    "#### Import regional polygon"
   ]
  },
  {
   "cell_type": "code",
   "execution_count": null,
   "metadata": {
    "colab": {
     "base_uri": "https://localhost:8080/",
     "height": 89
    },
    "id": "Y7UFuggKNVXe",
    "outputId": "5a441034-0dba-4bcf-9e22-7391e260648e"
   },
   "outputs": [],
   "source": [
    "moco_geo = gpd.read_file(\"../data/geo/MoCo_Boundary.geojson\")\n",
    "moco_geo"
   ]
  },
  {
   "cell_type": "code",
   "execution_count": null,
   "metadata": {},
   "outputs": [],
   "source": [
    "moco_geo.crs"
   ]
  },
  {
   "cell_type": "markdown",
   "metadata": {},
   "source": [
    "#### FacetGrid Geo Helper"
   ]
  },
  {
   "cell_type": "code",
   "execution_count": null,
   "metadata": {},
   "outputs": [],
   "source": [
    "def facet_geoscatter(data, *, boundary_map, col, row=None, hue, palette=\"YlOrRd\", size=8,\n",
    "                     title, export_img: bool|str=None, height=4, aspect=1.2, double_legend=False,\n",
    "                     row_order=None, col_order=None, title_template={}, as_percent=True,\n",
    "                     normalize_cmap=False, background=False):\n",
    "    g = sns.FacetGrid(data, col=col, row=row, height=height, aspect=aspect, despine=False, row_order=row_order, col_order=col_order)\n",
    "    for ax in g.axes.flat:\n",
    "        boundary_map.plot(color=\"lightgrey\", edgecolor='k', alpha=0.3, ax=ax)\n",
    "        # Add basemap\n",
    "        if background:\n",
    "            ax.tick_params(left=False, bottom=False)\n",
    "            ax.set(xticklabels=[], yticklabels=[], xlabel=None, ylabel=None)\n",
    "            cx.add_basemap(ax, crs=boundary_map.crs.to_string(), attribution=False)\n",
    "\n",
    "    # Colorbar config\n",
    "    norm = None\n",
    "    if normalize_cmap:\n",
    "        norm = mcolors.TwoSlopeNorm(vcenter=0, vmin=data[hue].min(), vmax=data[hue].max())\n",
    "        c_mappable = cm.ScalarMappable(norm=norm, cmap=palette)\n",
    "        c_mappable.set_array(data[hue])\n",
    "    else: \n",
    "        c_mappable = plt.scatter([], [], c=[], vmin=data[hue].min(), vmax=data[hue].max(), cmap=palette);\n",
    "\n",
    "    # Plot points\n",
    "    g.map_dataframe(sns.scatterplot, x=\"longitude\", y=\"latitude\", hue=hue, hue_norm=norm, palette=palette, linewidths=0, size=size);\n",
    "    g.set(xlabel=None, ylabel=None)\n",
    "    g.set_titles(**title_template)\n",
    "    plt.suptitle(title, y=1.02);\n",
    "\n",
    "    # Add colorbar to right side\n",
    "    g.figure.subplots_adjust(right=.92)\n",
    "    cax = g.fig.add_axes([.94, .25, .02, .6])\n",
    "    g.figure.colorbar(c_mappable, cax=cax)\n",
    "    if as_percent:\n",
    "        cax.yaxis.set_major_formatter(mtick.PercentFormatter(1.0))\n",
    "    if double_legend is not False:\n",
    "        g.figure.subplots_adjust(right=.90)\n",
    "        dax = cax.twinx()\n",
    "        if type(double_legend) is not bool:\n",
    "            dax.set(ylim=(double_legend.min()['value'], double_legend.max()['value']))\n",
    "\n",
    "    # Export image\n",
    "    if type(export_img) is bool and save is True: g.savefig(f'../images/monterey/{title}.png')\n",
    "    elif type(export_img) is str: g.savefig(f'../images/monterey/{export_img}.png')\n",
    "    \n",
    "    return g"
   ]
  },
  {
   "cell_type": "code",
   "execution_count": null,
   "metadata": {},
   "outputs": [],
   "source": [
    "plt.rcdefaults()"
   ]
  },
  {
   "cell_type": "markdown",
   "metadata": {
    "id": "gDj2q-oBMj_q"
   },
   "source": [
    "#### Seasonal Overview"
   ]
  },
  {
   "cell_type": "markdown",
   "metadata": {},
   "source": [
    "##### ET Visualization"
   ]
  },
  {
   "cell_type": "code",
   "execution_count": null,
   "metadata": {},
   "outputs": [],
   "source": [
    "et_seasonal = seasonal_metrics[seasonal_metrics['variable'] == 'ET']"
   ]
  },
  {
   "cell_type": "code",
   "execution_count": null,
   "metadata": {},
   "outputs": [],
   "source": [
    "facet_geoscatter(et_seasonal, boundary_map=moco_geo, col='season', hue='skill_score', palette='Spectral', size='markersize',\n",
    "                 as_percent=False, normalize_cmap=True, export_img=\"et_spatial_skill_score\", \n",
    "                 col_order=['Winter', 'Spring', 'Summer'], title_template={\"template\":\"{col_name}\"},\n",
    "                 title=\"Average ET Skill Score across Monterey County by Season\", background=True);"
   ]
  },
  {
   "cell_type": "code",
   "execution_count": null,
   "metadata": {
    "colab": {
     "base_uri": "https://localhost:8080/",
     "height": 517
    },
    "id": "oRbL1Xi2RX6c",
    "outputId": "84cd41c9-1e5e-4dec-c8a0-3538792b1d26"
   },
   "outputs": [],
   "source": [
    "facet_geoscatter(et_seasonal, boundary_map=moco_geo, col='season', hue='corr', export_img=\"et_spatial_corr\", size='markersize',\n",
    "                     col_order=['Winter', 'Spring', 'Summer'], normalize_cmap=True, title_template={\"template\":\"{col_name}\"},\n",
    "                     title=\"Average ET Forecast Correlation across Monterey County by Season\", palette='Spectral', background=True);"
   ]
  },
  {
   "cell_type": "code",
   "execution_count": null,
   "metadata": {
    "colab": {
     "base_uri": "https://localhost:8080/",
     "height": 518
    },
    "id": "ev4VcBLEaDZg",
    "outputId": "a2128947-59e5-4df6-a4cc-247738cca344"
   },
   "outputs": [],
   "source": [
    "facet_geoscatter(et_seasonal, boundary_map=moco_geo, col='season', hue='mae',export_img=\"et_spatial_mae\", size='markersize',\n",
    "                     col_order=['Winter', 'Spring', 'Summer'], title_template={\"template\":\"{col_name}\"},\n",
    "                     title=\"Average ET MAE across Monterey County by Season\", background=True);"
   ]
  },
  {
   "cell_type": "code",
   "execution_count": null,
   "metadata": {
    "colab": {
     "base_uri": "https://localhost:8080/",
     "height": 517
    },
    "id": "9Bq3UwiDQ3el",
    "outputId": "a40579a4-96b8-4435-bc6e-c1b7f28c122a"
   },
   "outputs": [],
   "source": [
    "facet_geoscatter(et_seasonal, boundary_map=moco_geo, col='season', hue='rmse', export_img=\"et_spatial_rmse\", size='markersize',\n",
    "                     col_order=['Winter', 'Spring', 'Summer'], title_template={\"template\":\"{col_name}\"},\n",
    "                     title=\"Average ET RMSE across Monterey County by Season\", background=True);"
   ]
  },
  {
   "cell_type": "code",
   "execution_count": null,
   "metadata": {
    "colab": {
     "base_uri": "https://localhost:8080/",
     "height": 517
    },
    "id": "c93zyG18RSeq",
    "outputId": "1598e259-ded1-4567-817d-c2fd099f8c11"
   },
   "outputs": [],
   "source": [
    "facet_geoscatter(et_seasonal, boundary_map=moco_geo, col='season', hue='bias', palette='Spectral', export_img=\"et_spatial_bias\", size='markersize',\n",
    "                     col_order=['Winter', 'Spring', 'Summer'], normalize_cmap=True, title_template={\"template\":\"{col_name}\"},\n",
    "                     title=\"Average ET Forecast Bias across Monterey County by Season\", background=True);"
   ]
  },
  {
   "cell_type": "markdown",
   "metadata": {},
   "source": [
    "##### ETo Visualization"
   ]
  },
  {
   "cell_type": "code",
   "execution_count": null,
   "metadata": {},
   "outputs": [],
   "source": [
    "eto_seasonal = seasonal_metrics[seasonal_metrics['variable'] == 'ETo']"
   ]
  },
  {
   "cell_type": "code",
   "execution_count": null,
   "metadata": {},
   "outputs": [],
   "source": [
    "facet_geoscatter(eto_seasonal, boundary_map=moco_geo, col='season', hue='skill_score', export_img=\"eto_spatial_skill_score\", as_percent=False, size='markersize',\n",
    "                     col_order=['Winter', 'Spring', 'Summer'], normalize_cmap=True, title_template={\"template\":\"{col_name}\"},\n",
    "                     title=\"Average ETo Skill Score across Monterey County by Season\", palette='Spectral', background=True);"
   ]
  },
  {
   "cell_type": "code",
   "execution_count": null,
   "metadata": {},
   "outputs": [],
   "source": [
    "facet_geoscatter(eto_seasonal, boundary_map=moco_geo, col='season', hue='corr', export_img=\"eto_spatial_corr\", size='markersize',\n",
    "                     col_order=['Winter', 'Spring', 'Summer'], normalize_cmap=True, title_template={\"template\":\"{col_name}\"},\n",
    "                     title=\"Average ETo Forecast Correlation across Monterey County by Season\", palette='Spectral', background=True);"
   ]
  },
  {
   "cell_type": "code",
   "execution_count": null,
   "metadata": {},
   "outputs": [],
   "source": [
    "facet_geoscatter(eto_seasonal, boundary_map=moco_geo, col='season', hue='mae',export_img=\"eto_spatial_mae\", size='markersize',\n",
    "                     col_order=['Winter', 'Spring', 'Summer'], title_template={\"template\":\"{col_name}\"},\n",
    "                     title=\"Average ETo MAE across Monterey County by Season\", background=True);"
   ]
  },
  {
   "cell_type": "code",
   "execution_count": null,
   "metadata": {},
   "outputs": [],
   "source": [
    "facet_geoscatter(eto_seasonal, boundary_map=moco_geo, col='season', hue='rmse', export_img=\"eto_spatial_rmse\", size='markersize',\n",
    "                     col_order=['Winter', 'Spring', 'Summer'], title_template={\"template\":\"{col_name}\"},\n",
    "                     title=\"Average ETo RMSE across Monterey County by Season\", background=True);"
   ]
  },
  {
   "cell_type": "code",
   "execution_count": null,
   "metadata": {},
   "outputs": [],
   "source": [
    "facet_geoscatter(eto_seasonal, boundary_map=moco_geo, col='season', hue='bias', palette='Spectral', export_img=\"eto_spatial_bias\", size='markersize',\n",
    "                     col_order=['Winter', 'Spring', 'Summer'], normalize_cmap=True, title_template={\"template\":\"{col_name}\"},\n",
    "                     title=\"Average ETo Forecast Bias across Monterey County by Season\", background=True);"
   ]
  },
  {
   "cell_type": "markdown",
   "metadata": {},
   "source": [
    "##### EToF Visualization"
   ]
  },
  {
   "cell_type": "code",
   "execution_count": null,
   "metadata": {},
   "outputs": [],
   "source": [
    "etof_seasonal = seasonal_metrics[seasonal_metrics['variable'] == 'ETof']"
   ]
  },
  {
   "cell_type": "code",
   "execution_count": null,
   "metadata": {},
   "outputs": [],
   "source": [
    "facet_geoscatter(etof_seasonal, boundary_map=moco_geo, col='season', hue='skill_score', size='markersize', export_img=\"etof_spatial_skill_score\", as_percent=False,\n",
    "                     col_order=['Winter', 'Spring', 'Summer'], normalize_cmap=True, title_template={\"template\":\"{col_name}\"},\n",
    "                     title=\"Average EToF Skill Score across Monterey County by Season\", palette='Spectral', background=True);"
   ]
  },
  {
   "cell_type": "code",
   "execution_count": null,
   "metadata": {},
   "outputs": [],
   "source": [
    "facet_geoscatter(etof_seasonal, boundary_map=moco_geo, col='season', hue='corr', size='markersize', export_img=\"etof_spatial_corr\",\n",
    "                     col_order=['Winter', 'Spring', 'Summer'], normalize_cmap=True, title_template={\"template\":\"{col_name}\"},\n",
    "                     title=\"Average EToF Forecast Correlation across Monterey County by Season\", palette='Spectral', background=True);"
   ]
  },
  {
   "cell_type": "code",
   "execution_count": null,
   "metadata": {},
   "outputs": [],
   "source": [
    "facet_geoscatter(etof_seasonal, boundary_map=moco_geo, col='season', hue='mae', size='markersize', export_img=\"etof_spatial_mae\",\n",
    "                     col_order=['Winter', 'Spring', 'Summer'], title_template={\"template\":\"{col_name}\"},\n",
    "                     title=\"Average EToF MAE across Monterey County by Season\", background=True);"
   ]
  },
  {
   "cell_type": "code",
   "execution_count": null,
   "metadata": {},
   "outputs": [],
   "source": [
    "facet_geoscatter(etof_seasonal, boundary_map=moco_geo, col='season', hue='rmse', size='markersize', export_img=\"etof_spatial_rmse\",\n",
    "                     col_order=['Winter', 'Spring', 'Summer'], title_template={\"template\":\"{col_name}\"},\n",
    "                     title=\"Average EToF RMSE across Monterey County by Season\", background=True);"
   ]
  },
  {
   "cell_type": "code",
   "execution_count": null,
   "metadata": {},
   "outputs": [],
   "source": [
    "facet_geoscatter(etof_seasonal, boundary_map=moco_geo, col='season', hue='bias', size='markersize', palette='Spectral', export_img=\"etof_spatial_bias\",\n",
    "                     col_order=['Winter', 'Spring', 'Summer'], normalize_cmap=True, title_template={\"template\":\"{col_name}\"},\n",
    "                     title=\"Average EToF Forecast Bias across Monterey County by Season\", background=True);"
   ]
  },
  {
   "cell_type": "markdown",
   "metadata": {},
   "source": [
    "#### Summer Overview"
   ]
  },
  {
   "cell_type": "code",
   "execution_count": null,
   "metadata": {},
   "outputs": [],
   "source": [
    "summer_metrics = seasonal_metrics[seasonal_metrics['season'] == 'Summer'][['field_id', 'variable', 'longitude', 'latitude', 'mae', 'bias', 'skill_score', 'markersize']]\n",
    "summer_metrics = summer_metrics.melt(id_vars=['field_id', 'variable', 'longitude', 'latitude', 'markersize'], value_vars=['mae', 'bias', 'skill_score'], var_name='stat')\n",
    "summer_metrics.head()"
   ]
  },
  {
   "cell_type": "code",
   "execution_count": null,
   "metadata": {},
   "outputs": [],
   "source": [
    "# Add subtitles into the data to insert into the plots\n",
    "subtitle_dict = {\n",
    "    'mae': 'Mean Absolute Error',\n",
    "    'bias': 'Forecast Bias',\n",
    "    'skill_score': 'Skill Score'\n",
    "}\n",
    "summer_metrics['name'] = summer_metrics['stat'].map(subtitle_dict)"
   ]
  },
  {
   "cell_type": "code",
   "execution_count": null,
   "metadata": {},
   "outputs": [],
   "source": [
    "# Keyword for double-sided legend\n",
    "sm_skill_score = summer_metrics[summer_metrics['stat'] == 'skill_score']"
   ]
  },
  {
   "cell_type": "code",
   "execution_count": null,
   "metadata": {},
   "outputs": [],
   "source": [
    "# Create subplot grid for each metric\n",
    "g = facet_geoscatter(summer_metrics[summer_metrics['variable'] == 'ET'], boundary_map=moco_geo, col='name', hue='value', size='markersize', normalize_cmap=True,\n",
    "                     title='ET Summer Metric Overview for Monterey County', title_template={\"template\": \"{col_name}\"}, export_img=\"et_summer_spatial\",\n",
    "                     double_legend=sm_skill_score[sm_skill_score['variable'] == 'ET'], background=True);"
   ]
  },
  {
   "cell_type": "code",
   "execution_count": null,
   "metadata": {},
   "outputs": [],
   "source": [
    "# Create subplot grid for each metric\n",
    "g = facet_geoscatter(summer_metrics[summer_metrics['variable'] == 'ETo'], boundary_map=moco_geo, col='name', hue='value', size='markersize', normalize_cmap=True,\n",
    "                     title='ETo Summer Metric Overview for Monterey County', title_template={\"template\": \"{col_name}\"}, export_img=\"eto_summer_spatial\",\n",
    "                     double_legend=sm_skill_score[sm_skill_score['variable'] == 'ETo'], background=True);"
   ]
  },
  {
   "cell_type": "code",
   "execution_count": null,
   "metadata": {},
   "outputs": [],
   "source": [
    "# Create subplot grid for each metric\n",
    "g = facet_geoscatter(summer_metrics[summer_metrics['variable'] == 'ETof'], boundary_map=moco_geo, col='name', hue='value', size='markersize', normalize_cmap=True,\n",
    "                     title='EToF Summer Metric Overview for Monterey County', title_template={\"template\": \"{col_name}\"}, export_img=\"etof_summer_spatial\",\n",
    "                     double_legend=sm_skill_score[sm_skill_score['variable'] == 'ETof'], background=True);"
   ]
  }
 ],
 "metadata": {
  "colab": {
   "provenance": [],
   "toc_visible": true
  },
  "kernelspec": {
   "display_name": "Python 3 (ipykernel)",
   "language": "python",
   "name": "python3"
  },
  "language_info": {
   "codemirror_mode": {
    "name": "ipython",
    "version": 3
   },
   "file_extension": ".py",
   "mimetype": "text/x-python",
   "name": "python",
   "nbconvert_exporter": "python",
   "pygments_lexer": "ipython3",
   "version": "3.12.4"
  }
 },
 "nbformat": 4,
 "nbformat_minor": 4
}
