{
 "cells": [
  {
   "cell_type": "code",
   "execution_count": 2,
   "id": "2ecb2292-4998-4559-b72c-646a9d136116",
   "metadata": {},
   "outputs": [
    {
     "data": {
      "text/html": [
       "<script>\n",
       "code_show=true; \n",
       "function code_toggle() {\n",
       " if (code_show){\n",
       " $('div.input').hide();\n",
       " } else {\n",
       " $('div.input').show();\n",
       " }\n",
       " code_show = !code_show\n",
       "} \n",
       "$( document ).ready(code_toggle);\n",
       "</script>\n",
       "<form action=\"javascript:code_toggle()\"><input type=\"submit\" value=\"Click here to toggle on/off the raw code.\"></form>"
      ],
      "text/plain": [
       "<IPython.core.display.HTML object>"
      ]
     },
     "execution_count": 2,
     "metadata": {},
     "output_type": "execute_result"
    }
   ],
   "source": [
    "from IPython.display import HTML\n",
    "\n",
    "HTML('''<script>\n",
    "code_show=true; \n",
    "function code_toggle() {\n",
    " if (code_show){\n",
    " $('div.input').hide();\n",
    " } else {\n",
    " $('div.input').show();\n",
    " }\n",
    " code_show = !code_show\n",
    "} \n",
    "$( document ).ready(code_toggle);\n",
    "</script>\n",
    "<form action=\"javascript:code_toggle()\"><input type=\"submit\" value=\"Click here to toggle on/off the raw code.\"></form>''')"
   ]
  },
  {
   "cell_type": "markdown",
   "id": "1c78c041-3776-4286-8279-a69848c517d0",
   "metadata": {},
   "source": [
    "# ET Analysis\n",
    "## Initial data check\n",
    "First import data and verify that it looks correct."
   ]
  },
  {
   "cell_type": "code",
   "execution_count": 3,
   "id": "98dbed3a-3820-4d39-aa16-f8fbe8c17ca2",
   "metadata": {},
   "outputs": [],
   "source": [
    "import pandas as pd\n",
    "import numpy as np\n",
    "import matplotlib.pyplot as plt\n",
    "\n",
    "dt = pd.read_csv(\"samples_data_table.csv\", low_memory=False)"
   ]
  },
  {
   "cell_type": "code",
   "execution_count": 4,
   "id": "50b1cdfc-73bc-4fff-b74b-598553c60020",
   "metadata": {
    "editable": true,
    "slideshow": {
     "slide_type": ""
    },
    "tags": []
   },
   "outputs": [
    {
     "data": {
      "text/html": [
       "<div>\n",
       "<style scoped>\n",
       "    .dataframe tbody tr th:only-of-type {\n",
       "        vertical-align: middle;\n",
       "    }\n",
       "\n",
       "    .dataframe tbody tr th {\n",
       "        vertical-align: top;\n",
       "    }\n",
       "\n",
       "    .dataframe thead th {\n",
       "        text-align: right;\n",
       "    }\n",
       "</style>\n",
       "<table border=\"1\" class=\"dataframe\">\n",
       "  <thead>\n",
       "    <tr style=\"text-align: right;\">\n",
       "      <th></th>\n",
       "      <th>field_id</th>\n",
       "      <th>crop</th>\n",
       "      <th>time</th>\n",
       "      <th>et_actual</th>\n",
       "      <th>et_forecast</th>\n",
       "    </tr>\n",
       "  </thead>\n",
       "  <tbody>\n",
       "    <tr>\n",
       "      <th>0</th>\n",
       "      <td>CA_342669</td>\n",
       "      <td>36</td>\n",
       "      <td>2023-12-01</td>\n",
       "      <td>8.0</td>\n",
       "      <td>9.0</td>\n",
       "    </tr>\n",
       "    <tr>\n",
       "      <th>1</th>\n",
       "      <td>CA_342669</td>\n",
       "      <td>36</td>\n",
       "      <td>2023-11-01</td>\n",
       "      <td>11.0</td>\n",
       "      <td>7.0</td>\n",
       "    </tr>\n",
       "    <tr>\n",
       "      <th>2</th>\n",
       "      <td>CA_342669</td>\n",
       "      <td>36</td>\n",
       "      <td>2023-10-01</td>\n",
       "      <td>22.0</td>\n",
       "      <td>19.0</td>\n",
       "    </tr>\n",
       "    <tr>\n",
       "      <th>3</th>\n",
       "      <td>CA_342669</td>\n",
       "      <td>36</td>\n",
       "      <td>2023-09-01</td>\n",
       "      <td>28.0</td>\n",
       "      <td>42.0</td>\n",
       "    </tr>\n",
       "    <tr>\n",
       "      <th>4</th>\n",
       "      <td>CA_342669</td>\n",
       "      <td>36</td>\n",
       "      <td>2023-08-01</td>\n",
       "      <td>50.0</td>\n",
       "      <td>38.0</td>\n",
       "    </tr>\n",
       "  </tbody>\n",
       "</table>\n",
       "</div>"
      ],
      "text/plain": [
       "    field_id  crop        time  et_actual  et_forecast\n",
       "0  CA_342669    36  2023-12-01        8.0          9.0\n",
       "1  CA_342669    36  2023-11-01       11.0          7.0\n",
       "2  CA_342669    36  2023-10-01       22.0         19.0\n",
       "3  CA_342669    36  2023-09-01       28.0         42.0\n",
       "4  CA_342669    36  2023-08-01       50.0         38.0"
      ]
     },
     "execution_count": 4,
     "metadata": {},
     "output_type": "execute_result"
    }
   ],
   "source": [
    "# Show first couple rows to show this worked.\n",
    "dt.head()"
   ]
  },
  {
   "cell_type": "markdown",
   "id": "88dafd6c-ae30-461d-9211-3a28192fe5e0",
   "metadata": {},
   "source": [
    "## Table Processing"
   ]
  },
  {
   "cell_type": "markdown",
   "id": "2b2bb0f2-2742-46a9-af8f-ffc92b736dff",
   "metadata": {},
   "source": [
    "I'll add a diff column in the table as an easy way to see how the forecast algorithm did against the real ET data.\n",
    "This will be plotted later."
   ]
  },
  {
   "cell_type": "code",
   "execution_count": 5,
   "id": "672da6af-9510-469f-b1ca-3830bb798358",
   "metadata": {},
   "outputs": [
    {
     "data": {
      "text/html": [
       "<div>\n",
       "<style scoped>\n",
       "    .dataframe tbody tr th:only-of-type {\n",
       "        vertical-align: middle;\n",
       "    }\n",
       "\n",
       "    .dataframe tbody tr th {\n",
       "        vertical-align: top;\n",
       "    }\n",
       "\n",
       "    .dataframe thead th {\n",
       "        text-align: right;\n",
       "    }\n",
       "</style>\n",
       "<table border=\"1\" class=\"dataframe\">\n",
       "  <thead>\n",
       "    <tr style=\"text-align: right;\">\n",
       "      <th></th>\n",
       "      <th>field_id</th>\n",
       "      <th>crop</th>\n",
       "      <th>time</th>\n",
       "      <th>et_actual</th>\n",
       "      <th>et_forecast</th>\n",
       "      <th>diff</th>\n",
       "    </tr>\n",
       "  </thead>\n",
       "  <tbody>\n",
       "    <tr>\n",
       "      <th>0</th>\n",
       "      <td>CA_342669</td>\n",
       "      <td>36</td>\n",
       "      <td>2023-12-01</td>\n",
       "      <td>8.0</td>\n",
       "      <td>9.0</td>\n",
       "      <td>1.0</td>\n",
       "    </tr>\n",
       "    <tr>\n",
       "      <th>1</th>\n",
       "      <td>CA_342669</td>\n",
       "      <td>36</td>\n",
       "      <td>2023-11-01</td>\n",
       "      <td>11.0</td>\n",
       "      <td>7.0</td>\n",
       "      <td>-4.0</td>\n",
       "    </tr>\n",
       "    <tr>\n",
       "      <th>2</th>\n",
       "      <td>CA_342669</td>\n",
       "      <td>36</td>\n",
       "      <td>2023-10-01</td>\n",
       "      <td>22.0</td>\n",
       "      <td>19.0</td>\n",
       "      <td>-3.0</td>\n",
       "    </tr>\n",
       "    <tr>\n",
       "      <th>3</th>\n",
       "      <td>CA_342669</td>\n",
       "      <td>36</td>\n",
       "      <td>2023-09-01</td>\n",
       "      <td>28.0</td>\n",
       "      <td>42.0</td>\n",
       "      <td>14.0</td>\n",
       "    </tr>\n",
       "    <tr>\n",
       "      <th>4</th>\n",
       "      <td>CA_342669</td>\n",
       "      <td>36</td>\n",
       "      <td>2023-08-01</td>\n",
       "      <td>50.0</td>\n",
       "      <td>38.0</td>\n",
       "      <td>-12.0</td>\n",
       "    </tr>\n",
       "  </tbody>\n",
       "</table>\n",
       "</div>"
      ],
      "text/plain": [
       "    field_id  crop        time  et_actual  et_forecast  diff\n",
       "0  CA_342669    36  2023-12-01        8.0          9.0   1.0\n",
       "1  CA_342669    36  2023-11-01       11.0          7.0  -4.0\n",
       "2  CA_342669    36  2023-10-01       22.0         19.0  -3.0\n",
       "3  CA_342669    36  2023-09-01       28.0         42.0  14.0\n",
       "4  CA_342669    36  2023-08-01       50.0         38.0 -12.0"
      ]
     },
     "execution_count": 5,
     "metadata": {},
     "output_type": "execute_result"
    }
   ],
   "source": [
    "dt['diff'] = dt['et_forecast'] - dt['et_actual']\n",
    "\n",
    "dt.head()"
   ]
  },
  {
   "cell_type": "markdown",
   "id": "02945ead-1ad1-444c-b871-e0f5c8062172",
   "metadata": {},
   "source": [
    "#### Missing Values\n",
    "Checking to see if there were any missing values shows us that there is no missing data between all columns"
   ]
  },
  {
   "cell_type": "code",
   "execution_count": 6,
   "id": "2426ba08-ddbf-4919-8846-400dbbf94228",
   "metadata": {},
   "outputs": [
    {
     "data": {
      "text/plain": [
       "field_id       0\n",
       "crop           0\n",
       "time           0\n",
       "et_actual      0\n",
       "et_forecast    0\n",
       "diff           0\n",
       "dtype: int64"
      ]
     },
     "execution_count": 6,
     "metadata": {},
     "output_type": "execute_result"
    }
   ],
   "source": [
    "dt.isna().sum()"
   ]
  },
  {
   "cell_type": "markdown",
   "id": "3823e043-1766-476d-9a04-b2e559a10449",
   "metadata": {},
   "source": [
    "## Field analysis\n",
    "The table as it isn't much helpful. Best to group the table by fields"
   ]
  },
  {
   "cell_type": "code",
   "execution_count": 7,
   "id": "3c54a553-91b9-4a8e-b6fd-c67224f4b957",
   "metadata": {},
   "outputs": [],
   "source": [
    "dt_fields = dt[['field_id', 'et_actual', 'et_forecast', 'diff']].groupby(['field_id'])"
   ]
  },
  {
   "cell_type": "markdown",
   "id": "baea5d22-0ea5-42a1-b906-bd0c8e964ac0",
   "metadata": {},
   "source": [
    "## Crop analysis"
   ]
  },
  {
   "cell_type": "markdown",
   "id": "be874bc0-2e73-4cc5-b344-401baeee473b",
   "metadata": {},
   "source": [
    "Another useful table would be grouping by crops."
   ]
  },
  {
   "cell_type": "code",
   "execution_count": 8,
   "id": "88bc4eab-ec3c-4235-b856-64c645b75e60",
   "metadata": {},
   "outputs": [],
   "source": [
    "dt_crops = dt[['crop', 'et_actual', 'et_forecast', 'diff']].groupby(['crop'])\n"
   ]
  },
  {
   "cell_type": "markdown",
   "id": "1c2edeb5-ccdd-4630-999e-084a4cf4e834",
   "metadata": {},
   "source": [
    "Creating a table for crop averages tells us the average ET for each type of crop.\n",
    "\n",
    "Since a diff column was added in the beginning, the table also shows the average difference in ET forecasting to its actual."
   ]
  },
  {
   "cell_type": "code",
   "execution_count": 9,
   "id": "e11eea2b-717e-4f9d-82dd-c32d4a8993c2",
   "metadata": {
    "scrolled": true
   },
   "outputs": [
    {
     "name": "stdout",
     "output_type": "stream",
     "text": [
      "      et_actual  et_forecast      diff\n",
      "crop                                  \n",
      "3     87.728070    80.697368 -7.030702\n",
      "36    66.673913    65.420290 -1.253623\n",
      "47    59.725962    57.211939 -2.514022\n",
      "61    50.250000    46.808974 -3.441026\n",
      "66    83.083333    79.533333 -3.550000\n",
      "67    81.320513    81.826923  0.506410\n",
      "69    50.046948    49.397887 -0.649061\n",
      "72    69.023438    69.299479  0.276042\n",
      "75    86.319940    87.339286  1.019345\n",
      "76    73.720238    80.119048  6.398810\n",
      "78    71.824074    65.916667 -5.907407\n",
      "82    78.750000    81.833333  3.083333\n",
      "122   43.208333    47.333333  4.125000\n",
      "141   54.000000    61.716667  7.716667\n",
      "152   30.666667    33.583333  2.916667\n",
      "176   67.120748    68.841837  1.721088\n",
      "204   77.354167    76.833333 -0.520833\n",
      "211   65.965278    68.152778  2.187500\n",
      "215   75.384615    73.185897 -2.198718\n",
      "220   82.380952    83.309524  0.928571\n",
      "241   83.825758    82.852273 -0.973485\n"
     ]
    }
   ],
   "source": [
    "dt_crop_average = dt_crops[['et_actual', 'et_forecast', 'diff']].mean()\n",
    "\n",
    "print(dt_crop_average)"
   ]
  },
  {
   "cell_type": "code",
   "execution_count": 10,
   "id": "c3164669-446c-4243-9ef3-43d7c8074a67",
   "metadata": {
    "editable": true,
    "slideshow": {
     "slide_type": ""
    },
    "tags": []
   },
   "outputs": [
    {
     "data": {
      "image/png": "[encoded data removed]",
      "text/plain": [
       "<Figure size 1600x400 with 1 Axes>"
      ]
     },
     "metadata": {},
     "output_type": "display_data"
    }
   ],
   "source": [
    "dt_crop_average[['et_actual', 'et_forecast']].plot.bar(figsize=(16, 4), legend=\"best\");"
   ]
  },
  {
   "cell_type": "code",
   "execution_count": 11,
   "id": "148f402d-7f2d-4fda-a6a5-6e528a4991c5",
   "metadata": {},
   "outputs": [
    {
     "data": {
      "image/png": "[encoded data removed]",
      "text/plain": [
       "<Figure size 640x480 with 1 Axes>"
      ]
     },
     "metadata": {},
     "output_type": "display_data"
    }
   ],
   "source": [
    "dtca_plot = dt_crop_average[['diff']].plot.barh(title=\"ETmm Forecast Difference\", xlabel=\"ET(mm)\");\n",
    "\n",
    "for i in dtca_plot.patches:\n",
    "    dtca_plot.text(i.get_width()+0.2, i.get_y()+0.5, \n",
    "             str(round((i.get_width()), 2)),\n",
    "             fontsize = 5, fontweight ='bold',\n",
    "             color ='grey')"
   ]
  },
  {
   "cell_type": "code",
   "execution_count": null,
   "id": "57395e29-6086-4e77-bf2a-7b4cc8c7944e",
   "metadata": {},
   "outputs": [],
   "source": []
  }
 ],
 "metadata": {
  "kernelspec": {
   "display_name": "Python 3 (ipykernel)",
   "language": "python",
   "name": "python3"
  },
  "language_info": {
   "codemirror_mode": {
    "name": "ipython",
    "version": 3
   },
   "file_extension": ".py",
   "mimetype": "text/x-python",
   "name": "python",
   "nbconvert_exporter": "python",
   "pygments_lexer": "ipython3",
   "version": "3.9.13"
  }
 },
 "nbformat": 4,
 "nbformat_minor": 5
}
