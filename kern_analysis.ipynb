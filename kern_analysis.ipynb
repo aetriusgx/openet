{
 "cells": [
  {
   "cell_type": "code",
   "execution_count": 1,
   "metadata": {
    "colab": {
     "base_uri": "https://localhost:8080/"
    },
    "id": "Yttp_jHy-_6P",
    "outputId": "bb6f90fb-6f71-4b6d-86c9-7f6eae69277b"
   },
   "outputs": [],
   "source": [
    "# # Google Colab specific\n",
    "# %cd ~/../content\n",
    "# !rm -rf openet\n",
    "\n",
    "# !git clone https://github.com/aetriusgx/openet.git\n",
    "# %cd openet"
   ]
  },
  {
   "cell_type": "markdown",
   "metadata": {
    "id": "hwxgp5l2twZU"
   },
   "source": [
    "# Data Preparation"
   ]
  },
  {
   "cell_type": "code",
   "execution_count": 2,
   "metadata": {
    "id": "yG3o_L_Z_D3s"
   },
   "outputs": [],
   "source": [
    "from matplotlib.colors import LinearSegmentedColormap\n",
    "from datetime import datetime\n",
    "from pathlib import Path\n",
    "from sklearn.metrics import mean_absolute_error, mean_squared_error, r2_score\n",
    "\n",
    "import geopandas as gpd\n",
    "import json\n",
    "import pandas as pd\n",
    "import numpy as np\n",
    "import matplotlib.cm as cm\n",
    "import matplotlib.colors as mcolors\n",
    "import matplotlib.dates as mdates\n",
    "import matplotlib.pyplot as plt\n",
    "import matplotlib.ticker as mtick\n",
    "import seaborn as sns"
   ]
  },
  {
   "cell_type": "code",
   "execution_count": 3,
   "metadata": {},
   "outputs": [],
   "source": [
    "# Styling Cell\n",
    "sns.set_theme(context=\"notebook\", style=\"whitegrid\")\n",
    "\n",
    "SMALL_SIZE = 18\n",
    "MEDIUM_SIZE = 24\n",
    "BIGGER_SIZE = 28\n",
    "\n",
    "plt.rc('font', size=SMALL_SIZE)          # controls default text sizes\n",
    "plt.rc('axes', titlesize=SMALL_SIZE)     # fontsize of the axes title\n",
    "plt.rc('axes', labelsize=MEDIUM_SIZE)    # fontsize of the x and y labels\n",
    "plt.rc('xtick', labelsize=SMALL_SIZE)    # fontsize of the tick labels\n",
    "plt.rc('ytick', labelsize=SMALL_SIZE)    # fontsize of the tick labels\n",
    "plt.rc('legend', fontsize=SMALL_SIZE)    # legend fontsize\n",
    "plt.rc('figure', titlesize=BIGGER_SIZE)  # fontsize of the figure title"
   ]
  },
  {
   "cell_type": "markdown",
   "metadata": {},
   "source": [
    "## Historical Data Import"
   ]
  },
  {
   "cell_type": "code",
   "execution_count": 4,
   "metadata": {
    "colab": {
     "base_uri": "https://localhost:8080/"
    },
    "id": "yduHfSC9_GU8",
    "outputId": "542d4177-477f-4d88-bf56-0f0fd2597a62"
   },
   "outputs": [
    {
     "name": "stdout",
     "output_type": "stream",
     "text": [
      "<class 'pandas.core.frame.DataFrame'>\n",
      "RangeIndex: 3406782 entries, 0 to 3406781\n",
      "Data columns (total 6 columns):\n",
      " #   Column       Dtype         \n",
      "---  ------       -----         \n",
      " 0   field_id     object        \n",
      " 1   crop         int64         \n",
      " 2   time         datetime64[ns]\n",
      " 3   actual_et    float64       \n",
      " 4   actual_eto   float64       \n",
      " 5   actual_etof  float64       \n",
      "dtypes: datetime64[ns](1), float64(3), int64(1), object(1)\n",
      "memory usage: 156.0+ MB\n"
     ]
    }
   ],
   "source": [
    "historical = pd.read_csv('./data/kern_historical.csv', low_memory=False)\n",
    "historical['time'] = pd.to_datetime(historical['time'])\n",
    "historical.info()"
   ]
  },
  {
   "cell_type": "markdown",
   "metadata": {
    "id": "KKd0xV-Gt9OU"
   },
   "source": [
    "## Forecast Table Build"
   ]
  },
  {
   "cell_type": "code",
   "execution_count": 5,
   "metadata": {
    "colab": {
     "base_uri": "https://localhost:8080/"
    },
    "id": "_RHRQydpAyZF",
    "outputId": "b762c373-abc7-4701-c861-0e397afb8d59"
   },
   "outputs": [
    {
     "name": "stdout",
     "output_type": "stream",
     "text": [
      "<class 'pandas.core.frame.DataFrame'>\n",
      "RangeIndex: 6757092 entries, 0 to 6757091\n",
      "Data columns (total 7 columns):\n",
      " #   Column            Dtype         \n",
      "---  ------            -----         \n",
      " 0   field_id          object        \n",
      " 1   crop              int64         \n",
      " 2   time              datetime64[ns]\n",
      " 3   expected_et       float64       \n",
      " 4   expected_eto      float64       \n",
      " 5   expected_etof     float64       \n",
      " 6   forecasting_date  datetime64[ns]\n",
      "dtypes: datetime64[ns](2), float64(3), int64(1), object(1)\n",
      "memory usage: 360.9+ MB\n"
     ]
    }
   ],
   "source": [
    "# Gather current forecast data for the county\n",
    "forecasting_table = pd.DataFrame()\n",
    "files = Path(f\"data/forecasts/kern/\").glob(\"*.csv\")\n",
    "\n",
    "for file in files:\n",
    "    # splits into [$date, 'forecast.csv']\n",
    "    parts = str(file.name).split(\"_\")\n",
    "    data = pd.read_csv(file, low_memory=False)\n",
    "    data[\"forecasting_date\"] = parts[0]\n",
    "    forecasting_table = pd.concat([data, forecasting_table], ignore_index=True)\n",
    "\n",
    "forecasting_table['forecasting_date'] = pd.to_datetime(forecasting_table['forecasting_date'])\n",
    "forecasting_table['time'] = pd.to_datetime(forecasting_table['time'])\n",
    "forecasting_table.info()"
   ]
  },
  {
   "cell_type": "code",
   "execution_count": 6,
   "metadata": {},
   "outputs": [
    {
     "data": {
      "text/plain": [
       "['2024-04-22',\n",
       " '2024-04-15',\n",
       " '2024-04-08',\n",
       " '2024-04-01',\n",
       " '2024-03-25',\n",
       " '2024-03-18',\n",
       " '2024-03-11',\n",
       " '2024-03-04',\n",
       " '2024-02-26',\n",
       " '2024-02-19',\n",
       " '2024-02-12',\n",
       " '2024-02-05',\n",
       " '2024-01-29',\n",
       " '2024-01-22',\n",
       " '2024-01-15',\n",
       " '2024-01-08',\n",
       " '2024-01-01']"
      ]
     },
     "execution_count": 6,
     "metadata": {},
     "output_type": "execute_result"
    }
   ],
   "source": [
    "# Available forecasting dates\n",
    "forecasting_table['forecasting_date'].unique().astype(str).tolist()"
   ]
  },
  {
   "cell_type": "markdown",
   "metadata": {},
   "source": [
    "## Main Data Table compilation"
   ]
  },
  {
   "cell_type": "code",
   "execution_count": 7,
   "metadata": {
    "colab": {
     "base_uri": "https://localhost:8080/",
     "height": 424
    },
    "id": "9Ve3CJFfBnG6",
    "outputId": "5dbe4fdf-dcbd-4805-9bf9-b7d67a346e89"
   },
   "outputs": [
    {
     "data": {
      "text/html": [
       "<div>\n",
       "<style scoped>\n",
       "    .dataframe tbody tr th:only-of-type {\n",
       "        vertical-align: middle;\n",
       "    }\n",
       "\n",
       "    .dataframe tbody tr th {\n",
       "        vertical-align: top;\n",
       "    }\n",
       "\n",
       "    .dataframe thead th {\n",
       "        text-align: right;\n",
       "    }\n",
       "</style>\n",
       "<table border=\"1\" class=\"dataframe\">\n",
       "  <thead>\n",
       "    <tr style=\"text-align: right;\">\n",
       "      <th></th>\n",
       "      <th>forecasting_date</th>\n",
       "      <th>field_id</th>\n",
       "      <th>crop</th>\n",
       "      <th>time</th>\n",
       "      <th>actual_et</th>\n",
       "      <th>actual_eto</th>\n",
       "      <th>actual_etof</th>\n",
       "      <th>expected_et</th>\n",
       "      <th>expected_eto</th>\n",
       "      <th>expected_etof</th>\n",
       "    </tr>\n",
       "  </thead>\n",
       "  <tbody>\n",
       "    <tr>\n",
       "      <th>0</th>\n",
       "      <td>2024-04-22</td>\n",
       "      <td>CA_27267</td>\n",
       "      <td>61</td>\n",
       "      <td>2024-01-01</td>\n",
       "      <td>0.043</td>\n",
       "      <td>0.951</td>\n",
       "      <td>0.045</td>\n",
       "      <td>0.043</td>\n",
       "      <td>0.951</td>\n",
       "      <td>0.045</td>\n",
       "    </tr>\n",
       "    <tr>\n",
       "      <th>1</th>\n",
       "      <td>2024-04-22</td>\n",
       "      <td>CA_27267</td>\n",
       "      <td>61</td>\n",
       "      <td>2024-01-02</td>\n",
       "      <td>0.030</td>\n",
       "      <td>0.740</td>\n",
       "      <td>0.041</td>\n",
       "      <td>0.030</td>\n",
       "      <td>0.740</td>\n",
       "      <td>0.041</td>\n",
       "    </tr>\n",
       "    <tr>\n",
       "      <th>2</th>\n",
       "      <td>2024-04-22</td>\n",
       "      <td>CA_27267</td>\n",
       "      <td>61</td>\n",
       "      <td>2024-01-03</td>\n",
       "      <td>0.062</td>\n",
       "      <td>1.691</td>\n",
       "      <td>0.037</td>\n",
       "      <td>0.062</td>\n",
       "      <td>1.691</td>\n",
       "      <td>0.037</td>\n",
       "    </tr>\n",
       "    <tr>\n",
       "      <th>3</th>\n",
       "      <td>2024-04-22</td>\n",
       "      <td>CA_27267</td>\n",
       "      <td>61</td>\n",
       "      <td>2024-01-04</td>\n",
       "      <td>0.062</td>\n",
       "      <td>1.902</td>\n",
       "      <td>0.032</td>\n",
       "      <td>0.062</td>\n",
       "      <td>1.902</td>\n",
       "      <td>0.032</td>\n",
       "    </tr>\n",
       "    <tr>\n",
       "      <th>4</th>\n",
       "      <td>2024-04-22</td>\n",
       "      <td>CA_27267</td>\n",
       "      <td>61</td>\n",
       "      <td>2024-01-05</td>\n",
       "      <td>0.039</td>\n",
       "      <td>1.374</td>\n",
       "      <td>0.028</td>\n",
       "      <td>0.039</td>\n",
       "      <td>1.374</td>\n",
       "      <td>0.028</td>\n",
       "    </tr>\n",
       "    <tr>\n",
       "      <th>...</th>\n",
       "      <td>...</td>\n",
       "      <td>...</td>\n",
       "      <td>...</td>\n",
       "      <td>...</td>\n",
       "      <td>...</td>\n",
       "      <td>...</td>\n",
       "      <td>...</td>\n",
       "      <td>...</td>\n",
       "      <td>...</td>\n",
       "      <td>...</td>\n",
       "    </tr>\n",
       "    <tr>\n",
       "      <th>6757087</th>\n",
       "      <td>2024-01-01</td>\n",
       "      <td>CA_423678</td>\n",
       "      <td>61</td>\n",
       "      <td>2024-12-27</td>\n",
       "      <td>NaN</td>\n",
       "      <td>NaN</td>\n",
       "      <td>NaN</td>\n",
       "      <td>0.310</td>\n",
       "      <td>0.613</td>\n",
       "      <td>0.224</td>\n",
       "    </tr>\n",
       "    <tr>\n",
       "      <th>6757088</th>\n",
       "      <td>2024-01-01</td>\n",
       "      <td>CA_423678</td>\n",
       "      <td>61</td>\n",
       "      <td>2024-12-28</td>\n",
       "      <td>NaN</td>\n",
       "      <td>NaN</td>\n",
       "      <td>NaN</td>\n",
       "      <td>0.294</td>\n",
       "      <td>0.603</td>\n",
       "      <td>0.227</td>\n",
       "    </tr>\n",
       "    <tr>\n",
       "      <th>6757089</th>\n",
       "      <td>2024-01-01</td>\n",
       "      <td>CA_423678</td>\n",
       "      <td>61</td>\n",
       "      <td>2024-12-29</td>\n",
       "      <td>NaN</td>\n",
       "      <td>NaN</td>\n",
       "      <td>NaN</td>\n",
       "      <td>0.281</td>\n",
       "      <td>0.619</td>\n",
       "      <td>0.230</td>\n",
       "    </tr>\n",
       "    <tr>\n",
       "      <th>6757090</th>\n",
       "      <td>2024-01-01</td>\n",
       "      <td>CA_423678</td>\n",
       "      <td>61</td>\n",
       "      <td>2024-12-30</td>\n",
       "      <td>NaN</td>\n",
       "      <td>NaN</td>\n",
       "      <td>NaN</td>\n",
       "      <td>0.279</td>\n",
       "      <td>0.654</td>\n",
       "      <td>0.233</td>\n",
       "    </tr>\n",
       "    <tr>\n",
       "      <th>6757091</th>\n",
       "      <td>2024-01-01</td>\n",
       "      <td>CA_423678</td>\n",
       "      <td>61</td>\n",
       "      <td>2024-12-31</td>\n",
       "      <td>NaN</td>\n",
       "      <td>NaN</td>\n",
       "      <td>NaN</td>\n",
       "      <td>0.284</td>\n",
       "      <td>0.637</td>\n",
       "      <td>0.236</td>\n",
       "    </tr>\n",
       "  </tbody>\n",
       "</table>\n",
       "<p>6757092 rows × 10 columns</p>\n",
       "</div>"
      ],
      "text/plain": [
       "        forecasting_date   field_id  crop       time  actual_et  actual_eto  \\\n",
       "0             2024-04-22   CA_27267    61 2024-01-01      0.043       0.951   \n",
       "1             2024-04-22   CA_27267    61 2024-01-02      0.030       0.740   \n",
       "2             2024-04-22   CA_27267    61 2024-01-03      0.062       1.691   \n",
       "3             2024-04-22   CA_27267    61 2024-01-04      0.062       1.902   \n",
       "4             2024-04-22   CA_27267    61 2024-01-05      0.039       1.374   \n",
       "...                  ...        ...   ...        ...        ...         ...   \n",
       "6757087       2024-01-01  CA_423678    61 2024-12-27        NaN         NaN   \n",
       "6757088       2024-01-01  CA_423678    61 2024-12-28        NaN         NaN   \n",
       "6757089       2024-01-01  CA_423678    61 2024-12-29        NaN         NaN   \n",
       "6757090       2024-01-01  CA_423678    61 2024-12-30        NaN         NaN   \n",
       "6757091       2024-01-01  CA_423678    61 2024-12-31        NaN         NaN   \n",
       "\n",
       "         actual_etof  expected_et  expected_eto  expected_etof  \n",
       "0              0.045        0.043         0.951          0.045  \n",
       "1              0.041        0.030         0.740          0.041  \n",
       "2              0.037        0.062         1.691          0.037  \n",
       "3              0.032        0.062         1.902          0.032  \n",
       "4              0.028        0.039         1.374          0.028  \n",
       "...              ...          ...           ...            ...  \n",
       "6757087          NaN        0.310         0.613          0.224  \n",
       "6757088          NaN        0.294         0.603          0.227  \n",
       "6757089          NaN        0.281         0.619          0.230  \n",
       "6757090          NaN        0.279         0.654          0.233  \n",
       "6757091          NaN        0.284         0.637          0.236  \n",
       "\n",
       "[6757092 rows x 10 columns]"
      ]
     },
     "execution_count": 7,
     "metadata": {},
     "output_type": "execute_result"
    }
   ],
   "source": [
    "dt = historical.loc[(historical['time'].dt.year == 2024), :]\n",
    "dt = dt.merge(forecasting_table, on=['field_id', 'time', 'crop'], how='right').set_index(['forecasting_date', 'field_id', 'crop', 'time']).reset_index()\n",
    "dt"
   ]
  },
  {
   "cell_type": "markdown",
   "metadata": {},
   "source": [
    "### Add geographical data"
   ]
  },
  {
   "cell_type": "code",
   "execution_count": 8,
   "metadata": {
    "colab": {
     "base_uri": "https://localhost:8080/"
    },
    "id": "OdDQloVo_e3a",
    "outputId": "964cc6bf-04b8-4ec8-93f7-12cad12c2a5d"
   },
   "outputs": [
    {
     "name": "stdout",
     "output_type": "stream",
     "text": [
      "<class 'pandas.core.frame.DataFrame'>\n",
      "Index: 1086 entries, CA_33179 to CA_39812\n",
      "Data columns (total 2 columns):\n",
      " #   Column     Non-Null Count  Dtype  \n",
      "---  ------     --------------  -----  \n",
      " 0   longitude  1086 non-null   float64\n",
      " 1   latitude   1086 non-null   float64\n",
      "dtypes: float64(2)\n",
      "memory usage: 25.5+ KB\n"
     ]
    }
   ],
   "source": [
    "# Add additional data to the data table\n",
    "kern_points = pd.read_csv(\"./data/Kern.csv\", low_memory=False).set_index(\"OPENET_ID\").rename_axis(\"field_id\")\n",
    "\n",
    "# Expand .geo column into lon, lat columns\n",
    "kern_geo = (kern_points[\".geo\"]\n",
    "                .apply(lambda x: pd.Series(dict(json.loads(x))))['coordinates']\n",
    "                .apply(lambda x: pd.Series(list(x), index=['longitude', 'latitude'])))\n",
    "kern_geo.info()"
   ]
  },
  {
   "cell_type": "markdown",
   "metadata": {},
   "source": [
    "### Add USDA crop data"
   ]
  },
  {
   "cell_type": "code",
   "execution_count": 9,
   "metadata": {
    "colab": {
     "base_uri": "https://localhost:8080/"
    },
    "id": "K-7q7kOi_tNn",
    "outputId": "55ad7f4e-d900-4064-9385-fb1abeff16a5"
   },
   "outputs": [
    {
     "name": "stdout",
     "output_type": "stream",
     "text": [
      "<class 'pandas.core.frame.DataFrame'>\n",
      "RangeIndex: 6757092 entries, 0 to 6757091\n",
      "Data columns (total 17 columns):\n",
      " #   Column            Dtype         \n",
      "---  ------            -----         \n",
      " 0   forecasting_date  datetime64[ns]\n",
      " 1   field_id          object        \n",
      " 2   crop              int64         \n",
      " 3   time              datetime64[ns]\n",
      " 4   actual_et         float64       \n",
      " 5   actual_eto        float64       \n",
      " 6   actual_etof       float64       \n",
      " 7   expected_et       float64       \n",
      " 8   expected_eto      float64       \n",
      " 9   expected_etof     float64       \n",
      " 10  Class_Names       object        \n",
      " 11  ESRI_Red          int64         \n",
      " 12  ESRI_Green        int64         \n",
      " 13  ESRI_Blue         int64         \n",
      " 14  Erdas_Red         float64       \n",
      " 15  Erdas_Green       float64       \n",
      " 16  Erdas_Blue        float64       \n",
      "dtypes: datetime64[ns](2), float64(9), int64(4), object(2)\n",
      "memory usage: 876.4+ MB\n"
     ]
    }
   ],
   "source": [
    "# Add crop data\n",
    "cdl_codes = pd.read_csv(\"./data/cdl_codes.csv\", low_memory=False).set_index(\"Codes\")\n",
    "\n",
    "dt = dt.join(cdl_codes, how=\"left\", on=\"crop\", validate=\"many_to_many\")\n",
    "dt.info()"
   ]
  },
  {
   "cell_type": "markdown",
   "metadata": {},
   "source": [
    "### Add Field Metadata"
   ]
  },
  {
   "cell_type": "code",
   "execution_count": 10,
   "metadata": {},
   "outputs": [
    {
     "name": "stdout",
     "output_type": "stream",
     "text": [
      "<class 'pandas.core.frame.DataFrame'>\n",
      "Index: 1085 entries, CA_27267 to CA_42345\n",
      "Data columns (total 1 columns):\n",
      " #   Column    Non-Null Count  Dtype  \n",
      "---  ------    --------------  -----  \n",
      " 0   hectares  1085 non-null   float64\n",
      "dtypes: float64(1)\n",
      "memory usage: 17.0+ KB\n"
     ]
    }
   ],
   "source": [
    "# Import table using only field and hectare columns\n",
    "field_metadata = pd.read_json('./data/geo/kern_metadata.json')[['field_id', 'hectares']]\n",
    "# Reformat field IDs to be same convention as the other tables.\n",
    "field_metadata['field_id'] = 'CA_' + field_metadata['field_id'].astype(str).str[1:]\n",
    "field_metadata = field_metadata.set_index('field_id')\n",
    "field_metadata.info()"
   ]
  },
  {
   "cell_type": "code",
   "execution_count": 11,
   "metadata": {},
   "outputs": [
    {
     "name": "stdout",
     "output_type": "stream",
     "text": [
      "<class 'pandas.core.frame.DataFrame'>\n",
      "RangeIndex: 6757092 entries, 0 to 6757091\n",
      "Data columns (total 18 columns):\n",
      " #   Column            Dtype         \n",
      "---  ------            -----         \n",
      " 0   forecasting_date  datetime64[ns]\n",
      " 1   field_id          object        \n",
      " 2   crop              int64         \n",
      " 3   time              datetime64[ns]\n",
      " 4   actual_et         float64       \n",
      " 5   actual_eto        float64       \n",
      " 6   actual_etof       float64       \n",
      " 7   expected_et       float64       \n",
      " 8   expected_eto      float64       \n",
      " 9   expected_etof     float64       \n",
      " 10  Class_Names       object        \n",
      " 11  ESRI_Red          int64         \n",
      " 12  ESRI_Green        int64         \n",
      " 13  ESRI_Blue         int64         \n",
      " 14  Erdas_Red         float64       \n",
      " 15  Erdas_Green       float64       \n",
      " 16  Erdas_Blue        float64       \n",
      " 17  hectares          float64       \n",
      "dtypes: datetime64[ns](2), float64(10), int64(4), object(2)\n",
      "memory usage: 927.9+ MB\n"
     ]
    },
    {
     "data": {
      "text/html": [
       "<div>\n",
       "<style scoped>\n",
       "    .dataframe tbody tr th:only-of-type {\n",
       "        vertical-align: middle;\n",
       "    }\n",
       "\n",
       "    .dataframe tbody tr th {\n",
       "        vertical-align: top;\n",
       "    }\n",
       "\n",
       "    .dataframe thead th {\n",
       "        text-align: right;\n",
       "    }\n",
       "</style>\n",
       "<table border=\"1\" class=\"dataframe\">\n",
       "  <thead>\n",
       "    <tr style=\"text-align: right;\">\n",
       "      <th></th>\n",
       "      <th>forecasting_date</th>\n",
       "      <th>field_id</th>\n",
       "      <th>crop</th>\n",
       "      <th>time</th>\n",
       "      <th>actual_et</th>\n",
       "      <th>actual_eto</th>\n",
       "      <th>actual_etof</th>\n",
       "      <th>expected_et</th>\n",
       "      <th>expected_eto</th>\n",
       "      <th>expected_etof</th>\n",
       "      <th>Class_Names</th>\n",
       "      <th>ESRI_Red</th>\n",
       "      <th>ESRI_Green</th>\n",
       "      <th>ESRI_Blue</th>\n",
       "      <th>Erdas_Red</th>\n",
       "      <th>Erdas_Green</th>\n",
       "      <th>Erdas_Blue</th>\n",
       "      <th>hectares</th>\n",
       "    </tr>\n",
       "  </thead>\n",
       "  <tbody>\n",
       "    <tr>\n",
       "      <th>0</th>\n",
       "      <td>2024-04-22</td>\n",
       "      <td>CA_27267</td>\n",
       "      <td>61</td>\n",
       "      <td>2024-01-01</td>\n",
       "      <td>0.043</td>\n",
       "      <td>0.951</td>\n",
       "      <td>0.045</td>\n",
       "      <td>0.043</td>\n",
       "      <td>0.951</td>\n",
       "      <td>0.045</td>\n",
       "      <td>Fallow/Idle Cropland</td>\n",
       "      <td>191</td>\n",
       "      <td>191</td>\n",
       "      <td>122</td>\n",
       "      <td>0.749</td>\n",
       "      <td>0.749</td>\n",
       "      <td>0.4667</td>\n",
       "      <td>2.051</td>\n",
       "    </tr>\n",
       "    <tr>\n",
       "      <th>1</th>\n",
       "      <td>2024-04-22</td>\n",
       "      <td>CA_27267</td>\n",
       "      <td>61</td>\n",
       "      <td>2024-01-02</td>\n",
       "      <td>0.030</td>\n",
       "      <td>0.740</td>\n",
       "      <td>0.041</td>\n",
       "      <td>0.030</td>\n",
       "      <td>0.740</td>\n",
       "      <td>0.041</td>\n",
       "      <td>Fallow/Idle Cropland</td>\n",
       "      <td>191</td>\n",
       "      <td>191</td>\n",
       "      <td>122</td>\n",
       "      <td>0.749</td>\n",
       "      <td>0.749</td>\n",
       "      <td>0.4667</td>\n",
       "      <td>2.051</td>\n",
       "    </tr>\n",
       "    <tr>\n",
       "      <th>2</th>\n",
       "      <td>2024-04-22</td>\n",
       "      <td>CA_27267</td>\n",
       "      <td>61</td>\n",
       "      <td>2024-01-03</td>\n",
       "      <td>0.062</td>\n",
       "      <td>1.691</td>\n",
       "      <td>0.037</td>\n",
       "      <td>0.062</td>\n",
       "      <td>1.691</td>\n",
       "      <td>0.037</td>\n",
       "      <td>Fallow/Idle Cropland</td>\n",
       "      <td>191</td>\n",
       "      <td>191</td>\n",
       "      <td>122</td>\n",
       "      <td>0.749</td>\n",
       "      <td>0.749</td>\n",
       "      <td>0.4667</td>\n",
       "      <td>2.051</td>\n",
       "    </tr>\n",
       "    <tr>\n",
       "      <th>3</th>\n",
       "      <td>2024-04-22</td>\n",
       "      <td>CA_27267</td>\n",
       "      <td>61</td>\n",
       "      <td>2024-01-04</td>\n",
       "      <td>0.062</td>\n",
       "      <td>1.902</td>\n",
       "      <td>0.032</td>\n",
       "      <td>0.062</td>\n",
       "      <td>1.902</td>\n",
       "      <td>0.032</td>\n",
       "      <td>Fallow/Idle Cropland</td>\n",
       "      <td>191</td>\n",
       "      <td>191</td>\n",
       "      <td>122</td>\n",
       "      <td>0.749</td>\n",
       "      <td>0.749</td>\n",
       "      <td>0.4667</td>\n",
       "      <td>2.051</td>\n",
       "    </tr>\n",
       "    <tr>\n",
       "      <th>4</th>\n",
       "      <td>2024-04-22</td>\n",
       "      <td>CA_27267</td>\n",
       "      <td>61</td>\n",
       "      <td>2024-01-05</td>\n",
       "      <td>0.039</td>\n",
       "      <td>1.374</td>\n",
       "      <td>0.028</td>\n",
       "      <td>0.039</td>\n",
       "      <td>1.374</td>\n",
       "      <td>0.028</td>\n",
       "      <td>Fallow/Idle Cropland</td>\n",
       "      <td>191</td>\n",
       "      <td>191</td>\n",
       "      <td>122</td>\n",
       "      <td>0.749</td>\n",
       "      <td>0.749</td>\n",
       "      <td>0.4667</td>\n",
       "      <td>2.051</td>\n",
       "    </tr>\n",
       "  </tbody>\n",
       "</table>\n",
       "</div>"
      ],
      "text/plain": [
       "  forecasting_date  field_id  crop       time  actual_et  actual_eto  \\\n",
       "0       2024-04-22  CA_27267    61 2024-01-01      0.043       0.951   \n",
       "1       2024-04-22  CA_27267    61 2024-01-02      0.030       0.740   \n",
       "2       2024-04-22  CA_27267    61 2024-01-03      0.062       1.691   \n",
       "3       2024-04-22  CA_27267    61 2024-01-04      0.062       1.902   \n",
       "4       2024-04-22  CA_27267    61 2024-01-05      0.039       1.374   \n",
       "\n",
       "   actual_etof  expected_et  expected_eto  expected_etof  \\\n",
       "0        0.045        0.043         0.951          0.045   \n",
       "1        0.041        0.030         0.740          0.041   \n",
       "2        0.037        0.062         1.691          0.037   \n",
       "3        0.032        0.062         1.902          0.032   \n",
       "4        0.028        0.039         1.374          0.028   \n",
       "\n",
       "            Class_Names  ESRI_Red  ESRI_Green  ESRI_Blue  Erdas_Red  \\\n",
       "0  Fallow/Idle Cropland       191         191        122      0.749   \n",
       "1  Fallow/Idle Cropland       191         191        122      0.749   \n",
       "2  Fallow/Idle Cropland       191         191        122      0.749   \n",
       "3  Fallow/Idle Cropland       191         191        122      0.749   \n",
       "4  Fallow/Idle Cropland       191         191        122      0.749   \n",
       "\n",
       "   Erdas_Green  Erdas_Blue  hectares  \n",
       "0        0.749      0.4667     2.051  \n",
       "1        0.749      0.4667     2.051  \n",
       "2        0.749      0.4667     2.051  \n",
       "3        0.749      0.4667     2.051  \n",
       "4        0.749      0.4667     2.051  "
      ]
     },
     "execution_count": 11,
     "metadata": {},
     "output_type": "execute_result"
    }
   ],
   "source": [
    "dt = dt.join(field_metadata, how='left', on='field_id', validate='many_to_one')\n",
    "dt.info()\n",
    "dt.head(5)"
   ]
  },
  {
   "cell_type": "markdown",
   "metadata": {},
   "source": [
    "### List of identifiers"
   ]
  },
  {
   "cell_type": "code",
   "execution_count": 12,
   "metadata": {
    "id": "U1aePlI6ENzS"
   },
   "outputs": [],
   "source": [
    "forecast_dates = forecasting_table['forecasting_date'].unique()\n",
    "fields = dt['field_id'].unique()\n",
    "crops = dt['crop'].unique()"
   ]
  },
  {
   "cell_type": "markdown",
   "metadata": {
    "id": "rK2Q2ay1EYmi"
   },
   "source": [
    "# Analysis"
   ]
  },
  {
   "cell_type": "markdown",
   "metadata": {
    "id": "lvm5sm2GEaO5"
   },
   "source": [
    "## Helpers\n",
    "Below are functions that are being used to calculate data and generate plots.\n",
    "\n",
    "The tables below are also calculated prior to speed up metric calculations."
   ]
  },
  {
   "cell_type": "markdown",
   "metadata": {
    "id": "iNAAFesQbjJD"
   },
   "source": [
    "### Average ET/ETo/ETof for 2024\n",
    "This table will be used as a reference for any metric and plot calculations"
   ]
  },
  {
   "cell_type": "code",
   "execution_count": 13,
   "metadata": {
    "colab": {
     "base_uri": "https://localhost:8080/",
     "height": 238
    },
    "id": "SQQpzO4FbsX1",
    "outputId": "c8b0a6f5-4da9-4391-e0fd-eb528dcf45c8"
   },
   "outputs": [
    {
     "data": {
      "text/html": [
       "<div>\n",
       "<style scoped>\n",
       "    .dataframe tbody tr th:only-of-type {\n",
       "        vertical-align: middle;\n",
       "    }\n",
       "\n",
       "    .dataframe tbody tr th {\n",
       "        vertical-align: top;\n",
       "    }\n",
       "\n",
       "    .dataframe thead th {\n",
       "        text-align: right;\n",
       "    }\n",
       "</style>\n",
       "<table border=\"1\" class=\"dataframe\">\n",
       "  <thead>\n",
       "    <tr style=\"text-align: right;\">\n",
       "      <th></th>\n",
       "      <th></th>\n",
       "      <th>actual_et</th>\n",
       "      <th>actual_eto</th>\n",
       "      <th>actual_etof</th>\n",
       "    </tr>\n",
       "    <tr>\n",
       "      <th>field_id</th>\n",
       "      <th>crop</th>\n",
       "      <th></th>\n",
       "      <th></th>\n",
       "      <th></th>\n",
       "    </tr>\n",
       "  </thead>\n",
       "  <tbody>\n",
       "    <tr>\n",
       "      <th>CA_27267</th>\n",
       "      <th>61</th>\n",
       "      <td>2.559056</td>\n",
       "      <td>4.891898</td>\n",
       "      <td>0.586042</td>\n",
       "    </tr>\n",
       "    <tr>\n",
       "      <th>CA_297922</th>\n",
       "      <th>75</th>\n",
       "      <td>3.740540</td>\n",
       "      <td>4.341158</td>\n",
       "      <td>0.851042</td>\n",
       "    </tr>\n",
       "    <tr>\n",
       "      <th>CA_297927</th>\n",
       "      <th>61</th>\n",
       "      <td>0.739409</td>\n",
       "      <td>4.450177</td>\n",
       "      <td>0.259586</td>\n",
       "    </tr>\n",
       "    <tr>\n",
       "      <th>CA_297932</th>\n",
       "      <th>204</th>\n",
       "      <td>1.587777</td>\n",
       "      <td>4.332800</td>\n",
       "      <td>0.392153</td>\n",
       "    </tr>\n",
       "    <tr>\n",
       "      <th>CA_297950</th>\n",
       "      <th>204</th>\n",
       "      <td>1.263502</td>\n",
       "      <td>4.546535</td>\n",
       "      <td>0.329451</td>\n",
       "    </tr>\n",
       "  </tbody>\n",
       "</table>\n",
       "</div>"
      ],
      "text/plain": [
       "                actual_et  actual_eto  actual_etof\n",
       "field_id  crop                                    \n",
       "CA_27267  61     2.559056    4.891898     0.586042\n",
       "CA_297922 75     3.740540    4.341158     0.851042\n",
       "CA_297927 61     0.739409    4.450177     0.259586\n",
       "CA_297932 204    1.587777    4.332800     0.392153\n",
       "CA_297950 204    1.263502    4.546535     0.329451"
      ]
     },
     "execution_count": 13,
     "metadata": {},
     "output_type": "execute_result"
    }
   ],
   "source": [
    "avgs_table = dt.groupby(['field_id', 'crop'])[['actual_et', 'actual_eto', 'actual_etof']].agg('mean')\n",
    "avgs_table.head()"
   ]
  },
  {
   "cell_type": "markdown",
   "metadata": {
    "id": "kEdRIQtPsuvN"
   },
   "source": [
    "### Climatology Reference\n",
    "The table below records the average conditions for each field for each day of the year."
   ]
  },
  {
   "cell_type": "code",
   "execution_count": 14,
   "metadata": {
    "colab": {
     "base_uri": "https://localhost:8080/",
     "height": 455
    },
    "id": "RJlcb_pEs5pL",
    "outputId": "d76e5688-e060-4a04-88a3-b80f22e33aef"
   },
   "outputs": [
    {
     "data": {
      "text/html": [
       "<div>\n",
       "<style scoped>\n",
       "    .dataframe tbody tr th:only-of-type {\n",
       "        vertical-align: middle;\n",
       "    }\n",
       "\n",
       "    .dataframe tbody tr th {\n",
       "        vertical-align: top;\n",
       "    }\n",
       "\n",
       "    .dataframe thead th {\n",
       "        text-align: right;\n",
       "    }\n",
       "</style>\n",
       "<table border=\"1\" class=\"dataframe\">\n",
       "  <thead>\n",
       "    <tr style=\"text-align: right;\">\n",
       "      <th></th>\n",
       "      <th></th>\n",
       "      <th></th>\n",
       "      <th>actual_et</th>\n",
       "      <th>actual_eto</th>\n",
       "      <th>actual_etof</th>\n",
       "    </tr>\n",
       "    <tr>\n",
       "      <th>field_id</th>\n",
       "      <th>crop</th>\n",
       "      <th>doy</th>\n",
       "      <th></th>\n",
       "      <th></th>\n",
       "      <th></th>\n",
       "    </tr>\n",
       "  </thead>\n",
       "  <tbody>\n",
       "    <tr>\n",
       "      <th rowspan=\"5\" valign=\"top\">CA_27267</th>\n",
       "      <th rowspan=\"5\" valign=\"top\">61</th>\n",
       "      <th>1</th>\n",
       "      <td>0.420333</td>\n",
       "      <td>1.045111</td>\n",
       "      <td>0.403000</td>\n",
       "    </tr>\n",
       "    <tr>\n",
       "      <th>2</th>\n",
       "      <td>0.511333</td>\n",
       "      <td>1.198000</td>\n",
       "      <td>0.409111</td>\n",
       "    </tr>\n",
       "    <tr>\n",
       "      <th>3</th>\n",
       "      <td>0.573222</td>\n",
       "      <td>1.385667</td>\n",
       "      <td>0.415111</td>\n",
       "    </tr>\n",
       "    <tr>\n",
       "      <th>4</th>\n",
       "      <td>0.599222</td>\n",
       "      <td>1.432778</td>\n",
       "      <td>0.421000</td>\n",
       "    </tr>\n",
       "    <tr>\n",
       "      <th>5</th>\n",
       "      <td>0.552222</td>\n",
       "      <td>1.291889</td>\n",
       "      <td>0.427111</td>\n",
       "    </tr>\n",
       "    <tr>\n",
       "      <th>...</th>\n",
       "      <th>...</th>\n",
       "      <th>...</th>\n",
       "      <td>...</td>\n",
       "      <td>...</td>\n",
       "      <td>...</td>\n",
       "    </tr>\n",
       "    <tr>\n",
       "      <th rowspan=\"5\" valign=\"top\">CA_423678</th>\n",
       "      <th rowspan=\"5\" valign=\"top\">61</th>\n",
       "      <th>362</th>\n",
       "      <td>0.264000</td>\n",
       "      <td>1.021375</td>\n",
       "      <td>0.270875</td>\n",
       "    </tr>\n",
       "    <tr>\n",
       "      <th>363</th>\n",
       "      <td>0.278875</td>\n",
       "      <td>1.113250</td>\n",
       "      <td>0.271625</td>\n",
       "    </tr>\n",
       "    <tr>\n",
       "      <th>364</th>\n",
       "      <td>0.298000</td>\n",
       "      <td>1.092750</td>\n",
       "      <td>0.268875</td>\n",
       "    </tr>\n",
       "    <tr>\n",
       "      <th>365</th>\n",
       "      <td>0.207000</td>\n",
       "      <td>0.796625</td>\n",
       "      <td>0.265500</td>\n",
       "    </tr>\n",
       "    <tr>\n",
       "      <th>366</th>\n",
       "      <td>0.161000</td>\n",
       "      <td>0.531000</td>\n",
       "      <td>0.306000</td>\n",
       "    </tr>\n",
       "  </tbody>\n",
       "</table>\n",
       "<p>397476 rows × 3 columns</p>\n",
       "</div>"
      ],
      "text/plain": [
       "                    actual_et  actual_eto  actual_etof\n",
       "field_id  crop doy                                    \n",
       "CA_27267  61   1     0.420333    1.045111     0.403000\n",
       "               2     0.511333    1.198000     0.409111\n",
       "               3     0.573222    1.385667     0.415111\n",
       "               4     0.599222    1.432778     0.421000\n",
       "               5     0.552222    1.291889     0.427111\n",
       "...                       ...         ...          ...\n",
       "CA_423678 61   362   0.264000    1.021375     0.270875\n",
       "               363   0.278875    1.113250     0.271625\n",
       "               364   0.298000    1.092750     0.268875\n",
       "               365   0.207000    0.796625     0.265500\n",
       "               366   0.161000    0.531000     0.306000\n",
       "\n",
       "[397476 rows x 3 columns]"
      ]
     },
     "execution_count": 14,
     "metadata": {},
     "output_type": "execute_result"
    }
   ],
   "source": [
    "# Create a column for day of year\n",
    "historical['doy'] = historical['time'].dt.dayofyear\n",
    "# Group by field, crop, and doy then calculate the average conditions\n",
    "climatology_table = historical.groupby(['field_id', 'crop', 'doy'])[['actual_et', 'actual_eto', 'actual_etof']].agg('mean')\n",
    "climatology_table"
   ]
  },
  {
   "cell_type": "markdown",
   "metadata": {
    "id": "I1hY1EDlEnFp"
   },
   "source": [
    "### calculate_metrics\n",
    "This function calculate the mean absolute error (mae), root mean squared error (rmse), mean forecast error (bias), correlation coefficient (R), and skill score.\n",
    "\n",
    "MAE, RMSE, and R are calculated using sklearn's metric module.\n",
    "\n",
    "Skill score is calculated by getting the climatology for each field within the input's date range.\n",
    "* Negative skill scores indicate the MSE for forecast is larger than the MSE for climatology\n",
    "* Positive skill scores indicate otherwise\n",
    "\n",
    "The function is very flexible given the data is formatted appropriately. It has the option of enabling normalization which is based on the average specified variable (ET, ETo, or ETof) throughout that field's historical data."
   ]
  },
  {
   "cell_type": "code",
   "execution_count": 15,
   "metadata": {
    "id": "aGg0txF_Bg4z"
   },
   "outputs": [],
   "source": [
    "def calculate_metrics(data: pd.DataFrame, *, historical: pd.DataFrame, actual: str, expected: str, normalize: bool = False) -> pd.Series:\n",
    "\t# Calculate error metrics\n",
    "\tmae: float = mean_absolute_error(data[actual], data[expected])\n",
    "\tforecast_mse: float = mean_squared_error(data[actual], data[expected])\n",
    "\trmse: float = np.sqrt(forecast_mse)\n",
    "\n",
    "    # Correlation Coefficient (R)\n",
    "\tcor = data[actual].corr(data[expected]).astype(float)\n",
    "    \n",
    "    # Mean Forecast Bias determines if the forecast is overshooting or undershooting.\n",
    "    # Greater positive number indicates overshooting.\n",
    "\tbias: float = np.mean(data[expected] - data[actual])\n",
    "\n",
    "\t# Climatology uses the mean actual variable for that time of year using historical data.\n",
    "\tfield = data.head(1).squeeze()\n",
    "\tstart_date = data['time'].min().dayofyear\n",
    "\tend_date = data['time'].max().dayofyear\n",
    "\n",
    "\t# Filter the climatology reference\n",
    "\tfield_mask = (climatology_table.index.get_level_values(0) == field['field_id'])\n",
    "\tcrop_mask = (climatology_table.index.get_level_values(1) == field['crop'])\n",
    "\tdate_mask = ((climatology_table.index.get_level_values(2) >= start_date) & (climatology_table.index.get_level_values(2) <= end_date))\n",
    "\n",
    "\tclimatology = climatology_table[field_mask & crop_mask & date_mask][actual]\n",
    "\tclimatology_mse = mean_squared_error(data[actual], climatology)\n",
    "\n",
    "\t# Positive skill score indicates the error in climatology is greater than forecast.\n",
    "    # This means that forecast is outperforming climatology.\n",
    "\tskill_score = 1 - np.max(np.min((forecast_mse / climatology_mse), initial=2), initial=-1)\n",
    "\n",
    "\tif normalize:\n",
    "\t\tavg: float = avgs_table[avgs_table.index.get_level_values(0) == field['field_id']][actual].values[0]\n",
    "\n",
    "\t\tmae: float = mae.astype(float) / avg.astype(float)\n",
    "\t\trmse = np.sqrt(forecast_mse.astype(float) / avg.astype(float))\n",
    "\t\tbias = bias.astype(float) / avg.astype(float)\n",
    "\n",
    "\treturn pd.Series({\n",
    "\t\t'mae': mae.round(2),\n",
    "\t\t'rmse': rmse.round(2),\n",
    "\t\t'corr': cor.round(2),\n",
    "\t\t'bias': bias.round(2),\n",
    "\t\t'skill_score': skill_score.round(2)\n",
    "\t})"
   ]
  },
  {
   "cell_type": "markdown",
   "metadata": {
    "id": "Hm-PI9IAFrvj"
   },
   "source": [
    "### eval_metrics\n",
    "This function evaluates the metrics for each variable. The output is a DataFrame containing the metrics with a column specifying which variable (ET, ETo, ETof)"
   ]
  },
  {
   "cell_type": "code",
   "execution_count": 16,
   "metadata": {
    "id": "1nJj8R9HCzjm"
   },
   "outputs": [],
   "source": [
    "def eval_metrics(table: pd.DataFrame, by=['field_id', 'crop'], **kwargs) -> pd.DataFrame:\n",
    "    metrics_table = pd.DataFrame(columns=[\"field_id\", \"variable\", \"crop\", \"mae\", \"rmse\", \"corr\", \"bias\", \"skill_score\"])\n",
    "\n",
    "    et_metrics = table.groupby(by=by)[[\"field_id\", \"crop\", \"time\", \"actual_et\", \"expected_et\"]].apply(calculate_metrics, historical=historical,\n",
    "                                                                      actual='actual_et', expected='expected_et', **kwargs).reset_index()\n",
    "    et_metrics['variable'] = \"ET\"\n",
    "\n",
    "    metrics_table = pd.concat([et_metrics.astype(metrics_table.dtypes), metrics_table.astype(et_metrics.dtypes)], ignore_index=True)\n",
    "\n",
    "    eto_metrics = table.groupby(by=by)[[\"field_id\", \"crop\", \"time\", \"actual_eto\", \"expected_eto\"]].apply(calculate_metrics, historical=historical,\n",
    "                                                                      actual='actual_eto', expected='expected_eto', **kwargs).reset_index()\n",
    "    eto_metrics['variable'] = \"ETo\"\n",
    "    metrics_table = pd.concat([eto_metrics.astype(metrics_table.dtypes), metrics_table.astype(eto_metrics.dtypes)], ignore_index=True)\n",
    "\n",
    "    etof_metrics = table.groupby(by=by)[[\"field_id\", \"crop\", \"time\", \"actual_etof\", \"expected_etof\"]].apply(calculate_metrics, historical=historical,\n",
    "                                                                      actual='actual_etof', expected='expected_etof', **kwargs).reset_index()\n",
    "    etof_metrics['variable'] = \"ETof\"\n",
    "    metrics_table = pd.concat([etof_metrics.astype(metrics_table.dtypes), metrics_table.astype(etof_metrics.dtypes)], ignore_index=True)\n",
    "\n",
    "    return metrics_table"
   ]
  },
  {
   "cell_type": "markdown",
   "metadata": {},
   "source": [
    "### timeseries_rel\n",
    "This plot function utilizes the seaborn relplot method to create grids of plots. Particularly useful for showing distribution on one cell."
   ]
  },
  {
   "cell_type": "code",
   "execution_count": 17,
   "metadata": {
    "id": "ulF3rMgKAnCI"
   },
   "outputs": [],
   "source": [
    "def timeseries_rel(data, *, y, plot='rel',\n",
    "                   col=None, row=None, hue=None, kind='line', \n",
    "                   title='', ylabel='', as_percent=False, tighten=False,\n",
    "                   errorbar=None, export_img: bool|str=None, title_template={}, **kwargs):\n",
    "    match plot:\n",
    "        case 'rel':\n",
    "            rel = sns.relplot(data=data, x='forecasting_date', y=y, col=col, row=row, hue=hue, kind=kind, errorbar=errorbar, **kwargs)\n",
    "        case 'dis': \n",
    "            rel = sns.displot(data=data, x=y, col=col, row=row, hue=hue, kind=kind, **kwargs)\n",
    "        case 'cat':\n",
    "            rel = sns.catplot(data=data, x='forecasting_date', y=y, col=col, row=row, hue=hue, kind=kind, errorbar=errorbar, **kwargs)\n",
    "        case 'lm':\n",
    "            rel = sns.lmplot(data=data, x='forecasting_date', y=y, col=col, row=row, hue=hue, kind=kind, errorbar=errorbar, **kwargs)\n",
    "        case _:\n",
    "            raise Exception('Not a valid plot type.')\n",
    "\n",
    "    # Relabel y axis\n",
    "    if ylabel: rel.set_ylabels(ylabel)\n",
    "    # Relabel x axis\n",
    "    rel.tick_params(axis='x', rotation=90)\n",
    "    plt.suptitle(title, y=1.02);\n",
    "    rel.set_titles(**title_template);\n",
    "\n",
    "    if as_percent is True:\n",
    "        for ax in rel.axes.flat:\n",
    "            ax.yaxis.set_major_formatter(mtick.PercentFormatter(1.0))\n",
    "    \n",
    "    if plot != 'dis':\n",
    "        rel.set_xlabels('Forecasting Date')\n",
    "        for ax in rel.axes.flat:\n",
    "            ax.xaxis.set_major_formatter(mdates.DateFormatter('%B'))\n",
    "\n",
    "    if tighten:\n",
    "        rel.figure.subplots_adjust(wspace=0, hspace=0.1)\n",
    "\n",
    "    if type(export_img) is bool and export_img is True: \n",
    "        rel.savefig(fname=f'images/kern/{str(title)}')\n",
    "    elif type(export_img) is str: \n",
    "        rel.savefig(fname=f'images/kern/{export_img}')\n",
    "\n",
    "    return rel"
   ]
  },
  {
   "cell_type": "markdown",
   "metadata": {},
   "source": [
    "### trim_extremes\n",
    "Trim the edges of the DataFrame along provided columns with provided threshold."
   ]
  },
  {
   "cell_type": "code",
   "execution_count": 18,
   "metadata": {},
   "outputs": [],
   "source": [
    "def trim_extremes(data, *, cols, threshold):\n",
    "    # Convert single input as list\n",
    "    if type(cols) is not list:\n",
    "        cols = [cols]\n",
    "    # Go through each column. Rank the values by % then remove the extremes.\n",
    "    for c in cols:\n",
    "        data[f'{c}_pct'] = data[c].rank(pct=True)\n",
    "        data.drop(index=data[(data[f'{c}_pct'] <= threshold) | (data[f'{c}_pct'] >= (1 - threshold))].index, inplace=True)\n",
    "        data.drop(columns=f'{c}_pct', inplace=True)\n",
    "    data.drop(columns='forecasting_date', inplace=True)\n",
    "    return data"
   ]
  },
  {
   "cell_type": "markdown",
   "metadata": {
    "id": "t9CdFXc3GP1f"
   },
   "source": [
    "## Calculation"
   ]
  },
  {
   "cell_type": "code",
   "execution_count": 19,
   "metadata": {},
   "outputs": [],
   "source": [
    "analysis_end_date = historical['time'].max()"
   ]
  },
  {
   "cell_type": "markdown",
   "metadata": {
    "id": "pEQ-DRPsWWXr"
   },
   "source": [
    "Est. run time: 21m"
   ]
  },
  {
   "cell_type": "code",
   "execution_count": 20,
   "metadata": {
    "colab": {
     "base_uri": "https://localhost:8080/",
     "height": 1000
    },
    "id": "np-6id4wDJRa",
    "outputId": "9b8a848a-eeb6-4474-83eb-d5a380e89de0",
    "scrolled": true
   },
   "outputs": [],
   "source": [
    "metrics_norm = (dt[(dt['time'] > dt['forecasting_date']) & (dt['time'] < analysis_end_date)]\n",
    "                .groupby(['forecasting_date'])[list(dt.columns)]\n",
    "                .apply(eval_metrics, normalize=True))\n",
    "metrics_norm.reset_index().to_csv('data/metrics/kern_metrics_normalized.csv', index=False)"
   ]
  },
  {
   "cell_type": "code",
   "execution_count": 21,
   "metadata": {
    "colab": {
     "base_uri": "https://localhost:8080/",
     "height": 1000
    },
    "id": "np-6id4wDJRa",
    "outputId": "9b8a848a-eeb6-4474-83eb-d5a380e89de0",
    "scrolled": true
   },
   "outputs": [],
   "source": [
    "metrics_norm = pd.read_csv('data/metrics/kern_metrics_normalized.csv').drop(['level_1'], axis=1)\n",
    "metrics_norm['forecasting_date'] = pd.to_datetime(metrics_norm['forecasting_date'])"
   ]
  },
  {
   "cell_type": "code",
   "execution_count": 22,
   "metadata": {},
   "outputs": [
    {
     "name": "stdout",
     "output_type": "stream",
     "text": [
      "<class 'pandas.core.frame.DataFrame'>\n",
      "MultiIndex: 34746 entries, (Timestamp('2024-01-01 00:00:00'), 2) to (Timestamp('2024-04-22 00:00:00'), 55384)\n",
      "Data columns (total 8 columns):\n",
      " #   Column       Non-Null Count  Dtype  \n",
      "---  ------       --------------  -----  \n",
      " 0   field_id     34746 non-null  object \n",
      " 1   crop         34746 non-null  int64  \n",
      " 2   mae          34746 non-null  float64\n",
      " 3   rmse         34746 non-null  float64\n",
      " 4   corr         34746 non-null  float64\n",
      " 5   bias         34746 non-null  float64\n",
      " 6   skill_score  34746 non-null  float64\n",
      " 7   variable     34746 non-null  object \n",
      "dtypes: float64(5), int64(1), object(2)\n",
      "memory usage: 3.6+ MB\n"
     ]
    }
   ],
   "source": [
    "metrics_norm = (metrics_norm.groupby(['forecasting_date'])[list(metrics_norm.columns)]\n",
    "                .apply(trim_extremes, cols=['mae', 'rmse', 'bias', 'corr', 'skill_score'], threshold=0.05))\n",
    "metrics_norm.info()"
   ]
  },
  {
   "cell_type": "code",
   "execution_count": 23,
   "metadata": {},
   "outputs": [
    {
     "data": {
      "text/html": [
       "<div>\n",
       "<style scoped>\n",
       "    .dataframe tbody tr th:only-of-type {\n",
       "        vertical-align: middle;\n",
       "    }\n",
       "\n",
       "    .dataframe tbody tr th {\n",
       "        vertical-align: top;\n",
       "    }\n",
       "\n",
       "    .dataframe thead th {\n",
       "        text-align: right;\n",
       "    }\n",
       "</style>\n",
       "<table border=\"1\" class=\"dataframe\">\n",
       "  <thead>\n",
       "    <tr style=\"text-align: right;\">\n",
       "      <th></th>\n",
       "      <th></th>\n",
       "      <th>field_id</th>\n",
       "      <th>crop</th>\n",
       "      <th>mae</th>\n",
       "      <th>rmse</th>\n",
       "      <th>corr</th>\n",
       "      <th>bias</th>\n",
       "      <th>skill_score</th>\n",
       "      <th>variable</th>\n",
       "    </tr>\n",
       "    <tr>\n",
       "      <th>forecasting_date</th>\n",
       "      <th></th>\n",
       "      <th></th>\n",
       "      <th></th>\n",
       "      <th></th>\n",
       "      <th></th>\n",
       "      <th></th>\n",
       "      <th></th>\n",
       "      <th></th>\n",
       "      <th></th>\n",
       "    </tr>\n",
       "  </thead>\n",
       "  <tbody>\n",
       "    <tr>\n",
       "      <th rowspan=\"5\" valign=\"top\">2024-01-01</th>\n",
       "      <th>2</th>\n",
       "      <td>CA_297927</td>\n",
       "      <td>61</td>\n",
       "      <td>0.58</td>\n",
       "      <td>0.45</td>\n",
       "      <td>0.57</td>\n",
       "      <td>-0.48</td>\n",
       "      <td>-1.00</td>\n",
       "      <td>ETof</td>\n",
       "    </tr>\n",
       "    <tr>\n",
       "      <th>3</th>\n",
       "      <td>CA_297932</td>\n",
       "      <td>204</td>\n",
       "      <td>0.32</td>\n",
       "      <td>0.24</td>\n",
       "      <td>0.57</td>\n",
       "      <td>-0.28</td>\n",
       "      <td>0.08</td>\n",
       "      <td>ETof</td>\n",
       "    </tr>\n",
       "    <tr>\n",
       "      <th>11</th>\n",
       "      <td>CA_298159</td>\n",
       "      <td>72</td>\n",
       "      <td>0.23</td>\n",
       "      <td>0.23</td>\n",
       "      <td>0.50</td>\n",
       "      <td>-0.11</td>\n",
       "      <td>0.57</td>\n",
       "      <td>ETof</td>\n",
       "    </tr>\n",
       "    <tr>\n",
       "      <th>12</th>\n",
       "      <td>CA_298160</td>\n",
       "      <td>72</td>\n",
       "      <td>0.48</td>\n",
       "      <td>0.47</td>\n",
       "      <td>0.44</td>\n",
       "      <td>-0.47</td>\n",
       "      <td>-1.00</td>\n",
       "      <td>ETof</td>\n",
       "    </tr>\n",
       "    <tr>\n",
       "      <th>13</th>\n",
       "      <td>CA_298170</td>\n",
       "      <td>72</td>\n",
       "      <td>0.43</td>\n",
       "      <td>0.39</td>\n",
       "      <td>0.79</td>\n",
       "      <td>-0.32</td>\n",
       "      <td>-1.00</td>\n",
       "      <td>ETof</td>\n",
       "    </tr>\n",
       "  </tbody>\n",
       "</table>\n",
       "</div>"
      ],
      "text/plain": [
       "                      field_id  crop   mae  rmse  corr  bias  skill_score  \\\n",
       "forecasting_date                                                            \n",
       "2024-01-01       2   CA_297927    61  0.58  0.45  0.57 -0.48        -1.00   \n",
       "                 3   CA_297932   204  0.32  0.24  0.57 -0.28         0.08   \n",
       "                 11  CA_298159    72  0.23  0.23  0.50 -0.11         0.57   \n",
       "                 12  CA_298160    72  0.48  0.47  0.44 -0.47        -1.00   \n",
       "                 13  CA_298170    72  0.43  0.39  0.79 -0.32        -1.00   \n",
       "\n",
       "                    variable  \n",
       "forecasting_date              \n",
       "2024-01-01       2      ETof  \n",
       "                 3      ETof  \n",
       "                 11     ETof  \n",
       "                 12     ETof  \n",
       "                 13     ETof  "
      ]
     },
     "execution_count": 23,
     "metadata": {},
     "output_type": "execute_result"
    }
   ],
   "source": [
    "metrics_norm.head()"
   ]
  },
  {
   "cell_type": "markdown",
   "metadata": {
    "id": "h_pex2AUJfH-"
   },
   "source": [
    "### Crop metrics"
   ]
  },
  {
   "cell_type": "code",
   "execution_count": null,
   "metadata": {
    "scrolled": true
   },
   "outputs": [],
   "source": [
    "crop_metrics = (dt[(dt['time'] > dt['forecasting_date']) & (dt['time'] < analysis_end_date)]\n",
    "                .groupby(by=['forecasting_date', 'crop'])[list(dt.columns)]\n",
    "                .apply(eval_metrics, normalize=True))\n",
    "crop_metrics.to_csv('data/metrics/kern_crop_metrics.csv')"
   ]
  },
  {
   "cell_type": "code",
   "execution_count": null,
   "metadata": {},
   "outputs": [],
   "source": [
    "crop_metrics = pd.read_csv('data/metrics/kern_crop_metrics.csv', low_memory=False)\n",
    "crop_metrics['forecasting_date'] = pd.to_datetime(crop_metrics['forecasting_date'])"
   ]
  },
  {
   "cell_type": "code",
   "execution_count": null,
   "metadata": {
    "scrolled": true
   },
   "outputs": [],
   "source": [
    "crop_metrics = (crop_metrics.groupby(['forecasting_date'])[list(crop_metrics.columns)]\n",
    "                    .apply(trim_extremes, cols=['mae', 'rmse', 'bias', 'corr', 'skill_score'], threshold=0.05)\n",
    "                    .drop(['Unnamed: 2', 'crop.1'], axis=1))\n",
    "crop_metrics.info()"
   ]
  },
  {
   "cell_type": "markdown",
   "metadata": {
    "id": "vbQIoeLKESnt"
   },
   "source": [
    "# Visualization"
   ]
  },
  {
   "cell_type": "markdown",
   "metadata": {
    "id": "vBmpinsWwKte"
   },
   "source": [
    "## Metric Correlation"
   ]
  },
  {
   "cell_type": "code",
   "execution_count": null,
   "metadata": {
    "colab": {
     "base_uri": "https://localhost:8080/",
     "height": 550
    },
    "id": "RAcg63PXUntJ",
    "outputId": "74dc6431-4e2f-4bf6-ad54-c8d1287ea01d"
   },
   "outputs": [],
   "source": [
    "plt.figure(figsize=(10, 6))\n",
    "metrics = ['mae', 'rmse', 'bias', 'corr', 'skill_score']\n",
    "corr_matrix = metrics_norm[metrics].corr()\n",
    "sns.heatmap(corr_matrix, annot=True, cmap='coolwarm', vmin=-1, vmax=1)\n",
    "plt.title('Correlation Heatmap of Metrics')\n",
    "plt.savefig('images/kern/field_metric_correlation.png')"
   ]
  },
  {
   "cell_type": "markdown",
   "metadata": {},
   "source": [
    "## Distribution of Metrics"
   ]
  },
  {
   "cell_type": "code",
   "execution_count": null,
   "metadata": {},
   "outputs": [],
   "source": [
    "# First reshape data from wide-form to long-form\n",
    "metrics_long = metrics_norm.reset_index().melt(id_vars=['forecasting_date', 'field_id', 'crop', 'variable'], value_vars=['mae', 'bias', 'skill_score'], var_name='stat')"
   ]
  },
  {
   "cell_type": "code",
   "execution_count": null,
   "metadata": {},
   "outputs": [],
   "source": [
    "# To help with visualization, map proper names to the stats\n",
    "stat_propers = {\n",
    "    'mae': 'Mean Absolute Error',\n",
    "    'rmse': 'Root Mean Absolute Error',\n",
    "    'bias': 'Mean Forecast Bias',\n",
    "    'corr': 'Correlation Coefficient',\n",
    "    'skill_score': 'Skill Score'\n",
    "}\n",
    "metrics_long['name'] = metrics_long['stat'].map(stat_propers)\n",
    "metrics_long.info()"
   ]
  },
  {
   "cell_type": "markdown",
   "metadata": {},
   "source": [
    "### Boxplot Distribution"
   ]
  },
  {
   "cell_type": "code",
   "execution_count": null,
   "metadata": {},
   "outputs": [],
   "source": [
    "rel = timeseries_rel(data=metrics_long, plot='cat', kind='box',\n",
    "                y='value', col='name', row='variable',\n",
    "                width=0.5, errorbar='sd',\n",
    "                flierprops=dict(markersize=0), title=\"Boxplot Distribution of Each Metric by Variable\",\n",
    "                export_img='field_boxplots.png', as_percent=True, margin_titles=True,\n",
    "                row_order=['ET', 'ETo', 'ETof'], title_template={\"col_template\":\"{col_name}\", \"row_template\":\"{row_name}\"},\n",
    "                facet_kws={\"despine\": False}, sharey='col', native_scale=True\n",
    "               );\n",
    "rel.axes.flat[2].yaxis.set_major_formatter('{x:.1f}');\n",
    "rel.axes.flat[2].set(ylim=(-1.25, 1.25));\n",
    "rel.axes.flat[2].set_yticks((1, 0.5, 0, -0.5, -1));\n",
    "rel.savefig('images/kern/field_boxplots.png')"
   ]
  },
  {
   "cell_type": "markdown",
   "metadata": {},
   "source": [
    "### Metric Distrbution by Standard Deviation"
   ]
  },
  {
   "cell_type": "code",
   "execution_count": null,
   "metadata": {},
   "outputs": [],
   "source": [
    "rel = timeseries_rel(metrics_long, row='variable', col='name', y='value',\n",
    "                     errorbar='sd', estimator=np.median, as_percent=True,\n",
    "                     facet_kws={'sharey': 'col', 'sharex': True, 'margin_titles': True}, aspect=1.5,\n",
    "                     row_order=['ET', 'ETo', 'ETof'], title_template={\"col_template\":\"{col_name}\", \"row_template\":\"{row_name}\"},\n",
    "                     title=\"Metric Range in Performance by Variable (1 Standard Deviation)\");\n",
    "rel.axes.flat[2].yaxis.set_major_formatter('{x:.1f}');\n",
    "rel.axes.flat[2].set(ylim=(-1.25, 1.25));\n",
    "rel.axes.flat[2].set_yticks((1, 0.5, 0, -0.5, -1));\n",
    "rel.savefig('images/kern/field_metric_range_sd.png')"
   ]
  },
  {
   "cell_type": "markdown",
   "metadata": {},
   "source": [
    "## Crop Metrics"
   ]
  },
  {
   "cell_type": "code",
   "execution_count": null,
   "metadata": {},
   "outputs": [],
   "source": [
    "# Reappend class names of crops for better readability in plots.\n",
    "metrics_long = metrics_long.join(cdl_codes, how=\"left\", on=\"crop\", validate=\"many_to_many\")"
   ]
  },
  {
   "cell_type": "code",
   "execution_count": null,
   "metadata": {},
   "outputs": [],
   "source": [
    "# crop_selector = dt.groupby('crop')['hectares'].agg('sum')[:3]\n",
    "crop_selector = [69, 72, 75]"
   ]
  },
  {
   "cell_type": "code",
   "execution_count": null,
   "metadata": {},
   "outputs": [],
   "source": [
    "dt[dt['crop'].isin(crop_selector)].groupby('crop')['field_id'].nunique()"
   ]
  },
  {
   "cell_type": "code",
   "execution_count": null,
   "metadata": {},
   "outputs": [],
   "source": [
    "crop_plotter = metrics_long[metrics_long['crop'].isin(crop_selector)]\n",
    "crop_plotter.head()"
   ]
  },
  {
   "cell_type": "markdown",
   "metadata": {},
   "source": [
    "### Probability Distributions"
   ]
  },
  {
   "cell_type": "code",
   "execution_count": null,
   "metadata": {},
   "outputs": [],
   "source": [
    "xranges = crop_plotter.groupby(['crop'])['value'].agg(np.ptp) * 1.1\n",
    "rel = timeseries_rel(crop_plotter[crop_plotter['variable'] == 'ET'], y='value', plot='rel', kind='line',\n",
    "               col='Class_Names', row='name',\n",
    "               facet_kws={'sharey': 'row', 'sharex': True, 'margin_titles': True, 'gridspec_kws':dict(width_ratios=xranges)}, \n",
    "               estimator=np.median, errorbar=('pi', 50), title_template={\"col_template\":\"{col_name}\", \"row_template\":\"{row_name}\"},\n",
    "               title='25-75th ET Crop Statistics', as_percent=True);\n",
    "rel.axes.flat[7].yaxis.set_major_formatter('{x:.1f}');\n",
    "rel.axes.flat[7].set(ylim=(-1.25, 1.25));\n",
    "rel.axes.flat[7].set_yticks((1, 0.5, 0, -0.5, -1));\n",
    "rel.savefig(\"images/kern/et_crop_stats.png\")"
   ]
  },
  {
   "cell_type": "code",
   "execution_count": null,
   "metadata": {},
   "outputs": [],
   "source": [
    "rel = timeseries_rel(crop_plotter[crop_plotter['variable'] == 'ETo'], y='value', plot='rel', kind='line', errorbar=('pi', 50),\n",
    "                                col='Class_Names', row='name', facet_kws={'sharey': 'row', 'sharex': True, \"margin_titles\": True}, \n",
    "                                estimator=np.median, export_img=\"eto_crop_stats\", title_template={\"col_template\":\"{col_name}\", \"row_template\":\"{row_name}\"},\n",
    "                                title='25-75th ETo Crop Statistics', as_percent=True);\n",
    "rel.axes.flat[7].yaxis.set_major_formatter('{x:.1f}');\n",
    "rel.axes.flat[7].set(ylim=(-1.25, 1.25));\n",
    "rel.axes.flat[7].set_yticks((1, 0.5, 0, -0.5, -1));\n",
    "rel.savefig(\"images/kern/eto_crop_stats.png\")"
   ]
  },
  {
   "cell_type": "code",
   "execution_count": null,
   "metadata": {},
   "outputs": [],
   "source": [
    "rel = timeseries_rel(crop_plotter[crop_plotter['variable'] == 'ETof'], y='value', plot='rel', kind='line', errorbar=('pi', 50),\n",
    "                                col='Class_Names', row='name', facet_kws={'sharey': 'row', 'sharex': True, 'margin_titles': True},\n",
    "                                estimator=np.median, export_img=\"etof_crop_metrics\", title_template={\"col_template\":\"{col_name}\", \"row_template\":\"{row_name}\"},\n",
    "                                title='25-75th ETof Crop Statistics', as_percent=True);\n",
    "rel.axes.flat[7].yaxis.set_major_formatter('{x:.1f}');\n",
    "rel.axes.flat[7].set(ylim=(-1.25, 1.25));\n",
    "rel.axes.flat[7].set_yticks((1, 0.5, 0, -0.5, -1));\n",
    "rel.savefig(\"images/kern/etof_crop_stats.png\")"
   ]
  },
  {
   "cell_type": "markdown",
   "metadata": {},
   "source": [
    "## Forecast - Climatology Comparison"
   ]
  },
  {
   "cell_type": "code",
   "execution_count": null,
   "metadata": {},
   "outputs": [],
   "source": [
    "metrics_long.info()"
   ]
  },
  {
   "cell_type": "code",
   "execution_count": null,
   "metadata": {},
   "outputs": [],
   "source": [
    "forecast_climatology_metrics = metrics_long[['forecasting_date', 'field_id', 'crop', 'variable', 'stat', 'value']]"
   ]
  },
  {
   "cell_type": "markdown",
   "metadata": {
    "id": "hHCfsDxkZch2"
   },
   "source": [
    "## Spatial Plotting"
   ]
  },
  {
   "cell_type": "markdown",
   "metadata": {
    "id": "2n5XwM9RZgBf"
   },
   "source": [
    "### Preparation\n",
    "\n",
    "First merge the geo table created in the beginning with the metrics table.\n",
    "\n",
    "Afterwards, get the average metrics amongst all forecasts."
   ]
  },
  {
   "cell_type": "code",
   "execution_count": null,
   "metadata": {},
   "outputs": [],
   "source": [
    "# Define date range of seasons\n",
    "winter = (datetime(year=2024, month=1, day=1), datetime(year=2024, month=3, day=20)) # Start winter at start of forecast range\n",
    "spring = (datetime(year=2024, month=3, day=21), datetime(year=2024, month=6, day=20))\n",
    "summer = (datetime(year=2024, month=6, day=21), datetime(year=2024, month=9, day=20))\n",
    "\n",
    "# Create list of the forecast dates that fit the seasonal ranges\n",
    "winter_forecasts = pd.Series([x for x in forecast_dates if x >= winter[0] and x <= winter[1]])\n",
    "spring_forecasts = pd.Series([x for x in forecast_dates if x >= spring[0] and x <= spring[1]])\n",
    "summer_forecasts = pd.Series([x for x in forecast_dates if x >= summer[0] and x <= summer[1]])\n",
    "\n",
    "def assign_season(x):\n",
    "    season = \"\"\n",
    "    if winter_forecasts.isin([x['forecasting_date']]).any():\n",
    "        season = \"Winter\"\n",
    "    elif spring_forecasts.isin([x['forecasting_date']]).any():\n",
    "        season = \"Spring\"\n",
    "    elif summer_forecasts.isin([x['forecasting_date']]).any():\n",
    "        season = \"Summer\"\n",
    "    return pd.Series({'season': season})"
   ]
  },
  {
   "cell_type": "code",
   "execution_count": null,
   "metadata": {
    "colab": {
     "base_uri": "https://localhost:8080/",
     "height": 455
    },
    "id": "IeouNzJlZjbs",
    "outputId": "4ccad14e-181c-4986-b963-a646c31f2c9a"
   },
   "outputs": [],
   "source": [
    "# Create column that defines a row's season\n",
    "seasonal_metrics = metrics_norm.reset_index().sort_values(by='forecasting_date').merge(metrics_norm.reset_index().apply(assign_season, axis=1), left_index=True, right_index=True)\n",
    "\n",
    "# Combine all forecasts for each field by getting mean of forecast metrics.\n",
    "seasonal_metrics = seasonal_metrics.groupby(['field_id', 'season', 'variable'])[['mae', 'rmse', 'bias', 'corr', 'skill_score']].agg('mean').round(2)\n",
    "\n",
    "# Add positional columns\n",
    "seasonal_metrics = seasonal_metrics.join(kern_geo, how='left', on='field_id', validate='many_to_one')\n",
    "# Add field size column for marker size\n",
    "seasonal_metrics = seasonal_metrics.join(field_metadata, how='left', on='field_id', validate='many_to_one')\n",
    "# Calculate marker size\n",
    "seasonal_metrics['markersize'] = seasonal_metrics.apply(lambda x: np.max(np.divmod(x['hectares'] / 10, 10)[1], initial=2.0), axis=1)\n",
    "\n",
    "seasonal_metrics.reset_index(inplace=True)\n",
    "seasonal_metrics.dropna(inplace=True)\n",
    "seasonal_metrics"
   ]
  },
  {
   "cell_type": "markdown",
   "metadata": {
    "id": "TLVFsFZ6NSQ-"
   },
   "source": [
    "#### Import regional polygon"
   ]
  },
  {
   "cell_type": "code",
   "execution_count": null,
   "metadata": {
    "colab": {
     "base_uri": "https://localhost:8080/",
     "height": 89
    },
    "id": "Y7UFuggKNVXe",
    "outputId": "5a441034-0dba-4bcf-9e22-7391e260648e"
   },
   "outputs": [],
   "source": [
    "keco_geo = gpd.read_file(\"./data/geo/Kern_County_Boundary.geojson\")\n",
    "keco_geo"
   ]
  },
  {
   "cell_type": "markdown",
   "metadata": {},
   "source": [
    "#### FacetGrid Geo Helper"
   ]
  },
  {
   "cell_type": "code",
   "execution_count": null,
   "metadata": {},
   "outputs": [],
   "source": [
    "def facet_geoscatter(data, *, boundary_map, col, row=None, hue, palette=\"YlOrRd\", size=8,\n",
    "                     title, export_img: bool|str=None, height=4, aspect=1.2, double_legend=False,\n",
    "                     row_order=None, col_order=None, title_template={}, as_percent=True,\n",
    "                     normalize_cmap=False):\n",
    "    g = sns.FacetGrid(data, col=col, row=row, height=height, aspect=aspect, despine=False, row_order=row_order, col_order=col_order)\n",
    "    for ax in g.axes.flat:\n",
    "     boundary_map.plot(color=\"lightgrey\", ax=ax)\n",
    "\n",
    "    norm = None\n",
    "    \n",
    "    if normalize_cmap:\n",
    "        norm = mcolors.TwoSlopeNorm(vcenter=0, vmin=data[hue].min(), vmax=data[hue].max())\n",
    "        c_mappable = cm.ScalarMappable(norm=norm, cmap=palette)\n",
    "        c_mappable.set_array(data[hue])\n",
    "    else: \n",
    "        c_mappable = plt.scatter([], [], c=[], vmin=data[hue].min(), vmax=data[hue].max(), cmap=palette);\n",
    "\n",
    "    g.map_dataframe(sns.scatterplot, x=\"longitude\", y=\"latitude\", hue=hue, hue_norm=norm, palette=palette, linewidths=0, size=size);\n",
    "    g.tick_params(axis='x', rotation=90)\n",
    "    g.set_titles(**title_template)\n",
    "    plt.suptitle(title, y=.85);\n",
    "\n",
    "    g.figure.subplots_adjust(right=.92)\n",
    "    cax = g.fig.add_axes([.94, .25, .02, .5])\n",
    "    g.figure.colorbar(c_mappable, cax=cax)\n",
    "    if as_percent:\n",
    "        cax.yaxis.set_major_formatter(mtick.PercentFormatter(1.0))\n",
    "    if double_legend is not False:\n",
    "        g.figure.subplots_adjust(right=.90)\n",
    "        dax = cax.twinx()\n",
    "        if type(double_legend) is not bool:\n",
    "            dax.set(ylim=(double_legend.min()['value'], double_legend.max()['value']))\n",
    "\n",
    "    if type(export_img) is bool and save is True: g.savefig(f'images/kern/{title}.png')\n",
    "    elif type(export_img) is str: g.savefig(f'images/kern/{export_img}.png')\n",
    "    \n",
    "    return g"
   ]
  },
  {
   "cell_type": "code",
   "execution_count": null,
   "metadata": {},
   "outputs": [],
   "source": [
    "plt.rcdefaults()"
   ]
  },
  {
   "cell_type": "markdown",
   "metadata": {
    "id": "gDj2q-oBMj_q"
   },
   "source": [
    "### Seasonal Overview"
   ]
  },
  {
   "cell_type": "markdown",
   "metadata": {},
   "source": [
    "#### ET Visualization"
   ]
  },
  {
   "cell_type": "code",
   "execution_count": null,
   "metadata": {},
   "outputs": [],
   "source": [
    "et_seasonal = seasonal_metrics[seasonal_metrics['variable'] == 'ET']"
   ]
  },
  {
   "cell_type": "code",
   "execution_count": null,
   "metadata": {},
   "outputs": [],
   "source": [
    "facet_geoscatter(et_seasonal, boundary_map=keco_geo, col='season', hue='skill_score', palette='Spectral', size='markersize',\n",
    "                 as_percent=False, normalize_cmap=True, export_img=\"et_spatial_skill_score\", \n",
    "                 col_order=['Winter', 'Spring', 'Summer'], title_template={\"template\":\"{col_name}\"},\n",
    "                 title=\"Average ET Skill Score across Monterey County by Season\");"
   ]
  },
  {
   "cell_type": "code",
   "execution_count": null,
   "metadata": {
    "colab": {
     "base_uri": "https://localhost:8080/",
     "height": 517
    },
    "id": "oRbL1Xi2RX6c",
    "outputId": "84cd41c9-1e5e-4dec-c8a0-3538792b1d26"
   },
   "outputs": [],
   "source": [
    "facet_geoscatter(et_seasonal, boundary_map=keco_geo, col='season', hue='corr', export_img=\"et_spatial_corr\", size='markersize',\n",
    "                     col_order=['Winter', 'Spring', 'Summer'], normalize_cmap=True, title_template={\"template\":\"{col_name}\"},\n",
    "                     title=\"Average ET Forecast Correlation across Monterey County by Season\", palette='Spectral');"
   ]
  },
  {
   "cell_type": "code",
   "execution_count": null,
   "metadata": {
    "colab": {
     "base_uri": "https://localhost:8080/",
     "height": 518
    },
    "id": "ev4VcBLEaDZg",
    "outputId": "a2128947-59e5-4df6-a4cc-247738cca344"
   },
   "outputs": [],
   "source": [
    "facet_geoscatter(et_seasonal, boundary_map=keco_geo, col='season', hue='mae',export_img=\"et_spatial_mae\", size='markersize',\n",
    "                     col_order=['Winter', 'Spring', 'Summer'], title_template={\"template\":\"{col_name}\"},\n",
    "                     title=\"Average ET MAE across Monterey County by Season\");"
   ]
  },
  {
   "cell_type": "code",
   "execution_count": null,
   "metadata": {
    "colab": {
     "base_uri": "https://localhost:8080/",
     "height": 517
    },
    "id": "c93zyG18RSeq",
    "outputId": "1598e259-ded1-4567-817d-c2fd099f8c11"
   },
   "outputs": [],
   "source": [
    "facet_geoscatter(et_seasonal, boundary_map=keco_geo, col='season', hue='bias', palette='Spectral', export_img=\"et_spatial_bias\", size='markersize',\n",
    "                     col_order=['Winter', 'Spring', 'Summer'], normalize_cmap=True, title_template={\"template\":\"{col_name}\"},\n",
    "                     title=\"Average ET Forecast Bias across Monterey County by Season\");"
   ]
  },
  {
   "cell_type": "code",
   "execution_count": null,
   "metadata": {
    "colab": {
     "base_uri": "https://localhost:8080/",
     "height": 517
    },
    "id": "9Bq3UwiDQ3el",
    "outputId": "a40579a4-96b8-4435-bc6e-c1b7f28c122a"
   },
   "outputs": [],
   "source": [
    "facet_geoscatter(et_seasonal, boundary_map=keco_geo, col='season', hue='rmse', export_img=\"et_spatial_rmse\", size='markersize',\n",
    "                     col_order=['Winter', 'Spring', 'Summer'], title_template={\"template\":\"{col_name}\"},\n",
    "                     title=\"Average ET RMSE across Monterey County by Season\");"
   ]
  },
  {
   "cell_type": "markdown",
   "metadata": {},
   "source": [
    "#### ETo Visualization"
   ]
  },
  {
   "cell_type": "code",
   "execution_count": null,
   "metadata": {},
   "outputs": [],
   "source": [
    "eto_seasonal = seasonal_metrics[seasonal_metrics['variable'] == 'ETo']"
   ]
  },
  {
   "cell_type": "code",
   "execution_count": null,
   "metadata": {},
   "outputs": [],
   "source": [
    "facet_geoscatter(eto_seasonal, boundary_map=keco_geo, col='season', hue='skill_score', export_img=\"eto_spatial_skill_score\", as_percent=False, size='markersize',\n",
    "                     col_order=['Winter', 'Spring', 'Summer'], title_template={\"template\":\"{col_name}\"}, # normalize_cmap=True,\n",
    "                     title=\"Average ETo Skill Score across Monterey County by Season\", palette='Spectral');"
   ]
  },
  {
   "cell_type": "code",
   "execution_count": null,
   "metadata": {},
   "outputs": [],
   "source": [
    "facet_geoscatter(eto_seasonal, boundary_map=keco_geo, col='season', hue='corr', export_img=\"eto_spatial_corr\", size='markersize',\n",
    "                     col_order=['Winter', 'Spring', 'Summer'], title_template={\"template\":\"{col_name}\"},# normalize_cmap=True,\n",
    "                     title=\"Average ETo Forecast Correlation across Monterey County by Season\", palette='Spectral');"
   ]
  },
  {
   "cell_type": "code",
   "execution_count": null,
   "metadata": {},
   "outputs": [],
   "source": [
    "facet_geoscatter(eto_seasonal, boundary_map=keco_geo, col='season', hue='mae',export_img=\"eto_spatial_mae\", size='markersize',\n",
    "                     col_order=['Winter', 'Spring', 'Summer'], title_template={\"template\":\"{col_name}\"},\n",
    "                     title=\"Average ETo MAE across Monterey County by Season\");"
   ]
  },
  {
   "cell_type": "code",
   "execution_count": null,
   "metadata": {},
   "outputs": [],
   "source": [
    "facet_geoscatter(eto_seasonal, boundary_map=keco_geo, col='season', hue='rmse', export_img=\"eto_spatial_rmse\", size='markersize',\n",
    "                     col_order=['Winter', 'Spring', 'Summer'], title_template={\"template\":\"{col_name}\"},\n",
    "                     title=\"Average ETo RMSE across Monterey County by Season\");"
   ]
  },
  {
   "cell_type": "code",
   "execution_count": null,
   "metadata": {},
   "outputs": [],
   "source": [
    "facet_geoscatter(eto_seasonal, boundary_map=keco_geo, col='season', hue='bias', palette='Spectral', export_img=\"eto_spatial_bias\", size='markersize',\n",
    "                     col_order=['Winter', 'Spring', 'Summer'],# normalize_cmap=True, title_template={\"template\":\"{col_name}\"},\n",
    "                     title=\"Average ETo Forecast Bias across Monterey County by Season\");"
   ]
  },
  {
   "cell_type": "markdown",
   "metadata": {},
   "source": [
    "#### EToF Visualization"
   ]
  },
  {
   "cell_type": "code",
   "execution_count": null,
   "metadata": {},
   "outputs": [],
   "source": [
    "etof_seasonal = seasonal_metrics[seasonal_metrics['variable'] == 'ETof']"
   ]
  },
  {
   "cell_type": "code",
   "execution_count": null,
   "metadata": {},
   "outputs": [],
   "source": [
    "facet_geoscatter(etof_seasonal, boundary_map=keco_geo, col='season', hue='skill_score', size='markersize', export_img=\"etof_spatial_skill_score\", as_percent=False,\n",
    "                     col_order=['Winter', 'Spring', 'Summer'], normalize_cmap=True, title_template={\"template\":\"{col_name}\"},\n",
    "                     title=\"Average EToF Skill Score across Monterey County by Season\", palette='Spectral');"
   ]
  },
  {
   "cell_type": "code",
   "execution_count": null,
   "metadata": {},
   "outputs": [],
   "source": [
    "facet_geoscatter(etof_seasonal, boundary_map=keco_geo, col='season', hue='corr', size='markersize', export_img=\"etof_spatial_corr\",\n",
    "                     col_order=['Winter', 'Spring', 'Summer'], normalize_cmap=True, title_template={\"template\":\"{col_name}\"},\n",
    "                     title=\"Average EToF Forecast Correlation across Monterey County by Season\", palette='Spectral');"
   ]
  },
  {
   "cell_type": "code",
   "execution_count": null,
   "metadata": {},
   "outputs": [],
   "source": [
    "facet_geoscatter(etof_seasonal, boundary_map=keco_geo, col='season', hue='mae', size='markersize', export_img=\"etof_spatial_mae\",\n",
    "                     col_order=['Winter', 'Spring', 'Summer'], title_template={\"template\":\"{col_name}\"},\n",
    "                     title=\"Average EToF MAE across Monterey County by Season\");"
   ]
  },
  {
   "cell_type": "code",
   "execution_count": null,
   "metadata": {},
   "outputs": [],
   "source": [
    "facet_geoscatter(etof_seasonal, boundary_map=keco_geo, col='season', hue='rmse', size='markersize', export_img=\"etof_spatial_rmse\",\n",
    "                     col_order=['Winter', 'Spring', 'Summer'], title_template={\"template\":\"{col_name}\"},\n",
    "                     title=\"Average EToF RMSE across Monterey County by Season\");"
   ]
  },
  {
   "cell_type": "code",
   "execution_count": null,
   "metadata": {},
   "outputs": [],
   "source": [
    "facet_geoscatter(etof_seasonal, boundary_map=keco_geo, col='season', hue='bias', size='markersize', palette='Spectral', export_img=\"etof_spatial_bias\",\n",
    "                     col_order=['Winter', 'Spring', 'Summer'], normalize_cmap=True, title_template={\"template\":\"{col_name}\"},\n",
    "                     title=\"Average EToF Forecast Bias across Monterey County by Season\");"
   ]
  },
  {
   "cell_type": "markdown",
   "metadata": {},
   "source": [
    "#### Summer Overview"
   ]
  },
  {
   "cell_type": "code",
   "execution_count": null,
   "metadata": {},
   "outputs": [],
   "source": [
    "summer_metrics = seasonal_metrics[seasonal_metrics['season'] == 'Summer'][['field_id', 'variable', 'longitude', 'latitude', 'mae', 'bias', 'skill_score', 'markersize']]\n",
    "summer_metrics = summer_metrics.melt(id_vars=['field_id', 'variable', 'longitude', 'latitude', 'markersize'], value_vars=['mae', 'bias', 'skill_score'], var_name='stat')\n",
    "summer_metrics.head()"
   ]
  },
  {
   "cell_type": "code",
   "execution_count": null,
   "metadata": {},
   "outputs": [],
   "source": [
    "# Add subtitles into the data to insert into the plots\n",
    "subtitle_dict = {\n",
    "    'mae': 'Mean Absolute Error',\n",
    "    'bias': 'Forecast Bias',\n",
    "    'skill_score': 'Skill Score'\n",
    "}\n",
    "summer_metrics['name'] = summer_metrics['stat'].map(subtitle_dict)"
   ]
  },
  {
   "cell_type": "code",
   "execution_count": null,
   "metadata": {},
   "outputs": [],
   "source": [
    "# Keyword for double-sided legend\n",
    "sm_skill_score = summer_metrics[summer_metrics['stat'] == 'skill_score']"
   ]
  },
  {
   "cell_type": "code",
   "execution_count": null,
   "metadata": {},
   "outputs": [],
   "source": [
    "# Create subplot grid for each metric\n",
    "g = facet_geoscatter(summer_metrics[summer_metrics['variable'] == 'ET'], boundary_map=keco_geo, col='name', hue='value', size='markersize', normalize_cmap=True,\n",
    "                     title='ET Summer Metric Overview for Monterey County', title_template={\"template\": \"{col_name}\"}, export_img=\"et_summer_spatial\",\n",
    "                     double_legend=sm_skill_score[sm_skill_score['variable'] == 'ET']);"
   ]
  },
  {
   "cell_type": "code",
   "execution_count": null,
   "metadata": {},
   "outputs": [],
   "source": [
    "# Create subplot grid for each metric\n",
    "g = facet_geoscatter(summer_metrics[summer_metrics['variable'] == 'ETo'], boundary_map=keco_geo, col='name', hue='value', size='markersize', normalize_cmap=True,\n",
    "                     title='ETo Summer Metric Overview for Monterey County', title_template={\"template\": \"{col_name}\"}, export_img=\"eto_summer_spatial\",\n",
    "                     double_legend=sm_skill_score[sm_skill_score['variable'] == 'ETo']);"
   ]
  },
  {
   "cell_type": "code",
   "execution_count": null,
   "metadata": {},
   "outputs": [],
   "source": [
    "# Create subplot grid for each metric\n",
    "g = facet_geoscatter(summer_metrics[summer_metrics['variable'] == 'ETof'], boundary_map=keco_geo, col='name', hue='value', size='markersize', normalize_cmap=True,\n",
    "                     title='EToF Summer Metric Overview for Monterey County', title_template={\"template\": \"{col_name}\"}, export_img=\"etof_summer_spatial\",\n",
    "                     double_legend=sm_skill_score[sm_skill_score['variable'] == 'ETof']);"
   ]
  }
 ],
 "metadata": {
  "colab": {
   "provenance": [],
   "toc_visible": true
  },
  "kernelspec": {
   "display_name": "Python 3 (ipykernel)",
   "language": "python",
   "name": "python3"
  },
  "language_info": {
   "codemirror_mode": {
    "name": "ipython",
    "version": 3
   },
   "file_extension": ".py",
   "mimetype": "text/x-python",
   "name": "python",
   "nbconvert_exporter": "python",
   "pygments_lexer": "ipython3",
   "version": "3.11.9"
  }
 },
 "nbformat": 4,
 "nbformat_minor": 4
}
